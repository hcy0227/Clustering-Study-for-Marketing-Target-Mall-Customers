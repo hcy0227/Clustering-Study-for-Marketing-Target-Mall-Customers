{
 "cells": [
  {
   "cell_type": "code",
   "execution_count": 1,
   "id": "0d29ca09",
   "metadata": {},
   "outputs": [],
   "source": [
    "# Importing the Libraries\n",
    "import numpy as np\n",
    "import pandas as pd\n",
    "import matplotlib\n",
    "import matplotlib.pyplot as plt\n",
    "import seaborn as sns\n",
    "from sklearn.preprocessing import LabelEncoder\n",
    "from sklearn.preprocessing import StandardScaler\n",
    "from sklearn.decomposition import PCA\n",
    "from sklearn.cluster import KMeans\n",
    "from sklearn.cluster import AgglomerativeClustering"
   ]
  },
  {
   "cell_type": "code",
   "execution_count": 2,
   "id": "ce3756a2",
   "metadata": {},
   "outputs": [],
   "source": [
    "#Loading the dataset\n",
    "df = pd.read_csv('Mall_Customers.csv')"
   ]
  },
  {
   "cell_type": "code",
   "execution_count": 3,
   "id": "11f4d9c2",
   "metadata": {},
   "outputs": [
    {
     "data": {
      "text/html": [
       "<div>\n",
       "<style scoped>\n",
       "    .dataframe tbody tr th:only-of-type {\n",
       "        vertical-align: middle;\n",
       "    }\n",
       "\n",
       "    .dataframe tbody tr th {\n",
       "        vertical-align: top;\n",
       "    }\n",
       "\n",
       "    .dataframe thead th {\n",
       "        text-align: right;\n",
       "    }\n",
       "</style>\n",
       "<table border=\"1\" class=\"dataframe\">\n",
       "  <thead>\n",
       "    <tr style=\"text-align: right;\">\n",
       "      <th></th>\n",
       "      <th>CustomerID</th>\n",
       "      <th>Gender</th>\n",
       "      <th>Age</th>\n",
       "      <th>Annual Income (k$)</th>\n",
       "      <th>Spending Score (1-100)</th>\n",
       "    </tr>\n",
       "  </thead>\n",
       "  <tbody>\n",
       "    <tr>\n",
       "      <th>0</th>\n",
       "      <td>1</td>\n",
       "      <td>Male</td>\n",
       "      <td>19</td>\n",
       "      <td>15</td>\n",
       "      <td>39</td>\n",
       "    </tr>\n",
       "    <tr>\n",
       "      <th>1</th>\n",
       "      <td>2</td>\n",
       "      <td>Male</td>\n",
       "      <td>21</td>\n",
       "      <td>15</td>\n",
       "      <td>81</td>\n",
       "    </tr>\n",
       "    <tr>\n",
       "      <th>2</th>\n",
       "      <td>3</td>\n",
       "      <td>Female</td>\n",
       "      <td>20</td>\n",
       "      <td>16</td>\n",
       "      <td>6</td>\n",
       "    </tr>\n",
       "    <tr>\n",
       "      <th>3</th>\n",
       "      <td>4</td>\n",
       "      <td>Female</td>\n",
       "      <td>23</td>\n",
       "      <td>16</td>\n",
       "      <td>77</td>\n",
       "    </tr>\n",
       "    <tr>\n",
       "      <th>4</th>\n",
       "      <td>5</td>\n",
       "      <td>Female</td>\n",
       "      <td>31</td>\n",
       "      <td>17</td>\n",
       "      <td>40</td>\n",
       "    </tr>\n",
       "  </tbody>\n",
       "</table>\n",
       "</div>"
      ],
      "text/plain": [
       "   CustomerID  Gender  Age  Annual Income (k$)  Spending Score (1-100)\n",
       "0           1    Male   19                  15                      39\n",
       "1           2    Male   21                  15                      81\n",
       "2           3  Female   20                  16                       6\n",
       "3           4  Female   23                  16                      77\n",
       "4           5  Female   31                  17                      40"
      ]
     },
     "execution_count": 3,
     "metadata": {},
     "output_type": "execute_result"
    }
   ],
   "source": [
    "df.head()"
   ]
  },
  {
   "cell_type": "code",
   "execution_count": 4,
   "id": "792e021d",
   "metadata": {},
   "outputs": [
    {
     "name": "stdout",
     "output_type": "stream",
     "text": [
      "<class 'pandas.core.frame.DataFrame'>\n",
      "RangeIndex: 200 entries, 0 to 199\n",
      "Data columns (total 5 columns):\n",
      " #   Column                  Non-Null Count  Dtype \n",
      "---  ------                  --------------  ----- \n",
      " 0   CustomerID              200 non-null    int64 \n",
      " 1   Gender                  200 non-null    object\n",
      " 2   Age                     200 non-null    int64 \n",
      " 3   Annual Income (k$)      200 non-null    int64 \n",
      " 4   Spending Score (1-100)  200 non-null    int64 \n",
      "dtypes: int64(4), object(1)\n",
      "memory usage: 7.9+ KB\n"
     ]
    }
   ],
   "source": [
    "df.info()"
   ]
  },
  {
   "cell_type": "code",
   "execution_count": 5,
   "id": "9738028d",
   "metadata": {},
   "outputs": [
    {
     "data": {
      "text/html": [
       "<div>\n",
       "<style scoped>\n",
       "    .dataframe tbody tr th:only-of-type {\n",
       "        vertical-align: middle;\n",
       "    }\n",
       "\n",
       "    .dataframe tbody tr th {\n",
       "        vertical-align: top;\n",
       "    }\n",
       "\n",
       "    .dataframe thead th {\n",
       "        text-align: right;\n",
       "    }\n",
       "</style>\n",
       "<table border=\"1\" class=\"dataframe\">\n",
       "  <thead>\n",
       "    <tr style=\"text-align: right;\">\n",
       "      <th></th>\n",
       "      <th>CustomerID</th>\n",
       "      <th>Age</th>\n",
       "      <th>Annual Income (k$)</th>\n",
       "      <th>Spending Score (1-100)</th>\n",
       "    </tr>\n",
       "  </thead>\n",
       "  <tbody>\n",
       "    <tr>\n",
       "      <th>count</th>\n",
       "      <td>200.000000</td>\n",
       "      <td>200.000000</td>\n",
       "      <td>200.000000</td>\n",
       "      <td>200.000000</td>\n",
       "    </tr>\n",
       "    <tr>\n",
       "      <th>mean</th>\n",
       "      <td>100.500000</td>\n",
       "      <td>38.850000</td>\n",
       "      <td>60.560000</td>\n",
       "      <td>50.200000</td>\n",
       "    </tr>\n",
       "    <tr>\n",
       "      <th>std</th>\n",
       "      <td>57.879185</td>\n",
       "      <td>13.969007</td>\n",
       "      <td>26.264721</td>\n",
       "      <td>25.823522</td>\n",
       "    </tr>\n",
       "    <tr>\n",
       "      <th>min</th>\n",
       "      <td>1.000000</td>\n",
       "      <td>18.000000</td>\n",
       "      <td>15.000000</td>\n",
       "      <td>1.000000</td>\n",
       "    </tr>\n",
       "    <tr>\n",
       "      <th>25%</th>\n",
       "      <td>50.750000</td>\n",
       "      <td>28.750000</td>\n",
       "      <td>41.500000</td>\n",
       "      <td>34.750000</td>\n",
       "    </tr>\n",
       "    <tr>\n",
       "      <th>50%</th>\n",
       "      <td>100.500000</td>\n",
       "      <td>36.000000</td>\n",
       "      <td>61.500000</td>\n",
       "      <td>50.000000</td>\n",
       "    </tr>\n",
       "    <tr>\n",
       "      <th>75%</th>\n",
       "      <td>150.250000</td>\n",
       "      <td>49.000000</td>\n",
       "      <td>78.000000</td>\n",
       "      <td>73.000000</td>\n",
       "    </tr>\n",
       "    <tr>\n",
       "      <th>max</th>\n",
       "      <td>200.000000</td>\n",
       "      <td>70.000000</td>\n",
       "      <td>137.000000</td>\n",
       "      <td>99.000000</td>\n",
       "    </tr>\n",
       "  </tbody>\n",
       "</table>\n",
       "</div>"
      ],
      "text/plain": [
       "       CustomerID         Age  Annual Income (k$)  Spending Score (1-100)\n",
       "count  200.000000  200.000000          200.000000              200.000000\n",
       "mean   100.500000   38.850000           60.560000               50.200000\n",
       "std     57.879185   13.969007           26.264721               25.823522\n",
       "min      1.000000   18.000000           15.000000                1.000000\n",
       "25%     50.750000   28.750000           41.500000               34.750000\n",
       "50%    100.500000   36.000000           61.500000               50.000000\n",
       "75%    150.250000   49.000000           78.000000               73.000000\n",
       "max    200.000000   70.000000          137.000000               99.000000"
      ]
     },
     "execution_count": 5,
     "metadata": {},
     "output_type": "execute_result"
    }
   ],
   "source": [
    "df.describe()"
   ]
  },
  {
   "cell_type": "code",
   "execution_count": 6,
   "id": "2c0fb90b",
   "metadata": {},
   "outputs": [
    {
     "data": {
      "text/plain": [
       "CustomerID                0\n",
       "Gender                    0\n",
       "Age                       0\n",
       "Annual Income (k$)        0\n",
       "Spending Score (1-100)    0\n",
       "dtype: int64"
      ]
     },
     "execution_count": 6,
     "metadata": {},
     "output_type": "execute_result"
    }
   ],
   "source": [
    "df.isnull().sum()"
   ]
  },
  {
   "cell_type": "code",
   "execution_count": 48,
   "id": "c9f9d676",
   "metadata": {},
   "outputs": [
    {
     "data": {
      "text/plain": [
       "<AxesSubplot:xlabel='count', ylabel='Gender'>"
      ]
     },
     "execution_count": 48,
     "metadata": {},
     "output_type": "execute_result"
    },
    {
     "data": {
      "image/png": "[encoded data removed]",
      "text/plain": [
       "<Figure size 1080x360 with 1 Axes>"
      ]
     },
     "metadata": {
      "needs_background": "light"
     },
     "output_type": "display_data"
    }
   ],
   "source": [
    "plt.figure(figsize=(15 , 5))\n",
    "sns.countplot(y='Gender', data=df)"
   ]
  },
  {
   "cell_type": "code",
   "execution_count": 51,
   "id": "cf20217d",
   "metadata": {},
   "outputs": [
    {
     "data": {
      "text/plain": [
       "<seaborn.axisgrid.FacetGrid at 0x25e18af3700>"
      ]
     },
     "execution_count": 51,
     "metadata": {},
     "output_type": "execute_result"
    },
    {
     "data": {
      "text/plain": [
       "<Figure size 1080x576 with 0 Axes>"
      ]
     },
     "metadata": {},
     "output_type": "display_data"
    },
    {
     "data": {
      "image/png": "[encoded data removed]",
      "text/plain": [
       "<Figure size 360x360 with 1 Axes>"
      ]
     },
     "metadata": {
      "needs_background": "light"
     },
     "output_type": "display_data"
    }
   ],
   "source": [
    "plt.figure(figsize=(15,8))\n",
    "sns.displot(df.get('Age'), kde=False)"
   ]
  },
  {
   "cell_type": "code",
   "execution_count": 59,
   "id": "e0b1c602",
   "metadata": {},
   "outputs": [
    {
     "data": {
      "text/plain": [
       "<AxesSubplot:xlabel='Age', ylabel='Annual Income (k$)'>"
      ]
     },
     "execution_count": 59,
     "metadata": {},
     "output_type": "execute_result"
    },
    {
     "data": {
      "text/plain": [
       "<Figure size 1080x1080 with 0 Axes>"
      ]
     },
     "metadata": {},
     "output_type": "display_data"
    },
    {
     "data": {
      "image/png": "[encoded data removed]",
      "text/plain": [
       "<Figure size 432x288 with 2 Axes>"
      ]
     },
     "metadata": {
      "needs_background": "light"
     },
     "output_type": "display_data"
    }
   ],
   "source": [
    "plt.figure(figsize=(15,15))\n",
    "df.plot.hexbin(x='Age', y='Annual Income (k$)', gridsize=15, sharex=False)"
   ]
  },
  {
   "cell_type": "code",
   "execution_count": 60,
   "id": "da8610e1",
   "metadata": {},
   "outputs": [
    {
     "data": {
      "text/plain": [
       "<AxesSubplot:xlabel='Annual Income (k$)', ylabel='Spending Score (1-100)'>"
      ]
     },
     "execution_count": 60,
     "metadata": {},
     "output_type": "execute_result"
    },
    {
     "data": {
      "image/png": "[encoded data removed]",
      "text/plain": [
       "<Figure size 432x288 with 2 Axes>"
      ]
     },
     "metadata": {
      "needs_background": "light"
     },
     "output_type": "display_data"
    }
   ],
   "source": [
    "df.plot.hexbin(x='Annual Income (k$)', y='Spending Score (1-100)', gridsize=15, sharex=False)"
   ]
  },
  {
   "cell_type": "code",
   "execution_count": 61,
   "id": "d3d52a9f",
   "metadata": {},
   "outputs": [
    {
     "data": {
      "text/plain": [
       "<AxesSubplot:xlabel='Age', ylabel='Spending Score (1-100)'>"
      ]
     },
     "execution_count": 61,
     "metadata": {},
     "output_type": "execute_result"
    },
    {
     "data": {
      "image/png": "[encoded data removed]",
      "text/plain": [
       "<Figure size 432x288 with 2 Axes>"
      ]
     },
     "metadata": {
      "needs_background": "light"
     },
     "output_type": "display_data"
    }
   ],
   "source": [
    "df.plot.hexbin(x='Age', y='Spending Score (1-100)', gridsize=15, sharex=False)"
   ]
  },
  {
   "cell_type": "code",
   "execution_count": 62,
   "id": "dfd86660",
   "metadata": {},
   "outputs": [
    {
     "data": {
      "text/plain": [
       "<seaborn.axisgrid.PairGrid at 0x25e186de040>"
      ]
     },
     "execution_count": 62,
     "metadata": {},
     "output_type": "execute_result"
    },
    {
     "data": {
      "image/png": "[encoded data removed]",
      "text/plain": [
       "<Figure size 720x720 with 20 Axes>"
      ]
     },
     "metadata": {
      "needs_background": "light"
     },
     "output_type": "display_data"
    }
   ],
   "source": [
    "sns.pairplot(df.drop(['CustomerID'], axis=1))"
   ]
  },
  {
   "cell_type": "code",
   "execution_count": 63,
   "id": "72c7daeb",
   "metadata": {},
   "outputs": [
    {
     "data": {
      "text/plain": [
       "<AxesSubplot:xlabel='Age', ylabel='Annual Income (k$)'>"
      ]
     },
     "execution_count": 63,
     "metadata": {},
     "output_type": "execute_result"
    },
    {
     "data": {
      "image/png": "[encoded data removed]",
      "text/plain": [
       "<Figure size 1440x720 with 1 Axes>"
      ]
     },
     "metadata": {
      "needs_background": "light"
     },
     "output_type": "display_data"
    }
   ],
   "source": [
    "plt.figure(figsize=(20,10))\n",
    "sns.scatterplot(data=df, x=\"Age\", y=\"Annual Income (k$)\", hue=\"Gender\")"
   ]
  },
  {
   "cell_type": "code",
   "execution_count": 64,
   "id": "e4e8c58b",
   "metadata": {},
   "outputs": [
    {
     "data": {
      "text/plain": [
       "<AxesSubplot:xlabel='Annual Income (k$)', ylabel='Spending Score (1-100)'>"
      ]
     },
     "execution_count": 64,
     "metadata": {},
     "output_type": "execute_result"
    },
    {
     "data": {
      "image/png": "[encoded data removed]",
      "text/plain": [
       "<Figure size 1440x720 with 1 Axes>"
      ]
     },
     "metadata": {
      "needs_background": "light"
     },
     "output_type": "display_data"
    }
   ],
   "source": [
    "plt.figure(figsize=(20,10))\n",
    "sns.scatterplot(data=df, x=\"Annual Income (k$)\", y=\"Spending Score (1-100)\", hue=\"Gender\")"
   ]
  },
  {
   "cell_type": "code",
   "execution_count": 65,
   "id": "d067bbb1",
   "metadata": {},
   "outputs": [
    {
     "data": {
      "image/png": "[encoded data removed]",
      "text/plain": [
       "<Figure size 1440x720 with 3 Axes>"
      ]
     },
     "metadata": {
      "needs_background": "light"
     },
     "output_type": "display_data"
    }
   ],
   "source": [
    "plt.figure(figsize=(20,10))\n",
    "# Distribution of values in Age , Annual Income and Spending Score according to Gender\n",
    "n = 0 \n",
    "for cols in ['Age' , 'Annual Income (k$)' , 'Spending Score (1-100)']:\n",
    "    n += 1 \n",
    "    plt.subplot(1 , 3 , n)\n",
    "    plt.subplots_adjust(hspace = 0.5 , wspace = 0.5)\n",
    "    sns.violinplot(x = cols , y = 'Gender' , data = df , palette = 'vlag')\n",
    "    sns.swarmplot(x = cols , y = 'Gender' , data = df)\n",
    "    plt.ylabel('Gender' if n == 1 else '')\n",
    "    plt.title('Boxplots & Swarmplots' if n == 2 else '')"
   ]
  },
  {
   "cell_type": "code",
   "execution_count": 66,
   "id": "bbee4801",
   "metadata": {},
   "outputs": [],
   "source": [
    "X = df[['Age' , 'Annual Income (k$)' ,'Spending Score (1-100)']]"
   ]
  },
  {
   "cell_type": "code",
   "execution_count": 67,
   "id": "93fc78db",
   "metadata": {},
   "outputs": [],
   "source": [
    "#Create PCA model\n",
    "pca = PCA(n_components=2)\n",
    "pca_mdl = pca.fit_transform(X)\n",
    "pca_df = pd.DataFrame(pca_mdl)"
   ]
  },
  {
   "cell_type": "code",
   "execution_count": 69,
   "id": "cc61c242",
   "metadata": {},
   "outputs": [
    {
     "data": {
      "text/plain": [
       "<AxesSubplot:xlabel='0', ylabel='1'>"
      ]
     },
     "execution_count": 69,
     "metadata": {},
     "output_type": "execute_result"
    },
    {
     "data": {
      "image/png": "[encoded data removed]",
      "text/plain": [
       "<Figure size 1440x720 with 1 Axes>"
      ]
     },
     "metadata": {
      "needs_background": "light"
     },
     "output_type": "display_data"
    }
   ],
   "source": [
    "plt.figure(figsize=(20,10))\n",
    "sns.scatterplot(x = pca_df[0], y = pca_df[1], hue=df.Gender)"
   ]
  },
  {
   "cell_type": "code",
   "execution_count": 84,
   "id": "c97c2d0f",
   "metadata": {},
   "outputs": [],
   "source": [
    "# Segmentation using Age , Annual Income and Spending Score\n",
    "inertia = []\n",
    "for k in range(1,8):\n",
    "    kmeans = KMeans(n_clusters=k, random_state=1).fit(X)\n",
    "    inertia.append(np.sqrt(kmeans.inertia_))"
   ]
  },
  {
   "cell_type": "code",
   "execution_count": 85,
   "id": "6d49ee72",
   "metadata": {},
   "outputs": [
    {
     "data": {
      "text/plain": [
       "Text(0, 0.5, 'Variance')"
      ]
     },
     "execution_count": 85,
     "metadata": {},
     "output_type": "execute_result"
    },
    {
     "data": {
      "image/png": "[encoded data removed]",
      "text/plain": [
       "<Figure size 1440x720 with 1 Axes>"
      ]
     },
     "metadata": {
      "needs_background": "light"
     },
     "output_type": "display_data"
    }
   ],
   "source": [
    "plt.figure(figsize=(20,10))\n",
    "plt.plot(range(1, 8), inertia, marker='s');\n",
    "plt.xlabel('$k$')\n",
    "plt.ylabel('Variance')"
   ]
  },
  {
   "cell_type": "code",
   "execution_count": 116,
   "id": "269639c9",
   "metadata": {},
   "outputs": [],
   "source": [
    "#create KMeans model\n",
    "kmeans = KMeans(n_clusters=2, random_state=1).fit(X)"
   ]
  },
  {
   "cell_type": "code",
   "execution_count": 117,
   "id": "37886edc",
   "metadata": {},
   "outputs": [],
   "source": [
    "y = kmeans.fit_predict(X)"
   ]
  },
  {
   "cell_type": "code",
   "execution_count": 118,
   "id": "3617f101",
   "metadata": {},
   "outputs": [
    {
     "data": {
      "text/html": [
       "<div>\n",
       "<style scoped>\n",
       "    .dataframe tbody tr th:only-of-type {\n",
       "        vertical-align: middle;\n",
       "    }\n",
       "\n",
       "    .dataframe tbody tr th {\n",
       "        vertical-align: top;\n",
       "    }\n",
       "\n",
       "    .dataframe thead th {\n",
       "        text-align: right;\n",
       "    }\n",
       "</style>\n",
       "<table border=\"1\" class=\"dataframe\">\n",
       "  <thead>\n",
       "    <tr style=\"text-align: right;\">\n",
       "      <th></th>\n",
       "      <th>0</th>\n",
       "      <th>1</th>\n",
       "    </tr>\n",
       "  </thead>\n",
       "  <tbody>\n",
       "    <tr>\n",
       "      <th>0</th>\n",
       "      <td>-31.870508</td>\n",
       "      <td>-33.001425</td>\n",
       "    </tr>\n",
       "    <tr>\n",
       "      <th>1</th>\n",
       "      <td>0.763397</td>\n",
       "      <td>-56.843865</td>\n",
       "    </tr>\n",
       "    <tr>\n",
       "      <th>2</th>\n",
       "      <td>-57.408726</td>\n",
       "      <td>-13.122936</td>\n",
       "    </tr>\n",
       "    <tr>\n",
       "      <th>3</th>\n",
       "      <td>-2.169896</td>\n",
       "      <td>-53.477905</td>\n",
       "    </tr>\n",
       "    <tr>\n",
       "      <th>4</th>\n",
       "      <td>-32.174920</td>\n",
       "      <td>-30.387005</td>\n",
       "    </tr>\n",
       "  </tbody>\n",
       "</table>\n",
       "</div>"
      ],
      "text/plain": [
       "           0          1\n",
       "0 -31.870508 -33.001425\n",
       "1   0.763397 -56.843865\n",
       "2 -57.408726 -13.122936\n",
       "3  -2.169896 -53.477905\n",
       "4 -32.174920 -30.387005"
      ]
     },
     "execution_count": 118,
     "metadata": {},
     "output_type": "execute_result"
    }
   ],
   "source": [
    "pca_df.head()"
   ]
  },
  {
   "cell_type": "code",
   "execution_count": 119,
   "id": "29d1f268",
   "metadata": {},
   "outputs": [
    {
     "data": {
      "text/plain": [
       "<AxesSubplot:xlabel='0', ylabel='1'>"
      ]
     },
     "execution_count": 119,
     "metadata": {},
     "output_type": "execute_result"
    },
    {
     "data": {
      "image/png": "[encoded data removed]",
      "text/plain": [
       "<Figure size 1440x720 with 1 Axes>"
      ]
     },
     "metadata": {
      "needs_background": "light"
     },
     "output_type": "display_data"
    }
   ],
   "source": [
    "plt.figure(figsize=(20,10))\n",
    "sns.scatterplot(x = pca_df[0], y = pca_df[1], hue=y)"
   ]
  },
  {
   "cell_type": "code",
   "execution_count": 120,
   "id": "90e7ba26",
   "metadata": {},
   "outputs": [],
   "source": [
    "y_df = pd.DataFrame(y, columns=['Cluster'])\n",
    "new_df = pd.concat([df, y_df], axis=1)"
   ]
  },
  {
   "cell_type": "code",
   "execution_count": 121,
   "id": "5d193fda",
   "metadata": {},
   "outputs": [
    {
     "data": {
      "text/html": [
       "<div>\n",
       "<style scoped>\n",
       "    .dataframe tbody tr th:only-of-type {\n",
       "        vertical-align: middle;\n",
       "    }\n",
       "\n",
       "    .dataframe tbody tr th {\n",
       "        vertical-align: top;\n",
       "    }\n",
       "\n",
       "    .dataframe thead th {\n",
       "        text-align: right;\n",
       "    }\n",
       "</style>\n",
       "<table border=\"1\" class=\"dataframe\">\n",
       "  <thead>\n",
       "    <tr style=\"text-align: right;\">\n",
       "      <th></th>\n",
       "      <th>CustomerID</th>\n",
       "      <th>Gender</th>\n",
       "      <th>Age</th>\n",
       "      <th>Annual Income (k$)</th>\n",
       "      <th>Spending Score (1-100)</th>\n",
       "      <th>label3</th>\n",
       "      <th>Cluster</th>\n",
       "    </tr>\n",
       "  </thead>\n",
       "  <tbody>\n",
       "    <tr>\n",
       "      <th>0</th>\n",
       "      <td>1</td>\n",
       "      <td>Male</td>\n",
       "      <td>19</td>\n",
       "      <td>15</td>\n",
       "      <td>39</td>\n",
       "      <td>3</td>\n",
       "      <td>1</td>\n",
       "    </tr>\n",
       "    <tr>\n",
       "      <th>1</th>\n",
       "      <td>2</td>\n",
       "      <td>Male</td>\n",
       "      <td>21</td>\n",
       "      <td>15</td>\n",
       "      <td>81</td>\n",
       "      <td>4</td>\n",
       "      <td>0</td>\n",
       "    </tr>\n",
       "    <tr>\n",
       "      <th>2</th>\n",
       "      <td>3</td>\n",
       "      <td>Female</td>\n",
       "      <td>20</td>\n",
       "      <td>16</td>\n",
       "      <td>6</td>\n",
       "      <td>3</td>\n",
       "      <td>1</td>\n",
       "    </tr>\n",
       "    <tr>\n",
       "      <th>3</th>\n",
       "      <td>4</td>\n",
       "      <td>Female</td>\n",
       "      <td>23</td>\n",
       "      <td>16</td>\n",
       "      <td>77</td>\n",
       "      <td>4</td>\n",
       "      <td>0</td>\n",
       "    </tr>\n",
       "    <tr>\n",
       "      <th>4</th>\n",
       "      <td>5</td>\n",
       "      <td>Female</td>\n",
       "      <td>31</td>\n",
       "      <td>17</td>\n",
       "      <td>40</td>\n",
       "      <td>3</td>\n",
       "      <td>1</td>\n",
       "    </tr>\n",
       "    <tr>\n",
       "      <th>...</th>\n",
       "      <td>...</td>\n",
       "      <td>...</td>\n",
       "      <td>...</td>\n",
       "      <td>...</td>\n",
       "      <td>...</td>\n",
       "      <td>...</td>\n",
       "      <td>...</td>\n",
       "    </tr>\n",
       "    <tr>\n",
       "      <th>195</th>\n",
       "      <td>196</td>\n",
       "      <td>Female</td>\n",
       "      <td>35</td>\n",
       "      <td>120</td>\n",
       "      <td>79</td>\n",
       "      <td>1</td>\n",
       "      <td>0</td>\n",
       "    </tr>\n",
       "    <tr>\n",
       "      <th>196</th>\n",
       "      <td>197</td>\n",
       "      <td>Female</td>\n",
       "      <td>45</td>\n",
       "      <td>126</td>\n",
       "      <td>28</td>\n",
       "      <td>2</td>\n",
       "      <td>1</td>\n",
       "    </tr>\n",
       "    <tr>\n",
       "      <th>197</th>\n",
       "      <td>198</td>\n",
       "      <td>Male</td>\n",
       "      <td>32</td>\n",
       "      <td>126</td>\n",
       "      <td>74</td>\n",
       "      <td>1</td>\n",
       "      <td>0</td>\n",
       "    </tr>\n",
       "    <tr>\n",
       "      <th>198</th>\n",
       "      <td>199</td>\n",
       "      <td>Male</td>\n",
       "      <td>32</td>\n",
       "      <td>137</td>\n",
       "      <td>18</td>\n",
       "      <td>2</td>\n",
       "      <td>1</td>\n",
       "    </tr>\n",
       "    <tr>\n",
       "      <th>199</th>\n",
       "      <td>200</td>\n",
       "      <td>Male</td>\n",
       "      <td>30</td>\n",
       "      <td>137</td>\n",
       "      <td>83</td>\n",
       "      <td>1</td>\n",
       "      <td>0</td>\n",
       "    </tr>\n",
       "  </tbody>\n",
       "</table>\n",
       "<p>200 rows × 7 columns</p>\n",
       "</div>"
      ],
      "text/plain": [
       "     CustomerID  Gender  Age  Annual Income (k$)  Spending Score (1-100)  \\\n",
       "0             1    Male   19                  15                      39   \n",
       "1             2    Male   21                  15                      81   \n",
       "2             3  Female   20                  16                       6   \n",
       "3             4  Female   23                  16                      77   \n",
       "4             5  Female   31                  17                      40   \n",
       "..          ...     ...  ...                 ...                     ...   \n",
       "195         196  Female   35                 120                      79   \n",
       "196         197  Female   45                 126                      28   \n",
       "197         198    Male   32                 126                      74   \n",
       "198         199    Male   32                 137                      18   \n",
       "199         200    Male   30                 137                      83   \n",
       "\n",
       "     label3  Cluster  \n",
       "0         3        1  \n",
       "1         4        0  \n",
       "2         3        1  \n",
       "3         4        0  \n",
       "4         3        1  \n",
       "..      ...      ...  \n",
       "195       1        0  \n",
       "196       2        1  \n",
       "197       1        0  \n",
       "198       2        1  \n",
       "199       1        0  \n",
       "\n",
       "[200 rows x 7 columns]"
      ]
     },
     "execution_count": 121,
     "metadata": {},
     "output_type": "execute_result"
    }
   ],
   "source": [
    "new_df"
   ]
  },
  {
   "cell_type": "code",
   "execution_count": 122,
   "id": "5bdfc1f4",
   "metadata": {},
   "outputs": [
    {
     "data": {
      "text/html": [
       "<div>\n",
       "<style scoped>\n",
       "    .dataframe tbody tr th:only-of-type {\n",
       "        vertical-align: middle;\n",
       "    }\n",
       "\n",
       "    .dataframe tbody tr th {\n",
       "        vertical-align: top;\n",
       "    }\n",
       "\n",
       "    .dataframe thead th {\n",
       "        text-align: right;\n",
       "    }\n",
       "</style>\n",
       "<table border=\"1\" class=\"dataframe\">\n",
       "  <thead>\n",
       "    <tr style=\"text-align: right;\">\n",
       "      <th></th>\n",
       "      <th>0</th>\n",
       "      <th>1</th>\n",
       "    </tr>\n",
       "  </thead>\n",
       "  <tbody>\n",
       "    <tr>\n",
       "      <th>0</th>\n",
       "      <td>-31.870508</td>\n",
       "      <td>-33.001425</td>\n",
       "    </tr>\n",
       "    <tr>\n",
       "      <th>1</th>\n",
       "      <td>0.763397</td>\n",
       "      <td>-56.843865</td>\n",
       "    </tr>\n",
       "    <tr>\n",
       "      <th>2</th>\n",
       "      <td>-57.408726</td>\n",
       "      <td>-13.122936</td>\n",
       "    </tr>\n",
       "    <tr>\n",
       "      <th>3</th>\n",
       "      <td>-2.169896</td>\n",
       "      <td>-53.477905</td>\n",
       "    </tr>\n",
       "    <tr>\n",
       "      <th>4</th>\n",
       "      <td>-32.174920</td>\n",
       "      <td>-30.387005</td>\n",
       "    </tr>\n",
       "    <tr>\n",
       "      <th>...</th>\n",
       "      <td>...</td>\n",
       "      <td>...</td>\n",
       "    </tr>\n",
       "    <tr>\n",
       "      <th>195</th>\n",
       "      <td>58.353072</td>\n",
       "      <td>31.016926</td>\n",
       "    </tr>\n",
       "    <tr>\n",
       "      <th>196</th>\n",
       "      <td>19.909355</td>\n",
       "      <td>66.446425</td>\n",
       "    </tr>\n",
       "    <tr>\n",
       "      <th>197</th>\n",
       "      <td>58.521858</td>\n",
       "      <td>38.343853</td>\n",
       "    </tr>\n",
       "    <tr>\n",
       "      <th>198</th>\n",
       "      <td>20.981105</td>\n",
       "      <td>79.375146</td>\n",
       "    </tr>\n",
       "    <tr>\n",
       "      <th>199</th>\n",
       "      <td>72.448826</td>\n",
       "      <td>41.808833</td>\n",
       "    </tr>\n",
       "  </tbody>\n",
       "</table>\n",
       "<p>200 rows × 2 columns</p>\n",
       "</div>"
      ],
      "text/plain": [
       "             0          1\n",
       "0   -31.870508 -33.001425\n",
       "1     0.763397 -56.843865\n",
       "2   -57.408726 -13.122936\n",
       "3    -2.169896 -53.477905\n",
       "4   -32.174920 -30.387005\n",
       "..         ...        ...\n",
       "195  58.353072  31.016926\n",
       "196  19.909355  66.446425\n",
       "197  58.521858  38.343853\n",
       "198  20.981105  79.375146\n",
       "199  72.448826  41.808833\n",
       "\n",
       "[200 rows x 2 columns]"
      ]
     },
     "execution_count": 122,
     "metadata": {},
     "output_type": "execute_result"
    }
   ],
   "source": [
    "pca_df"
   ]
  },
  {
   "cell_type": "code",
   "execution_count": 123,
   "id": "97bf9bf2",
   "metadata": {},
   "outputs": [],
   "source": [
    "import plotly.express as px"
   ]
  },
  {
   "cell_type": "code",
   "execution_count": 124,
   "id": "6c9db0cd",
   "metadata": {},
   "outputs": [
    {
     "data": {
      "application/vnd.plotly.v1+json": {
       "config": {
        "plotlyServerURL": "https://plot.ly"
       },
       "data": [
        {
         "customdata": [
          [
           "Male",
           19,
           15,
           39
          ],
          [
           "Male",
           21,
           15,
           81
          ],
          [
           "Female",
           20,
           16,
           6
          ],
          [
           "Female",
           23,
           16,
           77
          ],
          [
           "Female",
           31,
           17,
           40
          ],
          [
           "Female",
           22,
           17,
           76
          ],
          [
           "Female",
           35,
           18,
           6
          ],
          [
           "Female",
           23,
           18,
           94
          ],
          [
           "Male",
           64,
           19,
           3
          ],
          [
           "Female",
           30,
           19,
           72
          ],
          [
           "Male",
           67,
           19,
           14
          ],
          [
           "Female",
           35,
           19,
           99
          ],
          [
           "Female",
           58,
           20,
           15
          ],
          [
           "Female",
           24,
           20,
           77
          ],
          [
           "Male",
           37,
           20,
           13
          ],
          [
           "Male",
           22,
           20,
           79
          ],
          [
           "Female",
           35,
           21,
           35
          ],
          [
           "Male",
           20,
           21,
           66
          ],
          [
           "Male",
           52,
           23,
           29
          ],
          [
           "Female",
           35,
           23,
           98
          ],
          [
           "Male",
           35,
           24,
           35
          ],
          [
           "Male",
           25,
           24,
           73
          ],
          [
           "Female",
           46,
           25,
           5
          ],
          [
           "Male",
           31,
           25,
           73
          ],
          [
           "Female",
           54,
           28,
           14
          ],
          [
           "Male",
           29,
           28,
           82
          ],
          [
           "Female",
           45,
           28,
           32
          ],
          [
           "Male",
           35,
           28,
           61
          ],
          [
           "Female",
           40,
           29,
           31
          ],
          [
           "Female",
           23,
           29,
           87
          ],
          [
           "Male",
           60,
           30,
           4
          ],
          [
           "Female",
           21,
           30,
           73
          ],
          [
           "Male",
           53,
           33,
           4
          ],
          [
           "Male",
           18,
           33,
           92
          ],
          [
           "Female",
           49,
           33,
           14
          ],
          [
           "Female",
           21,
           33,
           81
          ],
          [
           "Female",
           42,
           34,
           17
          ],
          [
           "Female",
           30,
           34,
           73
          ],
          [
           "Female",
           36,
           37,
           26
          ],
          [
           "Female",
           20,
           37,
           75
          ],
          [
           "Female",
           65,
           38,
           35
          ],
          [
           "Male",
           24,
           38,
           92
          ],
          [
           "Male",
           48,
           39,
           36
          ],
          [
           "Female",
           31,
           39,
           61
          ],
          [
           "Female",
           49,
           39,
           28
          ],
          [
           "Female",
           24,
           39,
           65
          ],
          [
           "Female",
           50,
           40,
           55
          ],
          [
           "Female",
           27,
           40,
           47
          ],
          [
           "Female",
           29,
           40,
           42
          ],
          [
           "Female",
           31,
           40,
           42
          ],
          [
           "Female",
           49,
           42,
           52
          ],
          [
           "Male",
           33,
           42,
           60
          ],
          [
           "Female",
           31,
           43,
           54
          ],
          [
           "Male",
           59,
           43,
           60
          ],
          [
           "Female",
           50,
           43,
           45
          ],
          [
           "Male",
           47,
           43,
           41
          ],
          [
           "Female",
           51,
           44,
           50
          ],
          [
           "Male",
           69,
           44,
           46
          ],
          [
           "Female",
           27,
           46,
           51
          ],
          [
           "Male",
           53,
           46,
           46
          ],
          [
           "Male",
           70,
           46,
           56
          ],
          [
           "Male",
           19,
           46,
           55
          ],
          [
           "Female",
           67,
           47,
           52
          ],
          [
           "Female",
           54,
           47,
           59
          ],
          [
           "Male",
           63,
           48,
           51
          ],
          [
           "Male",
           18,
           48,
           59
          ],
          [
           "Female",
           43,
           48,
           50
          ],
          [
           "Female",
           68,
           48,
           48
          ],
          [
           "Male",
           19,
           48,
           59
          ],
          [
           "Female",
           32,
           48,
           47
          ],
          [
           "Male",
           70,
           49,
           55
          ],
          [
           "Female",
           47,
           49,
           42
          ],
          [
           "Female",
           60,
           50,
           49
          ],
          [
           "Female",
           60,
           50,
           56
          ],
          [
           "Male",
           59,
           54,
           47
          ],
          [
           "Male",
           26,
           54,
           54
          ],
          [
           "Female",
           45,
           54,
           53
          ],
          [
           "Male",
           40,
           54,
           48
          ],
          [
           "Female",
           23,
           54,
           52
          ],
          [
           "Female",
           49,
           54,
           42
          ],
          [
           "Male",
           57,
           54,
           51
          ],
          [
           "Male",
           38,
           54,
           55
          ],
          [
           "Male",
           67,
           54,
           41
          ],
          [
           "Female",
           46,
           54,
           44
          ],
          [
           "Female",
           21,
           54,
           57
          ],
          [
           "Male",
           48,
           54,
           46
          ],
          [
           "Female",
           55,
           57,
           58
          ],
          [
           "Female",
           22,
           57,
           55
          ],
          [
           "Female",
           34,
           58,
           60
          ],
          [
           "Female",
           50,
           58,
           46
          ],
          [
           "Female",
           68,
           59,
           55
          ],
          [
           "Male",
           18,
           59,
           41
          ],
          [
           "Male",
           48,
           60,
           49
          ],
          [
           "Female",
           40,
           60,
           40
          ],
          [
           "Female",
           32,
           60,
           42
          ],
          [
           "Male",
           24,
           60,
           52
          ],
          [
           "Female",
           47,
           60,
           47
          ],
          [
           "Female",
           27,
           60,
           50
          ],
          [
           "Male",
           48,
           61,
           42
          ],
          [
           "Male",
           20,
           61,
           49
          ],
          [
           "Female",
           23,
           62,
           41
          ],
          [
           "Female",
           49,
           62,
           48
          ],
          [
           "Male",
           67,
           62,
           59
          ],
          [
           "Male",
           26,
           62,
           55
          ],
          [
           "Male",
           49,
           62,
           56
          ],
          [
           "Female",
           21,
           62,
           42
          ],
          [
           "Female",
           66,
           63,
           50
          ],
          [
           "Male",
           54,
           63,
           46
          ],
          [
           "Male",
           68,
           63,
           43
          ],
          [
           "Male",
           66,
           63,
           48
          ],
          [
           "Male",
           65,
           63,
           52
          ],
          [
           "Female",
           19,
           63,
           54
          ],
          [
           "Female",
           38,
           64,
           42
          ],
          [
           "Male",
           19,
           64,
           46
          ],
          [
           "Female",
           18,
           65,
           48
          ],
          [
           "Female",
           19,
           65,
           50
          ],
          [
           "Female",
           63,
           65,
           43
          ],
          [
           "Female",
           49,
           65,
           59
          ],
          [
           "Female",
           51,
           67,
           43
          ],
          [
           "Female",
           50,
           67,
           57
          ],
          [
           "Male",
           27,
           67,
           56
          ],
          [
           "Female",
           38,
           67,
           40
          ],
          [
           "Female",
           40,
           69,
           58
          ],
          [
           "Male",
           39,
           69,
           91
          ],
          [
           "Female",
           23,
           70,
           29
          ],
          [
           "Female",
           31,
           70,
           77
          ],
          [
           "Male",
           43,
           71,
           35
          ],
          [
           "Male",
           40,
           71,
           95
          ],
          [
           "Male",
           59,
           71,
           11
          ],
          [
           "Male",
           38,
           71,
           75
          ],
          [
           "Male",
           47,
           71,
           9
          ],
          [
           "Male",
           39,
           71,
           75
          ],
          [
           "Female",
           25,
           72,
           34
          ],
          [
           "Female",
           31,
           72,
           71
          ],
          [
           "Male",
           20,
           73,
           5
          ],
          [
           "Female",
           29,
           73,
           88
          ],
          [
           "Female",
           44,
           73,
           7
          ],
          [
           "Male",
           32,
           73,
           73
          ],
          [
           "Male",
           19,
           74,
           10
          ],
          [
           "Female",
           35,
           74,
           72
          ],
          [
           "Female",
           57,
           75,
           5
          ],
          [
           "Male",
           32,
           75,
           93
          ],
          [
           "Female",
           28,
           76,
           40
          ],
          [
           "Female",
           32,
           76,
           87
          ],
          [
           "Male",
           25,
           77,
           12
          ],
          [
           "Male",
           28,
           77,
           97
          ],
          [
           "Male",
           48,
           77,
           36
          ],
          [
           "Female",
           32,
           77,
           74
          ],
          [
           "Female",
           34,
           78,
           22
          ],
          [
           "Male",
           34,
           78,
           90
          ],
          [
           "Male",
           43,
           78,
           17
          ],
          [
           "Male",
           39,
           78,
           88
          ],
          [
           "Female",
           44,
           78,
           20
          ],
          [
           "Female",
           38,
           78,
           76
          ],
          [
           "Female",
           47,
           78,
           16
          ],
          [
           "Female",
           27,
           78,
           89
          ],
          [
           "Male",
           37,
           78,
           1
          ],
          [
           "Female",
           30,
           78,
           78
          ],
          [
           "Male",
           34,
           78,
           1
          ],
          [
           "Female",
           30,
           78,
           73
          ],
          [
           "Female",
           56,
           79,
           35
          ],
          [
           "Female",
           29,
           79,
           83
          ],
          [
           "Male",
           19,
           81,
           5
          ],
          [
           "Female",
           31,
           81,
           93
          ],
          [
           "Male",
           50,
           85,
           26
          ],
          [
           "Female",
           36,
           85,
           75
          ],
          [
           "Male",
           42,
           86,
           20
          ],
          [
           "Female",
           33,
           86,
           95
          ],
          [
           "Female",
           36,
           87,
           27
          ],
          [
           "Male",
           32,
           87,
           63
          ],
          [
           "Male",
           40,
           87,
           13
          ],
          [
           "Male",
           28,
           87,
           75
          ],
          [
           "Male",
           36,
           87,
           10
          ],
          [
           "Male",
           36,
           87,
           92
          ],
          [
           "Female",
           52,
           88,
           13
          ],
          [
           "Female",
           30,
           88,
           86
          ],
          [
           "Male",
           58,
           88,
           15
          ],
          [
           "Male",
           27,
           88,
           69
          ],
          [
           "Male",
           59,
           93,
           14
          ],
          [
           "Male",
           35,
           93,
           90
          ],
          [
           "Female",
           37,
           97,
           32
          ],
          [
           "Female",
           32,
           97,
           86
          ],
          [
           "Male",
           46,
           98,
           15
          ],
          [
           "Female",
           29,
           98,
           88
          ],
          [
           "Female",
           41,
           99,
           39
          ],
          [
           "Male",
           30,
           99,
           97
          ],
          [
           "Female",
           54,
           101,
           24
          ],
          [
           "Male",
           28,
           101,
           68
          ],
          [
           "Female",
           41,
           103,
           17
          ],
          [
           "Female",
           36,
           103,
           85
          ],
          [
           "Female",
           34,
           103,
           23
          ],
          [
           "Female",
           32,
           103,
           69
          ],
          [
           "Male",
           33,
           113,
           8
          ],
          [
           "Female",
           38,
           113,
           91
          ],
          [
           "Female",
           47,
           120,
           16
          ],
          [
           "Female",
           35,
           120,
           79
          ],
          [
           "Female",
           45,
           126,
           28
          ],
          [
           "Male",
           32,
           126,
           74
          ],
          [
           "Male",
           32,
           137,
           18
          ],
          [
           "Male",
           30,
           137,
           83
          ]
         ],
         "hovertemplate": "0=%{x}<br>1=%{y}<br>Gender=%{customdata[0]}<br>Age=%{customdata[1]}<br>Annual Income (k$)=%{customdata[2]}<br>Spending Score (1-100)=%{customdata[3]}<br>Cluster=%{marker.color}<extra></extra>",
         "legendgroup": "",
         "marker": {
          "color": [
           1,
           0,
           1,
           0,
           1,
           0,
           1,
           0,
           1,
           0,
           1,
           0,
           1,
           0,
           1,
           0,
           1,
           0,
           1,
           0,
           1,
           0,
           1,
           0,
           1,
           0,
           1,
           0,
           1,
           0,
           1,
           0,
           1,
           0,
           1,
           0,
           1,
           0,
           1,
           0,
           1,
           0,
           1,
           0,
           1,
           0,
           1,
           1,
           1,
           1,
           1,
           0,
           0,
           1,
           1,
           1,
           1,
           1,
           0,
           1,
           1,
           0,
           1,
           1,
           1,
           0,
           1,
           1,
           0,
           1,
           1,
           1,
           1,
           1,
           1,
           0,
           1,
           1,
           0,
           1,
           1,
           0,
           1,
           1,
           0,
           1,
           1,
           0,
           0,
           1,
           1,
           1,
           1,
           1,
           1,
           0,
           1,
           0,
           1,
           0,
           1,
           1,
           1,
           0,
           1,
           1,
           1,
           1,
           1,
           1,
           1,
           0,
           1,
           0,
           0,
           0,
           1,
           0,
           1,
           1,
           0,
           1,
           0,
           0,
           1,
           0,
           1,
           0,
           1,
           0,
           1,
           0,
           1,
           0,
           1,
           0,
           1,
           0,
           1,
           0,
           1,
           0,
           1,
           0,
           1,
           0,
           1,
           0,
           1,
           0,
           1,
           0,
           1,
           0,
           1,
           0,
           1,
           0,
           1,
           0,
           1,
           0,
           1,
           0,
           1,
           0,
           1,
           0,
           1,
           0,
           1,
           0,
           1,
           0,
           1,
           0,
           1,
           0,
           1,
           0,
           1,
           0,
           1,
           0,
           1,
           0,
           1,
           0,
           1,
           0,
           1,
           0,
           1,
           0,
           1,
           0,
           1,
           0,
           1,
           0
          ],
          "coloraxis": "coloraxis",
          "symbol": "circle"
         },
         "mode": "markers",
         "name": "",
         "orientation": "v",
         "showlegend": false,
         "type": "scatter",
         "x": [
          -31.870507802005786,
          0.763396907641417,
          -57.40872556861486,
          -2.169896483288472,
          -32.17491965978335,
          -2.178277766629788,
          -59.06605652876711,
          12.369326099715982,
          -66.31565681499914,
          -5.656775337751948,
          -58.236617886090286,
          14.620259233023141,
          -55.1612125648372,
          -0.004306605838724794,
          -52.76474737167736,
          1.9456347992203202,
          -34.50623489513607,
          -7.305730315481951,
          -41.25749327077519,
          16.188826807788487,
          -32.74031183710684,
          -0.9827027388168058,
          -57.81028209512068,
          -1.5279069190090864,
          -50.4821841130093,
          7.689933062327894,
          -34.633479266781,
          -9.9498386919536,
          -33.88596375043209,
          13.342401794241127,
          -58.29871229992809,
          3.3050401769318998,
          -55.209969842440934,
          20.57181938426103,
          -46.594108016681105,
          11.358935255816803,
          -42.32465809005924,
          3.958836455001173,
          -32.35092130903202,
          9.18649451746992,
          -30.168563563980552,
          22.38117928144106,
          -25.581364643346998,
          -2.7188906794895056,
          -32.05831086412522,
          1.7479147303962492,
          -10.436738474316819,
          -12.378303896953613,
          -16.686234809833525,
          -17.064183209678646,
          -11.428471743528979,
          -2.1169125239123514,
          -5.866302120365908,
          -6.441600702555834,
          -16.530780442357177,
          -19.10784385301733,
          -12.201131109901864,
          -18.746652718935774,
          -5.7024717704673105,
          -14.545783481488662,
          -9.898379854102599,
          -1.0466921606589972,
          -11.886802245419673,
          -3.928162128177682,
          -11.328260928993314,
          3.4635500883775547,
          -8.334773433149074,
          -14.631121436426987,
          3.2745758884549936,
          -8.61404674182179,
          -8.918453298680324,
          -14.790001234351905,
          -11.156049295753395,
          -5.6540737775046805,
          -10.184504023672444,
          1.5536200920207464,
          -2.8228862091148494,
          -5.807997722536846,
          0.5485496865745072,
          -12.224744537481635,
          -6.662569613399489,
          0.07192619555698568,
          -16.412276638694678,
          -10.08582893250004,
          4.85648059945442,
          -8.891784327131242,
          0.9832773627235751,
          4.861436452347177,
          7.1123695856543305,
          -6.915168649604053,
          -2.654094705404424,
          -4.209335745773848,
          -3.001948703251901,
          -8.564123627334048,
          -5.480337022739656,
          3.8914216027104134,
          -4.384967508543258,
          1.752505997728818,
          -7.915283202157534,
          2.8779699139228554,
          -3.3882836873574185,
          -2.799637367095264,
          2.444788562975202,
          7.048744749372326,
          3.4883346537604067,
          -2.224338784905336,
          -3.8515647412217864,
          -4.727860352578903,
          -9.731488659315618,
          -5.423557746435703,
          -2.0905975360853106,
          8.174208665566363,
          -4.259618144902703,
          2.4748776640537726,
          4.824485888533326,
          6.207504693824681,
          -7.609335621016664,
          7.612247219610517,
          -4.164363183259789,
          7.028562053160193,
          10.588972148772115,
          -4.065688092087387,
          10.881582593678907,
          37.0084413796311,
          -8.111113563896303,
          28.10492496185724,
          -6.5859775273626715,
          41.140735228822535,
          -28.473480788690637,
          25.798753576528487,
          -27.777783394833843,
          25.609779376605925,
          -3.3817974120204766,
          24.566227984901644,
          -24.6421839686664,
          38.89475794840814,
          -27.605571761593932,
          26.537887809536077,
          -19.934586236365963,
          25.77360972650452,
          -30.456947327114968,
          43.43509990036141,
          3.1218230812259113,
          39.30776190406273,
          -17.73051537265818,
          48.51226474916564,
          -3.213005908310046,
          29.678448389515346,
          -10.982677126548555,
          42.46508505072465,
          -16.613427438886387,
          39.948221045897924,
          -14.44441213098807,
          30.70523721453699,
          -18.155320741183584,
          43.0019079475756,
          -28.05552628106237,
          33.78902381913138,
          -27.488603681294677,
          29.859041306096586,
          -4.333513971611328,
          38.496621551431815,
          -19.74408161399921,
          47.15592021634244,
          -6.741791179480137,
          34.417676247176686,
          -9.357335576398327,
          51.293169918426614,
          -2.132873839271183,
          26.91889705426957,
          -13.892721675458843,
          37.10675188524333,
          -15.494814383589473,
          48.956898830181146,
          -15.571771055186485,
          45.963406033417826,
          -15.133623249507922,
          33.16838808886721,
          -13.165388855322055,
          51.10572614094824,
          7.4945446672718345,
          50.8832268076604,
          -6.979522657006427,
          53.610783431985084,
          13.417905424516453,
          61.084418774868226,
          0.34857532510495165,
          39.8457506377977,
          -1.5194535554643238,
          52.87317962142167,
          4.519344859635345,
          41.053132379400566,
          -1.1952182861156928,
          63.09762043064909,
          6.567602071225675,
          58.3530721345348,
          19.909354618412763,
          58.52185833732616,
          20.981105404110302,
          72.44882647340775
         ],
         "xaxis": "x",
         "y": [
          -33.00142530774926,
          -56.84386532086798,
          -13.122936191157871,
          -53.47790486205223,
          -30.387004999670335,
          -52.226580756092225,
          -9.541706693027361,
          -61.617684291004345,
          -3.2135993377670045,
          -47.26645335253608,
          -9.13375312453968,
          -62.107294035974796,
          -10.07797780444942,
          -50.1134367494043,
          -11.68041990219277,
          -51.52319431797477,
          -23.76007337136263,
          -43.51587243807365,
          -16.47343197905353,
          -58.29987754480805,
          -21.33494618903909,
          -44.453314311148254,
          -1.8685457878217597,
          -42.85914736640781,
          -3.5609192150507876,
          -45.861172822468944,
          -15.07005050623618,
          -33.0231963957271,
          -14.342587211809022,
          -48.70815621933717,
          4.580759271151111,
          -40.12692075803402,
          6.089130033292181,
          -48.999047230998634,
          -0.17386659226093987,
          -42.29310222692669,
          -2.003988029208309,
          -35.7147310223204,
          -5.529874296802283,
          -35.74708303163301,
          -6.088729918366259,
          -44.17137737649347,
          -8.080676221341678,
          -24.654924205406957,
          -3.358402367242248,
          -27.86733495119753,
          -17.914728134772613,
          -16.33561914987022,
          -13.204120837093654,
          -12.942190431327237,
          -14.70720113856738,
          -21.39395303591496,
          -17.40402622582803,
          -17.180482033510323,
          -9.75046513842879,
          -7.847706421470311,
          -11.680692115114542,
          -7.0276641376086495,
          -13.781019110831247,
          -7.506355928857649,
          -11.019083293863355,
          -17.12439505950504,
          -8.307948849463695,
          -14.027891556759625,
          -7.449520352153331,
          -17.934263133114,
          -9.494910828415499,
          -5.0729535935311905,
          -17.80329793023079,
          -9.213787315924725,
          -8.020042530137788,
          -3.5713656382252554,
          -5.077837343116539,
          -9.095232412930736,
          -0.8274724734309733,
          -9.166719238391098,
          -6.104466802208082,
          -3.8897249096139905,
          -8.411787684236673,
          0.7324434047470678,
          -3.3850572048055048,
          -8.169050385194605,
          3.663730638046878,
          -0.8082793667066184,
          -11.543285997013234,
          -1.6941761237442545,
          -5.239255498062579,
          -7.839366449002425,
          -8.328976193972865,
          1.8012571917868865,
          -0.19821566149240274,
          1.2883143339754854,
          1.4343374966967442,
          5.551838106249315,
          3.356289320379581,
          -3.4305681167063797,
          2.45119945661759,
          -1.8898453452526947,
          6.26010829395212,
          -1.4243124565919558,
          4.3682675307150785,
          3.7559677358643433,
          -0.19970800766018365,
          -3.2736270002636836,
          -0.8353409153518816,
          3.532423543546629,
          5.642924749516036,
          6.36699664052563,
          9.922250225096656,
          6.790751912320091,
          4.364132383828773,
          -2.808094111602944,
          7.375583447443562,
          2.591590267054459,
          2.1211736288083736,
          1.1043116688875285,
          10.884175665562962,
          -0.1319544772344273,
          10.929344685846806,
          2.763589343335202,
          0.3253032584234007,
          10.948537792571159,
          2.496775187983435,
          -16.573338201166695,
          17.72223632706886,
          -8.777893957162808,
          17.70643462376207,
          -17.121275869009242,
          33.5758038235421,
          -5.904934646735103,
          33.15204855174764,
          -5.773969443851892,
          16.731350280707495,
          -3.71766101386828,
          33.52839385439144,
          -12.927746576027996,
          35.523731560784434,
          -3.926147246347947,
          31.33623647193927,
          -2.1509623288551056,
          39.99085781595257,
          -13.787667419506143,
          16.914267310709686,
          -9.535810203652792,
          33.399327708758015,
          -14.990431101764738,
          22.63760142142318,
          -1.2665579179852509,
          29.647254448127814,
          -9.3788690872101,
          33.69550918108684,
          -7.576215909989987,
          32.104733639763964,
          -0.8202181360488704,
          34.79328357402171,
          -9.721711925990542,
          42.09233526622003,
          -3.0157669219186047,
          41.69943965757039,
          -0.14619901490846415,
          25.875988080773244,
          -5.207924304370775,
          39.86443447103767,
          -9.068378257742275,
          35.105673460739325,
          5.150395131675004,
          38.30980905352699,
          -5.912396377574004,
          34.314998493854716,
          13.130248751848864,
          42.87364944501595,
          5.719424963491688,
          44.07152937768919,
          -2.989384297277112,
          45.25360760705565,
          0.4766817012769779,
          44.89157166155085,
          9.840316976461825,
          49.63832908304199,
          2.877732027290822,
          39.66015306413959,
          8.013993654014023,
          51.40374650136413,
          7.281646610001508,
          37.78337026074059,
          3.055765307707651,
          49.7113730741351,
          21.054080217482408,
          53.64297196134993,
          13.962022411595967,
          49.28273405275528,
          22.620778902495584,
          65.84422984531432,
          18.864228603362026,
          68.74506412655128,
          31.016926063624993,
          66.4464251086076,
          38.343852726632605,
          79.37514628699915,
          41.8088330901009
         ],
         "yaxis": "y"
        }
       ],
       "layout": {
        "coloraxis": {
         "colorbar": {
          "title": {
           "text": "Cluster"
          }
         },
         "colorscale": [
          [
           0,
           "#0d0887"
          ],
          [
           0.1111111111111111,
           "#46039f"
          ],
          [
           0.2222222222222222,
           "#7201a8"
          ],
          [
           0.3333333333333333,
           "#9c179e"
          ],
          [
           0.4444444444444444,
           "#bd3786"
          ],
          [
           0.5555555555555556,
           "#d8576b"
          ],
          [
           0.6666666666666666,
           "#ed7953"
          ],
          [
           0.7777777777777778,
           "#fb9f3a"
          ],
          [
           0.8888888888888888,
           "#fdca26"
          ],
          [
           1,
           "#f0f921"
          ]
         ]
        },
        "legend": {
         "tracegroupgap": 0
        },
        "margin": {
         "t": 60
        },
        "template": {
         "data": {
          "bar": [
           {
            "error_x": {
             "color": "#2a3f5f"
            },
            "error_y": {
             "color": "#2a3f5f"
            },
            "marker": {
             "line": {
              "color": "#E5ECF6",
              "width": 0.5
             },
             "pattern": {
              "fillmode": "overlay",
              "size": 10,
              "solidity": 0.2
             }
            },
            "type": "bar"
           }
          ],
          "barpolar": [
           {
            "marker": {
             "line": {
              "color": "#E5ECF6",
              "width": 0.5
             },
             "pattern": {
              "fillmode": "overlay",
              "size": 10,
              "solidity": 0.2
             }
            },
            "type": "barpolar"
           }
          ],
          "carpet": [
           {
            "aaxis": {
             "endlinecolor": "#2a3f5f",
             "gridcolor": "white",
             "linecolor": "white",
             "minorgridcolor": "white",
             "startlinecolor": "#2a3f5f"
            },
            "baxis": {
             "endlinecolor": "#2a3f5f",
             "gridcolor": "white",
             "linecolor": "white",
             "minorgridcolor": "white",
             "startlinecolor": "#2a3f5f"
            },
            "type": "carpet"
           }
          ],
          "choropleth": [
           {
            "colorbar": {
             "outlinewidth": 0,
             "ticks": ""
            },
            "type": "choropleth"
           }
          ],
          "contour": [
           {
            "colorbar": {
             "outlinewidth": 0,
             "ticks": ""
            },
            "colorscale": [
             [
              0,
              "#0d0887"
             ],
             [
              0.1111111111111111,
              "#46039f"
             ],
             [
              0.2222222222222222,
              "#7201a8"
             ],
             [
              0.3333333333333333,
              "#9c179e"
             ],
             [
              0.4444444444444444,
              "#bd3786"
             ],
             [
              0.5555555555555556,
              "#d8576b"
             ],
             [
              0.6666666666666666,
              "#ed7953"
             ],
             [
              0.7777777777777778,
              "#fb9f3a"
             ],
             [
              0.8888888888888888,
              "#fdca26"
             ],
             [
              1,
              "#f0f921"
             ]
            ],
            "type": "contour"
           }
          ],
          "contourcarpet": [
           {
            "colorbar": {
             "outlinewidth": 0,
             "ticks": ""
            },
            "type": "contourcarpet"
           }
          ],
          "heatmap": [
           {
            "colorbar": {
             "outlinewidth": 0,
             "ticks": ""
            },
            "colorscale": [
             [
              0,
              "#0d0887"
             ],
             [
              0.1111111111111111,
              "#46039f"
             ],
             [
              0.2222222222222222,
              "#7201a8"
             ],
             [
              0.3333333333333333,
              "#9c179e"
             ],
             [
              0.4444444444444444,
              "#bd3786"
             ],
             [
              0.5555555555555556,
              "#d8576b"
             ],
             [
              0.6666666666666666,
              "#ed7953"
             ],
             [
              0.7777777777777778,
              "#fb9f3a"
             ],
             [
              0.8888888888888888,
              "#fdca26"
             ],
             [
              1,
              "#f0f921"
             ]
            ],
            "type": "heatmap"
           }
          ],
          "heatmapgl": [
           {
            "colorbar": {
             "outlinewidth": 0,
             "ticks": ""
            },
            "colorscale": [
             [
              0,
              "#0d0887"
             ],
             [
              0.1111111111111111,
              "#46039f"
             ],
             [
              0.2222222222222222,
              "#7201a8"
             ],
             [
              0.3333333333333333,
              "#9c179e"
             ],
             [
              0.4444444444444444,
              "#bd3786"
             ],
             [
              0.5555555555555556,
              "#d8576b"
             ],
             [
              0.6666666666666666,
              "#ed7953"
             ],
             [
              0.7777777777777778,
              "#fb9f3a"
             ],
             [
              0.8888888888888888,
              "#fdca26"
             ],
             [
              1,
              "#f0f921"
             ]
            ],
            "type": "heatmapgl"
           }
          ],
          "histogram": [
           {
            "marker": {
             "pattern": {
              "fillmode": "overlay",
              "size": 10,
              "solidity": 0.2
             }
            },
            "type": "histogram"
           }
          ],
          "histogram2d": [
           {
            "colorbar": {
             "outlinewidth": 0,
             "ticks": ""
            },
            "colorscale": [
             [
              0,
              "#0d0887"
             ],
             [
              0.1111111111111111,
              "#46039f"
             ],
             [
              0.2222222222222222,
              "#7201a8"
             ],
             [
              0.3333333333333333,
              "#9c179e"
             ],
             [
              0.4444444444444444,
              "#bd3786"
             ],
             [
              0.5555555555555556,
              "#d8576b"
             ],
             [
              0.6666666666666666,
              "#ed7953"
             ],
             [
              0.7777777777777778,
              "#fb9f3a"
             ],
             [
              0.8888888888888888,
              "#fdca26"
             ],
             [
              1,
              "#f0f921"
             ]
            ],
            "type": "histogram2d"
           }
          ],
          "histogram2dcontour": [
           {
            "colorbar": {
             "outlinewidth": 0,
             "ticks": ""
            },
            "colorscale": [
             [
              0,
              "#0d0887"
             ],
             [
              0.1111111111111111,
              "#46039f"
             ],
             [
              0.2222222222222222,
              "#7201a8"
             ],
             [
              0.3333333333333333,
              "#9c179e"
             ],
             [
              0.4444444444444444,
              "#bd3786"
             ],
             [
              0.5555555555555556,
              "#d8576b"
             ],
             [
              0.6666666666666666,
              "#ed7953"
             ],
             [
              0.7777777777777778,
              "#fb9f3a"
             ],
             [
              0.8888888888888888,
              "#fdca26"
             ],
             [
              1,
              "#f0f921"
             ]
            ],
            "type": "histogram2dcontour"
           }
          ],
          "mesh3d": [
           {
            "colorbar": {
             "outlinewidth": 0,
             "ticks": ""
            },
            "type": "mesh3d"
           }
          ],
          "parcoords": [
           {
            "line": {
             "colorbar": {
              "outlinewidth": 0,
              "ticks": ""
             }
            },
            "type": "parcoords"
           }
          ],
          "pie": [
           {
            "automargin": true,
            "type": "pie"
           }
          ],
          "scatter": [
           {
            "marker": {
             "colorbar": {
              "outlinewidth": 0,
              "ticks": ""
             }
            },
            "type": "scatter"
           }
          ],
          "scatter3d": [
           {
            "line": {
             "colorbar": {
              "outlinewidth": 0,
              "ticks": ""
             }
            },
            "marker": {
             "colorbar": {
              "outlinewidth": 0,
              "ticks": ""
             }
            },
            "type": "scatter3d"
           }
          ],
          "scattercarpet": [
           {
            "marker": {
             "colorbar": {
              "outlinewidth": 0,
              "ticks": ""
             }
            },
            "type": "scattercarpet"
           }
          ],
          "scattergeo": [
           {
            "marker": {
             "colorbar": {
              "outlinewidth": 0,
              "ticks": ""
             }
            },
            "type": "scattergeo"
           }
          ],
          "scattergl": [
           {
            "marker": {
             "colorbar": {
              "outlinewidth": 0,
              "ticks": ""
             }
            },
            "type": "scattergl"
           }
          ],
          "scattermapbox": [
           {
            "marker": {
             "colorbar": {
              "outlinewidth": 0,
              "ticks": ""
             }
            },
            "type": "scattermapbox"
           }
          ],
          "scatterpolar": [
           {
            "marker": {
             "colorbar": {
              "outlinewidth": 0,
              "ticks": ""
             }
            },
            "type": "scatterpolar"
           }
          ],
          "scatterpolargl": [
           {
            "marker": {
             "colorbar": {
              "outlinewidth": 0,
              "ticks": ""
             }
            },
            "type": "scatterpolargl"
           }
          ],
          "scatterternary": [
           {
            "marker": {
             "colorbar": {
              "outlinewidth": 0,
              "ticks": ""
             }
            },
            "type": "scatterternary"
           }
          ],
          "surface": [
           {
            "colorbar": {
             "outlinewidth": 0,
             "ticks": ""
            },
            "colorscale": [
             [
              0,
              "#0d0887"
             ],
             [
              0.1111111111111111,
              "#46039f"
             ],
             [
              0.2222222222222222,
              "#7201a8"
             ],
             [
              0.3333333333333333,
              "#9c179e"
             ],
             [
              0.4444444444444444,
              "#bd3786"
             ],
             [
              0.5555555555555556,
              "#d8576b"
             ],
             [
              0.6666666666666666,
              "#ed7953"
             ],
             [
              0.7777777777777778,
              "#fb9f3a"
             ],
             [
              0.8888888888888888,
              "#fdca26"
             ],
             [
              1,
              "#f0f921"
             ]
            ],
            "type": "surface"
           }
          ],
          "table": [
           {
            "cells": {
             "fill": {
              "color": "#EBF0F8"
             },
             "line": {
              "color": "white"
             }
            },
            "header": {
             "fill": {
              "color": "#C8D4E3"
             },
             "line": {
              "color": "white"
             }
            },
            "type": "table"
           }
          ]
         },
         "layout": {
          "annotationdefaults": {
           "arrowcolor": "#2a3f5f",
           "arrowhead": 0,
           "arrowwidth": 1
          },
          "autotypenumbers": "strict",
          "coloraxis": {
           "colorbar": {
            "outlinewidth": 0,
            "ticks": ""
           }
          },
          "colorscale": {
           "diverging": [
            [
             0,
             "#8e0152"
            ],
            [
             0.1,
             "#c51b7d"
            ],
            [
             0.2,
             "#de77ae"
            ],
            [
             0.3,
             "#f1b6da"
            ],
            [
             0.4,
             "#fde0ef"
            ],
            [
             0.5,
             "#f7f7f7"
            ],
            [
             0.6,
             "#e6f5d0"
            ],
            [
             0.7,
             "#b8e186"
            ],
            [
             0.8,
             "#7fbc41"
            ],
            [
             0.9,
             "#4d9221"
            ],
            [
             1,
             "#276419"
            ]
           ],
           "sequential": [
            [
             0,
             "#0d0887"
            ],
            [
             0.1111111111111111,
             "#46039f"
            ],
            [
             0.2222222222222222,
             "#7201a8"
            ],
            [
             0.3333333333333333,
             "#9c179e"
            ],
            [
             0.4444444444444444,
             "#bd3786"
            ],
            [
             0.5555555555555556,
             "#d8576b"
            ],
            [
             0.6666666666666666,
             "#ed7953"
            ],
            [
             0.7777777777777778,
             "#fb9f3a"
            ],
            [
             0.8888888888888888,
             "#fdca26"
            ],
            [
             1,
             "#f0f921"
            ]
           ],
           "sequentialminus": [
            [
             0,
             "#0d0887"
            ],
            [
             0.1111111111111111,
             "#46039f"
            ],
            [
             0.2222222222222222,
             "#7201a8"
            ],
            [
             0.3333333333333333,
             "#9c179e"
            ],
            [
             0.4444444444444444,
             "#bd3786"
            ],
            [
             0.5555555555555556,
             "#d8576b"
            ],
            [
             0.6666666666666666,
             "#ed7953"
            ],
            [
             0.7777777777777778,
             "#fb9f3a"
            ],
            [
             0.8888888888888888,
             "#fdca26"
            ],
            [
             1,
             "#f0f921"
            ]
           ]
          },
          "colorway": [
           "#636efa",
           "#EF553B",
           "#00cc96",
           "#ab63fa",
           "#FFA15A",
           "#19d3f3",
           "#FF6692",
           "#B6E880",
           "#FF97FF",
           "#FECB52"
          ],
          "font": {
           "color": "#2a3f5f"
          },
          "geo": {
           "bgcolor": "white",
           "lakecolor": "white",
           "landcolor": "#E5ECF6",
           "showlakes": true,
           "showland": true,
           "subunitcolor": "white"
          },
          "hoverlabel": {
           "align": "left"
          },
          "hovermode": "closest",
          "mapbox": {
           "style": "light"
          },
          "paper_bgcolor": "white",
          "plot_bgcolor": "#E5ECF6",
          "polar": {
           "angularaxis": {
            "gridcolor": "white",
            "linecolor": "white",
            "ticks": ""
           },
           "bgcolor": "#E5ECF6",
           "radialaxis": {
            "gridcolor": "white",
            "linecolor": "white",
            "ticks": ""
           }
          },
          "scene": {
           "xaxis": {
            "backgroundcolor": "#E5ECF6",
            "gridcolor": "white",
            "gridwidth": 2,
            "linecolor": "white",
            "showbackground": true,
            "ticks": "",
            "zerolinecolor": "white"
           },
           "yaxis": {
            "backgroundcolor": "#E5ECF6",
            "gridcolor": "white",
            "gridwidth": 2,
            "linecolor": "white",
            "showbackground": true,
            "ticks": "",
            "zerolinecolor": "white"
           },
           "zaxis": {
            "backgroundcolor": "#E5ECF6",
            "gridcolor": "white",
            "gridwidth": 2,
            "linecolor": "white",
            "showbackground": true,
            "ticks": "",
            "zerolinecolor": "white"
           }
          },
          "shapedefaults": {
           "line": {
            "color": "#2a3f5f"
           }
          },
          "ternary": {
           "aaxis": {
            "gridcolor": "white",
            "linecolor": "white",
            "ticks": ""
           },
           "baxis": {
            "gridcolor": "white",
            "linecolor": "white",
            "ticks": ""
           },
           "bgcolor": "#E5ECF6",
           "caxis": {
            "gridcolor": "white",
            "linecolor": "white",
            "ticks": ""
           }
          },
          "title": {
           "x": 0.05
          },
          "xaxis": {
           "automargin": true,
           "gridcolor": "white",
           "linecolor": "white",
           "ticks": "",
           "title": {
            "standoff": 15
           },
           "zerolinecolor": "white",
           "zerolinewidth": 2
          },
          "yaxis": {
           "automargin": true,
           "gridcolor": "white",
           "linecolor": "white",
           "ticks": "",
           "title": {
            "standoff": 15
           },
           "zerolinecolor": "white",
           "zerolinewidth": 2
          }
         }
        },
        "xaxis": {
         "anchor": "y",
         "domain": [
          0,
          1
         ],
         "title": {
          "text": "0"
         }
        },
        "yaxis": {
         "anchor": "x",
         "domain": [
          0,
          1
         ],
         "title": {
          "text": "1"
         }
        }
       }
      },
      "text/html": [
       "<div>                            <div id=\"3e739b60-4aa2-4c32-8b88-e9eadb0a625b\" class=\"plotly-graph-div\" style=\"height:525px; width:100%;\"></div>            <script type=\"text/javascript\">                require([\"plotly\"], function(Plotly) {                    window.PLOTLYENV=window.PLOTLYENV || {};                                    if (document.getElementById(\"3e739b60-4aa2-4c32-8b88-e9eadb0a625b\")) {                    Plotly.newPlot(                        \"3e739b60-4aa2-4c32-8b88-e9eadb0a625b\",                        [{\"customdata\":[[\"Male\",19,15,39],[\"Male\",21,15,81],[\"Female\",20,16,6],[\"Female\",23,16,77],[\"Female\",31,17,40],[\"Female\",22,17,76],[\"Female\",35,18,6],[\"Female\",23,18,94],[\"Male\",64,19,3],[\"Female\",30,19,72],[\"Male\",67,19,14],[\"Female\",35,19,99],[\"Female\",58,20,15],[\"Female\",24,20,77],[\"Male\",37,20,13],[\"Male\",22,20,79],[\"Female\",35,21,35],[\"Male\",20,21,66],[\"Male\",52,23,29],[\"Female\",35,23,98],[\"Male\",35,24,35],[\"Male\",25,24,73],[\"Female\",46,25,5],[\"Male\",31,25,73],[\"Female\",54,28,14],[\"Male\",29,28,82],[\"Female\",45,28,32],[\"Male\",35,28,61],[\"Female\",40,29,31],[\"Female\",23,29,87],[\"Male\",60,30,4],[\"Female\",21,30,73],[\"Male\",53,33,4],[\"Male\",18,33,92],[\"Female\",49,33,14],[\"Female\",21,33,81],[\"Female\",42,34,17],[\"Female\",30,34,73],[\"Female\",36,37,26],[\"Female\",20,37,75],[\"Female\",65,38,35],[\"Male\",24,38,92],[\"Male\",48,39,36],[\"Female\",31,39,61],[\"Female\",49,39,28],[\"Female\",24,39,65],[\"Female\",50,40,55],[\"Female\",27,40,47],[\"Female\",29,40,42],[\"Female\",31,40,42],[\"Female\",49,42,52],[\"Male\",33,42,60],[\"Female\",31,43,54],[\"Male\",59,43,60],[\"Female\",50,43,45],[\"Male\",47,43,41],[\"Female\",51,44,50],[\"Male\",69,44,46],[\"Female\",27,46,51],[\"Male\",53,46,46],[\"Male\",70,46,56],[\"Male\",19,46,55],[\"Female\",67,47,52],[\"Female\",54,47,59],[\"Male\",63,48,51],[\"Male\",18,48,59],[\"Female\",43,48,50],[\"Female\",68,48,48],[\"Male\",19,48,59],[\"Female\",32,48,47],[\"Male\",70,49,55],[\"Female\",47,49,42],[\"Female\",60,50,49],[\"Female\",60,50,56],[\"Male\",59,54,47],[\"Male\",26,54,54],[\"Female\",45,54,53],[\"Male\",40,54,48],[\"Female\",23,54,52],[\"Female\",49,54,42],[\"Male\",57,54,51],[\"Male\",38,54,55],[\"Male\",67,54,41],[\"Female\",46,54,44],[\"Female\",21,54,57],[\"Male\",48,54,46],[\"Female\",55,57,58],[\"Female\",22,57,55],[\"Female\",34,58,60],[\"Female\",50,58,46],[\"Female\",68,59,55],[\"Male\",18,59,41],[\"Male\",48,60,49],[\"Female\",40,60,40],[\"Female\",32,60,42],[\"Male\",24,60,52],[\"Female\",47,60,47],[\"Female\",27,60,50],[\"Male\",48,61,42],[\"Male\",20,61,49],[\"Female\",23,62,41],[\"Female\",49,62,48],[\"Male\",67,62,59],[\"Male\",26,62,55],[\"Male\",49,62,56],[\"Female\",21,62,42],[\"Female\",66,63,50],[\"Male\",54,63,46],[\"Male\",68,63,43],[\"Male\",66,63,48],[\"Male\",65,63,52],[\"Female\",19,63,54],[\"Female\",38,64,42],[\"Male\",19,64,46],[\"Female\",18,65,48],[\"Female\",19,65,50],[\"Female\",63,65,43],[\"Female\",49,65,59],[\"Female\",51,67,43],[\"Female\",50,67,57],[\"Male\",27,67,56],[\"Female\",38,67,40],[\"Female\",40,69,58],[\"Male\",39,69,91],[\"Female\",23,70,29],[\"Female\",31,70,77],[\"Male\",43,71,35],[\"Male\",40,71,95],[\"Male\",59,71,11],[\"Male\",38,71,75],[\"Male\",47,71,9],[\"Male\",39,71,75],[\"Female\",25,72,34],[\"Female\",31,72,71],[\"Male\",20,73,5],[\"Female\",29,73,88],[\"Female\",44,73,7],[\"Male\",32,73,73],[\"Male\",19,74,10],[\"Female\",35,74,72],[\"Female\",57,75,5],[\"Male\",32,75,93],[\"Female\",28,76,40],[\"Female\",32,76,87],[\"Male\",25,77,12],[\"Male\",28,77,97],[\"Male\",48,77,36],[\"Female\",32,77,74],[\"Female\",34,78,22],[\"Male\",34,78,90],[\"Male\",43,78,17],[\"Male\",39,78,88],[\"Female\",44,78,20],[\"Female\",38,78,76],[\"Female\",47,78,16],[\"Female\",27,78,89],[\"Male\",37,78,1],[\"Female\",30,78,78],[\"Male\",34,78,1],[\"Female\",30,78,73],[\"Female\",56,79,35],[\"Female\",29,79,83],[\"Male\",19,81,5],[\"Female\",31,81,93],[\"Male\",50,85,26],[\"Female\",36,85,75],[\"Male\",42,86,20],[\"Female\",33,86,95],[\"Female\",36,87,27],[\"Male\",32,87,63],[\"Male\",40,87,13],[\"Male\",28,87,75],[\"Male\",36,87,10],[\"Male\",36,87,92],[\"Female\",52,88,13],[\"Female\",30,88,86],[\"Male\",58,88,15],[\"Male\",27,88,69],[\"Male\",59,93,14],[\"Male\",35,93,90],[\"Female\",37,97,32],[\"Female\",32,97,86],[\"Male\",46,98,15],[\"Female\",29,98,88],[\"Female\",41,99,39],[\"Male\",30,99,97],[\"Female\",54,101,24],[\"Male\",28,101,68],[\"Female\",41,103,17],[\"Female\",36,103,85],[\"Female\",34,103,23],[\"Female\",32,103,69],[\"Male\",33,113,8],[\"Female\",38,113,91],[\"Female\",47,120,16],[\"Female\",35,120,79],[\"Female\",45,126,28],[\"Male\",32,126,74],[\"Male\",32,137,18],[\"Male\",30,137,83]],\"hovertemplate\":\"0=%{x}<br>1=%{y}<br>Gender=%{customdata[0]}<br>Age=%{customdata[1]}<br>Annual Income (k$)=%{customdata[2]}<br>Spending Score (1-100)=%{customdata[3]}<br>Cluster=%{marker.color}<extra></extra>\",\"legendgroup\":\"\",\"marker\":{\"color\":[1,0,1,0,1,0,1,0,1,0,1,0,1,0,1,0,1,0,1,0,1,0,1,0,1,0,1,0,1,0,1,0,1,0,1,0,1,0,1,0,1,0,1,0,1,0,1,1,1,1,1,0,0,1,1,1,1,1,0,1,1,0,1,1,1,0,1,1,0,1,1,1,1,1,1,0,1,1,0,1,1,0,1,1,0,1,1,0,0,1,1,1,1,1,1,0,1,0,1,0,1,1,1,0,1,1,1,1,1,1,1,0,1,0,0,0,1,0,1,1,0,1,0,0,1,0,1,0,1,0,1,0,1,0,1,0,1,0,1,0,1,0,1,0,1,0,1,0,1,0,1,0,1,0,1,0,1,0,1,0,1,0,1,0,1,0,1,0,1,0,1,0,1,0,1,0,1,0,1,0,1,0,1,0,1,0,1,0,1,0,1,0,1,0,1,0,1,0,1,0],\"coloraxis\":\"coloraxis\",\"symbol\":\"circle\"},\"mode\":\"markers\",\"name\":\"\",\"orientation\":\"v\",\"showlegend\":false,\"x\":[-31.870507802005786,0.763396907641417,-57.40872556861486,-2.169896483288472,-32.17491965978335,-2.178277766629788,-59.06605652876711,12.369326099715982,-66.31565681499914,-5.656775337751948,-58.236617886090286,14.620259233023141,-55.1612125648372,-0.004306605838724794,-52.76474737167736,1.9456347992203202,-34.50623489513607,-7.305730315481951,-41.25749327077519,16.188826807788487,-32.74031183710684,-0.9827027388168058,-57.81028209512068,-1.5279069190090864,-50.4821841130093,7.689933062327894,-34.633479266781,-9.9498386919536,-33.88596375043209,13.342401794241127,-58.29871229992809,3.3050401769318998,-55.209969842440934,20.57181938426103,-46.594108016681105,11.358935255816803,-42.32465809005924,3.958836455001173,-32.35092130903202,9.18649451746992,-30.168563563980552,22.38117928144106,-25.581364643346998,-2.7188906794895056,-32.05831086412522,1.7479147303962492,-10.436738474316819,-12.378303896953613,-16.686234809833525,-17.064183209678646,-11.428471743528979,-2.1169125239123514,-5.866302120365908,-6.441600702555834,-16.530780442357177,-19.10784385301733,-12.201131109901864,-18.746652718935774,-5.7024717704673105,-14.545783481488662,-9.898379854102599,-1.0466921606589972,-11.886802245419673,-3.928162128177682,-11.328260928993314,3.4635500883775547,-8.334773433149074,-14.631121436426987,3.2745758884549936,-8.61404674182179,-8.918453298680324,-14.790001234351905,-11.156049295753395,-5.6540737775046805,-10.184504023672444,1.5536200920207464,-2.8228862091148494,-5.807997722536846,0.5485496865745072,-12.224744537481635,-6.662569613399489,0.07192619555698568,-16.412276638694678,-10.08582893250004,4.85648059945442,-8.891784327131242,0.9832773627235751,4.861436452347177,7.1123695856543305,-6.915168649604053,-2.654094705404424,-4.209335745773848,-3.001948703251901,-8.564123627334048,-5.480337022739656,3.8914216027104134,-4.384967508543258,1.752505997728818,-7.915283202157534,2.8779699139228554,-3.3882836873574185,-2.799637367095264,2.444788562975202,7.048744749372326,3.4883346537604067,-2.224338784905336,-3.8515647412217864,-4.727860352578903,-9.731488659315618,-5.423557746435703,-2.0905975360853106,8.174208665566363,-4.259618144902703,2.4748776640537726,4.824485888533326,6.207504693824681,-7.609335621016664,7.612247219610517,-4.164363183259789,7.028562053160193,10.588972148772115,-4.065688092087387,10.881582593678907,37.0084413796311,-8.111113563896303,28.10492496185724,-6.5859775273626715,41.140735228822535,-28.473480788690637,25.798753576528487,-27.777783394833843,25.609779376605925,-3.3817974120204766,24.566227984901644,-24.6421839686664,38.89475794840814,-27.605571761593932,26.537887809536077,-19.934586236365963,25.77360972650452,-30.456947327114968,43.43509990036141,3.1218230812259113,39.30776190406273,-17.73051537265818,48.51226474916564,-3.213005908310046,29.678448389515346,-10.982677126548555,42.46508505072465,-16.613427438886387,39.948221045897924,-14.44441213098807,30.70523721453699,-18.155320741183584,43.0019079475756,-28.05552628106237,33.78902381913138,-27.488603681294677,29.859041306096586,-4.333513971611328,38.496621551431815,-19.74408161399921,47.15592021634244,-6.741791179480137,34.417676247176686,-9.357335576398327,51.293169918426614,-2.132873839271183,26.91889705426957,-13.892721675458843,37.10675188524333,-15.494814383589473,48.956898830181146,-15.571771055186485,45.963406033417826,-15.133623249507922,33.16838808886721,-13.165388855322055,51.10572614094824,7.4945446672718345,50.8832268076604,-6.979522657006427,53.610783431985084,13.417905424516453,61.084418774868226,0.34857532510495165,39.8457506377977,-1.5194535554643238,52.87317962142167,4.519344859635345,41.053132379400566,-1.1952182861156928,63.09762043064909,6.567602071225675,58.3530721345348,19.909354618412763,58.52185833732616,20.981105404110302,72.44882647340775],\"xaxis\":\"x\",\"y\":[-33.00142530774926,-56.84386532086798,-13.122936191157871,-53.47790486205223,-30.387004999670335,-52.226580756092225,-9.541706693027361,-61.617684291004345,-3.2135993377670045,-47.26645335253608,-9.13375312453968,-62.107294035974796,-10.07797780444942,-50.1134367494043,-11.68041990219277,-51.52319431797477,-23.76007337136263,-43.51587243807365,-16.47343197905353,-58.29987754480805,-21.33494618903909,-44.453314311148254,-1.8685457878217597,-42.85914736640781,-3.5609192150507876,-45.861172822468944,-15.07005050623618,-33.0231963957271,-14.342587211809022,-48.70815621933717,4.580759271151111,-40.12692075803402,6.089130033292181,-48.999047230998634,-0.17386659226093987,-42.29310222692669,-2.003988029208309,-35.7147310223204,-5.529874296802283,-35.74708303163301,-6.088729918366259,-44.17137737649347,-8.080676221341678,-24.654924205406957,-3.358402367242248,-27.86733495119753,-17.914728134772613,-16.33561914987022,-13.204120837093654,-12.942190431327237,-14.70720113856738,-21.39395303591496,-17.40402622582803,-17.180482033510323,-9.75046513842879,-7.847706421470311,-11.680692115114542,-7.0276641376086495,-13.781019110831247,-7.506355928857649,-11.019083293863355,-17.12439505950504,-8.307948849463695,-14.027891556759625,-7.449520352153331,-17.934263133114,-9.494910828415499,-5.0729535935311905,-17.80329793023079,-9.213787315924725,-8.020042530137788,-3.5713656382252554,-5.077837343116539,-9.095232412930736,-0.8274724734309733,-9.166719238391098,-6.104466802208082,-3.8897249096139905,-8.411787684236673,0.7324434047470678,-3.3850572048055048,-8.169050385194605,3.663730638046878,-0.8082793667066184,-11.543285997013234,-1.6941761237442545,-5.239255498062579,-7.839366449002425,-8.328976193972865,1.8012571917868865,-0.19821566149240274,1.2883143339754854,1.4343374966967442,5.551838106249315,3.356289320379581,-3.4305681167063797,2.45119945661759,-1.8898453452526947,6.26010829395212,-1.4243124565919558,4.3682675307150785,3.7559677358643433,-0.19970800766018365,-3.2736270002636836,-0.8353409153518816,3.532423543546629,5.642924749516036,6.36699664052563,9.922250225096656,6.790751912320091,4.364132383828773,-2.808094111602944,7.375583447443562,2.591590267054459,2.1211736288083736,1.1043116688875285,10.884175665562962,-0.1319544772344273,10.929344685846806,2.763589343335202,0.3253032584234007,10.948537792571159,2.496775187983435,-16.573338201166695,17.72223632706886,-8.777893957162808,17.70643462376207,-17.121275869009242,33.5758038235421,-5.904934646735103,33.15204855174764,-5.773969443851892,16.731350280707495,-3.71766101386828,33.52839385439144,-12.927746576027996,35.523731560784434,-3.926147246347947,31.33623647193927,-2.1509623288551056,39.99085781595257,-13.787667419506143,16.914267310709686,-9.535810203652792,33.399327708758015,-14.990431101764738,22.63760142142318,-1.2665579179852509,29.647254448127814,-9.3788690872101,33.69550918108684,-7.576215909989987,32.104733639763964,-0.8202181360488704,34.79328357402171,-9.721711925990542,42.09233526622003,-3.0157669219186047,41.69943965757039,-0.14619901490846415,25.875988080773244,-5.207924304370775,39.86443447103767,-9.068378257742275,35.105673460739325,5.150395131675004,38.30980905352699,-5.912396377574004,34.314998493854716,13.130248751848864,42.87364944501595,5.719424963491688,44.07152937768919,-2.989384297277112,45.25360760705565,0.4766817012769779,44.89157166155085,9.840316976461825,49.63832908304199,2.877732027290822,39.66015306413959,8.013993654014023,51.40374650136413,7.281646610001508,37.78337026074059,3.055765307707651,49.7113730741351,21.054080217482408,53.64297196134993,13.962022411595967,49.28273405275528,22.620778902495584,65.84422984531432,18.864228603362026,68.74506412655128,31.016926063624993,66.4464251086076,38.343852726632605,79.37514628699915,41.8088330901009],\"yaxis\":\"y\",\"type\":\"scatter\"}],                        {\"template\":{\"data\":{\"bar\":[{\"error_x\":{\"color\":\"#2a3f5f\"},\"error_y\":{\"color\":\"#2a3f5f\"},\"marker\":{\"line\":{\"color\":\"#E5ECF6\",\"width\":0.5},\"pattern\":{\"fillmode\":\"overlay\",\"size\":10,\"solidity\":0.2}},\"type\":\"bar\"}],\"barpolar\":[{\"marker\":{\"line\":{\"color\":\"#E5ECF6\",\"width\":0.5},\"pattern\":{\"fillmode\":\"overlay\",\"size\":10,\"solidity\":0.2}},\"type\":\"barpolar\"}],\"carpet\":[{\"aaxis\":{\"endlinecolor\":\"#2a3f5f\",\"gridcolor\":\"white\",\"linecolor\":\"white\",\"minorgridcolor\":\"white\",\"startlinecolor\":\"#2a3f5f\"},\"baxis\":{\"endlinecolor\":\"#2a3f5f\",\"gridcolor\":\"white\",\"linecolor\":\"white\",\"minorgridcolor\":\"white\",\"startlinecolor\":\"#2a3f5f\"},\"type\":\"carpet\"}],\"choropleth\":[{\"colorbar\":{\"outlinewidth\":0,\"ticks\":\"\"},\"type\":\"choropleth\"}],\"contour\":[{\"colorbar\":{\"outlinewidth\":0,\"ticks\":\"\"},\"colorscale\":[[0.0,\"#0d0887\"],[0.1111111111111111,\"#46039f\"],[0.2222222222222222,\"#7201a8\"],[0.3333333333333333,\"#9c179e\"],[0.4444444444444444,\"#bd3786\"],[0.5555555555555556,\"#d8576b\"],[0.6666666666666666,\"#ed7953\"],[0.7777777777777778,\"#fb9f3a\"],[0.8888888888888888,\"#fdca26\"],[1.0,\"#f0f921\"]],\"type\":\"contour\"}],\"contourcarpet\":[{\"colorbar\":{\"outlinewidth\":0,\"ticks\":\"\"},\"type\":\"contourcarpet\"}],\"heatmap\":[{\"colorbar\":{\"outlinewidth\":0,\"ticks\":\"\"},\"colorscale\":[[0.0,\"#0d0887\"],[0.1111111111111111,\"#46039f\"],[0.2222222222222222,\"#7201a8\"],[0.3333333333333333,\"#9c179e\"],[0.4444444444444444,\"#bd3786\"],[0.5555555555555556,\"#d8576b\"],[0.6666666666666666,\"#ed7953\"],[0.7777777777777778,\"#fb9f3a\"],[0.8888888888888888,\"#fdca26\"],[1.0,\"#f0f921\"]],\"type\":\"heatmap\"}],\"heatmapgl\":[{\"colorbar\":{\"outlinewidth\":0,\"ticks\":\"\"},\"colorscale\":[[0.0,\"#0d0887\"],[0.1111111111111111,\"#46039f\"],[0.2222222222222222,\"#7201a8\"],[0.3333333333333333,\"#9c179e\"],[0.4444444444444444,\"#bd3786\"],[0.5555555555555556,\"#d8576b\"],[0.6666666666666666,\"#ed7953\"],[0.7777777777777778,\"#fb9f3a\"],[0.8888888888888888,\"#fdca26\"],[1.0,\"#f0f921\"]],\"type\":\"heatmapgl\"}],\"histogram\":[{\"marker\":{\"pattern\":{\"fillmode\":\"overlay\",\"size\":10,\"solidity\":0.2}},\"type\":\"histogram\"}],\"histogram2d\":[{\"colorbar\":{\"outlinewidth\":0,\"ticks\":\"\"},\"colorscale\":[[0.0,\"#0d0887\"],[0.1111111111111111,\"#46039f\"],[0.2222222222222222,\"#7201a8\"],[0.3333333333333333,\"#9c179e\"],[0.4444444444444444,\"#bd3786\"],[0.5555555555555556,\"#d8576b\"],[0.6666666666666666,\"#ed7953\"],[0.7777777777777778,\"#fb9f3a\"],[0.8888888888888888,\"#fdca26\"],[1.0,\"#f0f921\"]],\"type\":\"histogram2d\"}],\"histogram2dcontour\":[{\"colorbar\":{\"outlinewidth\":0,\"ticks\":\"\"},\"colorscale\":[[0.0,\"#0d0887\"],[0.1111111111111111,\"#46039f\"],[0.2222222222222222,\"#7201a8\"],[0.3333333333333333,\"#9c179e\"],[0.4444444444444444,\"#bd3786\"],[0.5555555555555556,\"#d8576b\"],[0.6666666666666666,\"#ed7953\"],[0.7777777777777778,\"#fb9f3a\"],[0.8888888888888888,\"#fdca26\"],[1.0,\"#f0f921\"]],\"type\":\"histogram2dcontour\"}],\"mesh3d\":[{\"colorbar\":{\"outlinewidth\":0,\"ticks\":\"\"},\"type\":\"mesh3d\"}],\"parcoords\":[{\"line\":{\"colorbar\":{\"outlinewidth\":0,\"ticks\":\"\"}},\"type\":\"parcoords\"}],\"pie\":[{\"automargin\":true,\"type\":\"pie\"}],\"scatter\":[{\"marker\":{\"colorbar\":{\"outlinewidth\":0,\"ticks\":\"\"}},\"type\":\"scatter\"}],\"scatter3d\":[{\"line\":{\"colorbar\":{\"outlinewidth\":0,\"ticks\":\"\"}},\"marker\":{\"colorbar\":{\"outlinewidth\":0,\"ticks\":\"\"}},\"type\":\"scatter3d\"}],\"scattercarpet\":[{\"marker\":{\"colorbar\":{\"outlinewidth\":0,\"ticks\":\"\"}},\"type\":\"scattercarpet\"}],\"scattergeo\":[{\"marker\":{\"colorbar\":{\"outlinewidth\":0,\"ticks\":\"\"}},\"type\":\"scattergeo\"}],\"scattergl\":[{\"marker\":{\"colorbar\":{\"outlinewidth\":0,\"ticks\":\"\"}},\"type\":\"scattergl\"}],\"scattermapbox\":[{\"marker\":{\"colorbar\":{\"outlinewidth\":0,\"ticks\":\"\"}},\"type\":\"scattermapbox\"}],\"scatterpolar\":[{\"marker\":{\"colorbar\":{\"outlinewidth\":0,\"ticks\":\"\"}},\"type\":\"scatterpolar\"}],\"scatterpolargl\":[{\"marker\":{\"colorbar\":{\"outlinewidth\":0,\"ticks\":\"\"}},\"type\":\"scatterpolargl\"}],\"scatterternary\":[{\"marker\":{\"colorbar\":{\"outlinewidth\":0,\"ticks\":\"\"}},\"type\":\"scatterternary\"}],\"surface\":[{\"colorbar\":{\"outlinewidth\":0,\"ticks\":\"\"},\"colorscale\":[[0.0,\"#0d0887\"],[0.1111111111111111,\"#46039f\"],[0.2222222222222222,\"#7201a8\"],[0.3333333333333333,\"#9c179e\"],[0.4444444444444444,\"#bd3786\"],[0.5555555555555556,\"#d8576b\"],[0.6666666666666666,\"#ed7953\"],[0.7777777777777778,\"#fb9f3a\"],[0.8888888888888888,\"#fdca26\"],[1.0,\"#f0f921\"]],\"type\":\"surface\"}],\"table\":[{\"cells\":{\"fill\":{\"color\":\"#EBF0F8\"},\"line\":{\"color\":\"white\"}},\"header\":{\"fill\":{\"color\":\"#C8D4E3\"},\"line\":{\"color\":\"white\"}},\"type\":\"table\"}]},\"layout\":{\"annotationdefaults\":{\"arrowcolor\":\"#2a3f5f\",\"arrowhead\":0,\"arrowwidth\":1},\"autotypenumbers\":\"strict\",\"coloraxis\":{\"colorbar\":{\"outlinewidth\":0,\"ticks\":\"\"}},\"colorscale\":{\"diverging\":[[0,\"#8e0152\"],[0.1,\"#c51b7d\"],[0.2,\"#de77ae\"],[0.3,\"#f1b6da\"],[0.4,\"#fde0ef\"],[0.5,\"#f7f7f7\"],[0.6,\"#e6f5d0\"],[0.7,\"#b8e186\"],[0.8,\"#7fbc41\"],[0.9,\"#4d9221\"],[1,\"#276419\"]],\"sequential\":[[0.0,\"#0d0887\"],[0.1111111111111111,\"#46039f\"],[0.2222222222222222,\"#7201a8\"],[0.3333333333333333,\"#9c179e\"],[0.4444444444444444,\"#bd3786\"],[0.5555555555555556,\"#d8576b\"],[0.6666666666666666,\"#ed7953\"],[0.7777777777777778,\"#fb9f3a\"],[0.8888888888888888,\"#fdca26\"],[1.0,\"#f0f921\"]],\"sequentialminus\":[[0.0,\"#0d0887\"],[0.1111111111111111,\"#46039f\"],[0.2222222222222222,\"#7201a8\"],[0.3333333333333333,\"#9c179e\"],[0.4444444444444444,\"#bd3786\"],[0.5555555555555556,\"#d8576b\"],[0.6666666666666666,\"#ed7953\"],[0.7777777777777778,\"#fb9f3a\"],[0.8888888888888888,\"#fdca26\"],[1.0,\"#f0f921\"]]},\"colorway\":[\"#636efa\",\"#EF553B\",\"#00cc96\",\"#ab63fa\",\"#FFA15A\",\"#19d3f3\",\"#FF6692\",\"#B6E880\",\"#FF97FF\",\"#FECB52\"],\"font\":{\"color\":\"#2a3f5f\"},\"geo\":{\"bgcolor\":\"white\",\"lakecolor\":\"white\",\"landcolor\":\"#E5ECF6\",\"showlakes\":true,\"showland\":true,\"subunitcolor\":\"white\"},\"hoverlabel\":{\"align\":\"left\"},\"hovermode\":\"closest\",\"mapbox\":{\"style\":\"light\"},\"paper_bgcolor\":\"white\",\"plot_bgcolor\":\"#E5ECF6\",\"polar\":{\"angularaxis\":{\"gridcolor\":\"white\",\"linecolor\":\"white\",\"ticks\":\"\"},\"bgcolor\":\"#E5ECF6\",\"radialaxis\":{\"gridcolor\":\"white\",\"linecolor\":\"white\",\"ticks\":\"\"}},\"scene\":{\"xaxis\":{\"backgroundcolor\":\"#E5ECF6\",\"gridcolor\":\"white\",\"gridwidth\":2,\"linecolor\":\"white\",\"showbackground\":true,\"ticks\":\"\",\"zerolinecolor\":\"white\"},\"yaxis\":{\"backgroundcolor\":\"#E5ECF6\",\"gridcolor\":\"white\",\"gridwidth\":2,\"linecolor\":\"white\",\"showbackground\":true,\"ticks\":\"\",\"zerolinecolor\":\"white\"},\"zaxis\":{\"backgroundcolor\":\"#E5ECF6\",\"gridcolor\":\"white\",\"gridwidth\":2,\"linecolor\":\"white\",\"showbackground\":true,\"ticks\":\"\",\"zerolinecolor\":\"white\"}},\"shapedefaults\":{\"line\":{\"color\":\"#2a3f5f\"}},\"ternary\":{\"aaxis\":{\"gridcolor\":\"white\",\"linecolor\":\"white\",\"ticks\":\"\"},\"baxis\":{\"gridcolor\":\"white\",\"linecolor\":\"white\",\"ticks\":\"\"},\"bgcolor\":\"#E5ECF6\",\"caxis\":{\"gridcolor\":\"white\",\"linecolor\":\"white\",\"ticks\":\"\"}},\"title\":{\"x\":0.05},\"xaxis\":{\"automargin\":true,\"gridcolor\":\"white\",\"linecolor\":\"white\",\"ticks\":\"\",\"title\":{\"standoff\":15},\"zerolinecolor\":\"white\",\"zerolinewidth\":2},\"yaxis\":{\"automargin\":true,\"gridcolor\":\"white\",\"linecolor\":\"white\",\"ticks\":\"\",\"title\":{\"standoff\":15},\"zerolinecolor\":\"white\",\"zerolinewidth\":2}}},\"xaxis\":{\"anchor\":\"y\",\"domain\":[0.0,1.0],\"title\":{\"text\":\"0\"}},\"yaxis\":{\"anchor\":\"x\",\"domain\":[0.0,1.0],\"title\":{\"text\":\"1\"}},\"coloraxis\":{\"colorbar\":{\"title\":{\"text\":\"Cluster\"}},\"colorscale\":[[0.0,\"#0d0887\"],[0.1111111111111111,\"#46039f\"],[0.2222222222222222,\"#7201a8\"],[0.3333333333333333,\"#9c179e\"],[0.4444444444444444,\"#bd3786\"],[0.5555555555555556,\"#d8576b\"],[0.6666666666666666,\"#ed7953\"],[0.7777777777777778,\"#fb9f3a\"],[0.8888888888888888,\"#fdca26\"],[1.0,\"#f0f921\"]]},\"legend\":{\"tracegroupgap\":0},\"margin\":{\"t\":60}},                        {\"responsive\": true}                    ).then(function(){\n",
       "                            \n",
       "var gd = document.getElementById('3e739b60-4aa2-4c32-8b88-e9eadb0a625b');\n",
       "var x = new MutationObserver(function (mutations, observer) {{\n",
       "        var display = window.getComputedStyle(gd).display;\n",
       "        if (!display || display === 'none') {{\n",
       "            console.log([gd, 'removed!']);\n",
       "            Plotly.purge(gd);\n",
       "            observer.disconnect();\n",
       "        }}\n",
       "}});\n",
       "\n",
       "// Listen for the removal of the full notebook cells\n",
       "var notebookContainer = gd.closest('#notebook-container');\n",
       "if (notebookContainer) {{\n",
       "    x.observe(notebookContainer, {childList: true});\n",
       "}}\n",
       "\n",
       "// Listen for the clearing of the current output cell\n",
       "var outputEl = gd.closest('.output');\n",
       "if (outputEl) {{\n",
       "    x.observe(outputEl, {childList: true});\n",
       "}}\n",
       "\n",
       "                        })                };                });            </script>        </div>"
      ]
     },
     "metadata": {},
     "output_type": "display_data"
    }
   ],
   "source": [
    "fig = px.scatter(pd.concat([new_df, pca_df], axis = 1), \n",
    "                 x = 0, y = 1, color='Cluster', hover_data=['Gender', 'Age' , 'Annual Income (k$)' ,'Spending Score (1-100)'])\n",
    "fig.show()"
   ]
  },
  {
   "cell_type": "code",
   "execution_count": 99,
   "id": "a9d8333f",
   "metadata": {},
   "outputs": [
    {
     "data": {
      "text/html": [
       "        <script type=\"text/javascript\">\n",
       "        window.PlotlyConfig = {MathJaxConfig: 'local'};\n",
       "        if (window.MathJax) {MathJax.Hub.Config({SVG: {font: \"STIX-Web\"}});}\n",
       "        if (typeof require !== 'undefined') {\n",
       "        require.undef(\"plotly\");\n",
       "        requirejs.config({\n",
       "            paths: {\n",
       "                'plotly': ['https://cdn.plot.ly/plotly-2.9.0.min']\n",
       "            }\n",
       "        });\n",
       "        require(['plotly'], function(Plotly) {\n",
       "            window._Plotly = Plotly;\n",
       "        });\n",
       "        }\n",
       "        </script>\n",
       "        "
      ]
     },
     "metadata": {},
     "output_type": "display_data"
    }
   ],
   "source": [
    "import plotly as py\n",
    "import plotly.graph_objs as go\n",
    "import warnings\n",
    "import os\n",
    "warnings.filterwarnings(\"ignore\")\n",
    "py.offline.init_notebook_mode(connected = True)"
   ]
  },
  {
   "cell_type": "code",
   "execution_count": 100,
   "id": "721a30db",
   "metadata": {},
   "outputs": [],
   "source": [
    "# Segmentation using Age , Annual Income and Spending Score\n",
    "X3 = df[['Age' , 'Annual Income (k$)' ,'Spending Score (1-100)']].iloc[: , :].values\n",
    "inertia = []\n",
    "for n in range(1 , 11):\n",
    "    algorithm = (KMeans(n_clusters = n ,init='k-means++', n_init = 10 ,max_iter=300, \n",
    "                        tol=0.0001,  random_state= 111  , algorithm='elkan') )\n",
    "    algorithm.fit(X3)\n",
    "    inertia.append(algorithm.inertia_)"
   ]
  },
  {
   "cell_type": "code",
   "execution_count": 101,
   "id": "fb2b189c",
   "metadata": {},
   "outputs": [
    {
     "data": {
      "text/plain": [
       "(Text(0.5, 0, 'Number of Clusters'), Text(0, 0.5, 'Inertia'))"
      ]
     },
     "execution_count": 101,
     "metadata": {},
     "output_type": "execute_result"
    },
    {
     "data": {
      "image/png": "[encoded data removed]",
      "text/plain": [
       "<Figure size 1080x432 with 1 Axes>"
      ]
     },
     "metadata": {
      "needs_background": "light"
     },
     "output_type": "display_data"
    }
   ],
   "source": [
    "plt.figure(1 , figsize = (15 ,6))\n",
    "plt.plot(np.arange(1 , 11) , inertia , 'o')\n",
    "plt.plot(np.arange(1 , 11) , inertia , '-' , alpha = 0.5)\n",
    "plt.xlabel('Number of Clusters') , plt.ylabel('Inertia')"
   ]
  },
  {
   "cell_type": "code",
   "execution_count": 102,
   "id": "9d093e7b",
   "metadata": {},
   "outputs": [],
   "source": [
    "algorithm = (KMeans(n_clusters = 5 ,init='k-means++', n_init = 10 ,max_iter=300, \n",
    "                        tol=0.0001,  random_state= 111  , algorithm='elkan') )\n",
    "algorithm.fit(X3)\n",
    "labels3 = algorithm.labels_\n",
    "centroids3 = algorithm.cluster_centers_"
   ]
  },
  {
   "cell_type": "code",
   "execution_count": 104,
   "id": "a57c0889",
   "metadata": {},
   "outputs": [
    {
     "data": {
      "application/vnd.plotly.v1+json": {
       "config": {
        "linkText": "Export to plot.ly",
        "plotlyServerURL": "https://plot.ly",
        "showLink": false
       },
       "data": [
        {
         "marker": {
          "color": [
           3,
           4,
           3,
           4,
           3,
           4,
           3,
           4,
           3,
           4,
           3,
           4,
           3,
           4,
           3,
           4,
           3,
           4,
           3,
           4,
           3,
           4,
           3,
           4,
           3,
           4,
           3,
           4,
           3,
           4,
           3,
           4,
           3,
           4,
           3,
           4,
           3,
           4,
           3,
           4,
           3,
           4,
           3,
           4,
           3,
           4,
           0,
           0,
           0,
           0,
           0,
           0,
           0,
           0,
           0,
           0,
           0,
           0,
           0,
           0,
           0,
           0,
           0,
           0,
           0,
           4,
           0,
           0,
           4,
           0,
           0,
           0,
           0,
           0,
           0,
           0,
           0,
           0,
           0,
           0,
           0,
           0,
           0,
           0,
           0,
           0,
           0,
           0,
           0,
           0,
           0,
           0,
           0,
           0,
           0,
           0,
           0,
           0,
           0,
           0,
           0,
           0,
           0,
           0,
           0,
           0,
           0,
           0,
           0,
           0,
           0,
           0,
           0,
           0,
           0,
           0,
           0,
           0,
           0,
           0,
           0,
           0,
           0,
           1,
           2,
           1,
           0,
           1,
           2,
           1,
           2,
           1,
           2,
           1,
           2,
           1,
           2,
           1,
           2,
           1,
           2,
           1,
           2,
           1,
           2,
           1,
           2,
           1,
           2,
           1,
           2,
           1,
           2,
           1,
           2,
           1,
           2,
           1,
           2,
           1,
           2,
           1,
           2,
           1,
           2,
           1,
           2,
           1,
           2,
           1,
           2,
           1,
           2,
           1,
           2,
           1,
           2,
           1,
           2,
           1,
           2,
           1,
           2,
           1,
           2,
           1,
           2,
           1,
           2,
           1,
           2,
           1,
           2,
           1,
           2,
           1,
           2,
           1,
           2,
           1
          ],
          "line": {
           "color": [
            3,
            4,
            3,
            4,
            3,
            4,
            3,
            4,
            3,
            4,
            3,
            4,
            3,
            4,
            3,
            4,
            3,
            4,
            3,
            4,
            3,
            4,
            3,
            4,
            3,
            4,
            3,
            4,
            3,
            4,
            3,
            4,
            3,
            4,
            3,
            4,
            3,
            4,
            3,
            4,
            3,
            4,
            3,
            4,
            3,
            4,
            0,
            0,
            0,
            0,
            0,
            0,
            0,
            0,
            0,
            0,
            0,
            0,
            0,
            0,
            0,
            0,
            0,
            0,
            0,
            4,
            0,
            0,
            4,
            0,
            0,
            0,
            0,
            0,
            0,
            0,
            0,
            0,
            0,
            0,
            0,
            0,
            0,
            0,
            0,
            0,
            0,
            0,
            0,
            0,
            0,
            0,
            0,
            0,
            0,
            0,
            0,
            0,
            0,
            0,
            0,
            0,
            0,
            0,
            0,
            0,
            0,
            0,
            0,
            0,
            0,
            0,
            0,
            0,
            0,
            0,
            0,
            0,
            0,
            0,
            0,
            0,
            0,
            1,
            2,
            1,
            0,
            1,
            2,
            1,
            2,
            1,
            2,
            1,
            2,
            1,
            2,
            1,
            2,
            1,
            2,
            1,
            2,
            1,
            2,
            1,
            2,
            1,
            2,
            1,
            2,
            1,
            2,
            1,
            2,
            1,
            2,
            1,
            2,
            1,
            2,
            1,
            2,
            1,
            2,
            1,
            2,
            1,
            2,
            1,
            2,
            1,
            2,
            1,
            2,
            1,
            2,
            1,
            2,
            1,
            2,
            1,
            2,
            1,
            2,
            1,
            2,
            1,
            2,
            1,
            2,
            1,
            2,
            1,
            2,
            1,
            2,
            1,
            2,
            1
           ],
           "width": 12
          },
          "opacity": 0.8,
          "size": 20
         },
         "mode": "markers",
         "type": "scatter3d",
         "x": [
          19,
          21,
          20,
          23,
          31,
          22,
          35,
          23,
          64,
          30,
          67,
          35,
          58,
          24,
          37,
          22,
          35,
          20,
          52,
          35,
          35,
          25,
          46,
          31,
          54,
          29,
          45,
          35,
          40,
          23,
          60,
          21,
          53,
          18,
          49,
          21,
          42,
          30,
          36,
          20,
          65,
          24,
          48,
          31,
          49,
          24,
          50,
          27,
          29,
          31,
          49,
          33,
          31,
          59,
          50,
          47,
          51,
          69,
          27,
          53,
          70,
          19,
          67,
          54,
          63,
          18,
          43,
          68,
          19,
          32,
          70,
          47,
          60,
          60,
          59,
          26,
          45,
          40,
          23,
          49,
          57,
          38,
          67,
          46,
          21,
          48,
          55,
          22,
          34,
          50,
          68,
          18,
          48,
          40,
          32,
          24,
          47,
          27,
          48,
          20,
          23,
          49,
          67,
          26,
          49,
          21,
          66,
          54,
          68,
          66,
          65,
          19,
          38,
          19,
          18,
          19,
          63,
          49,
          51,
          50,
          27,
          38,
          40,
          39,
          23,
          31,
          43,
          40,
          59,
          38,
          47,
          39,
          25,
          31,
          20,
          29,
          44,
          32,
          19,
          35,
          57,
          32,
          28,
          32,
          25,
          28,
          48,
          32,
          34,
          34,
          43,
          39,
          44,
          38,
          47,
          27,
          37,
          30,
          34,
          30,
          56,
          29,
          19,
          31,
          50,
          36,
          42,
          33,
          36,
          32,
          40,
          28,
          36,
          36,
          52,
          30,
          58,
          27,
          59,
          35,
          37,
          32,
          46,
          29,
          41,
          30,
          54,
          28,
          41,
          36,
          34,
          32,
          33,
          38,
          47,
          35,
          45,
          32,
          32,
          30
         ],
         "y": [
          39,
          81,
          6,
          77,
          40,
          76,
          6,
          94,
          3,
          72,
          14,
          99,
          15,
          77,
          13,
          79,
          35,
          66,
          29,
          98,
          35,
          73,
          5,
          73,
          14,
          82,
          32,
          61,
          31,
          87,
          4,
          73,
          4,
          92,
          14,
          81,
          17,
          73,
          26,
          75,
          35,
          92,
          36,
          61,
          28,
          65,
          55,
          47,
          42,
          42,
          52,
          60,
          54,
          60,
          45,
          41,
          50,
          46,
          51,
          46,
          56,
          55,
          52,
          59,
          51,
          59,
          50,
          48,
          59,
          47,
          55,
          42,
          49,
          56,
          47,
          54,
          53,
          48,
          52,
          42,
          51,
          55,
          41,
          44,
          57,
          46,
          58,
          55,
          60,
          46,
          55,
          41,
          49,
          40,
          42,
          52,
          47,
          50,
          42,
          49,
          41,
          48,
          59,
          55,
          56,
          42,
          50,
          46,
          43,
          48,
          52,
          54,
          42,
          46,
          48,
          50,
          43,
          59,
          43,
          57,
          56,
          40,
          58,
          91,
          29,
          77,
          35,
          95,
          11,
          75,
          9,
          75,
          34,
          71,
          5,
          88,
          7,
          73,
          10,
          72,
          5,
          93,
          40,
          87,
          12,
          97,
          36,
          74,
          22,
          90,
          17,
          88,
          20,
          76,
          16,
          89,
          1,
          78,
          1,
          73,
          35,
          83,
          5,
          93,
          26,
          75,
          20,
          95,
          27,
          63,
          13,
          75,
          10,
          92,
          13,
          86,
          15,
          69,
          14,
          90,
          32,
          86,
          15,
          88,
          39,
          97,
          24,
          68,
          17,
          85,
          23,
          69,
          8,
          91,
          16,
          79,
          28,
          74,
          18,
          83
         ],
         "z": [
          15,
          15,
          16,
          16,
          17,
          17,
          18,
          18,
          19,
          19,
          19,
          19,
          20,
          20,
          20,
          20,
          21,
          21,
          23,
          23,
          24,
          24,
          25,
          25,
          28,
          28,
          28,
          28,
          29,
          29,
          30,
          30,
          33,
          33,
          33,
          33,
          34,
          34,
          37,
          37,
          38,
          38,
          39,
          39,
          39,
          39,
          40,
          40,
          40,
          40,
          42,
          42,
          43,
          43,
          43,
          43,
          44,
          44,
          46,
          46,
          46,
          46,
          47,
          47,
          48,
          48,
          48,
          48,
          48,
          48,
          49,
          49,
          50,
          50,
          54,
          54,
          54,
          54,
          54,
          54,
          54,
          54,
          54,
          54,
          54,
          54,
          57,
          57,
          58,
          58,
          59,
          59,
          60,
          60,
          60,
          60,
          60,
          60,
          61,
          61,
          62,
          62,
          62,
          62,
          62,
          62,
          63,
          63,
          63,
          63,
          63,
          63,
          64,
          64,
          65,
          65,
          65,
          65,
          67,
          67,
          67,
          67,
          69,
          69,
          70,
          70,
          71,
          71,
          71,
          71,
          71,
          71,
          72,
          72,
          73,
          73,
          73,
          73,
          74,
          74,
          75,
          75,
          76,
          76,
          77,
          77,
          77,
          77,
          78,
          78,
          78,
          78,
          78,
          78,
          78,
          78,
          78,
          78,
          78,
          78,
          79,
          79,
          81,
          81,
          85,
          85,
          86,
          86,
          87,
          87,
          87,
          87,
          87,
          87,
          88,
          88,
          88,
          88,
          93,
          93,
          97,
          97,
          98,
          98,
          99,
          99,
          101,
          101,
          103,
          103,
          103,
          103,
          113,
          113,
          120,
          120,
          126,
          126,
          137,
          137
         ]
        }
       ],
       "layout": {
        "scene": {
         "xaxis": {
          "title": {
           "text": "Age"
          }
         },
         "yaxis": {
          "title": {
           "text": "Spending Score"
          }
         },
         "zaxis": {
          "title": {
           "text": "Annual Income"
          }
         }
        },
        "template": {
         "data": {
          "bar": [
           {
            "error_x": {
             "color": "#2a3f5f"
            },
            "error_y": {
             "color": "#2a3f5f"
            },
            "marker": {
             "line": {
              "color": "#E5ECF6",
              "width": 0.5
             },
             "pattern": {
              "fillmode": "overlay",
              "size": 10,
              "solidity": 0.2
             }
            },
            "type": "bar"
           }
          ],
          "barpolar": [
           {
            "marker": {
             "line": {
              "color": "#E5ECF6",
              "width": 0.5
             },
             "pattern": {
              "fillmode": "overlay",
              "size": 10,
              "solidity": 0.2
             }
            },
            "type": "barpolar"
           }
          ],
          "carpet": [
           {
            "aaxis": {
             "endlinecolor": "#2a3f5f",
             "gridcolor": "white",
             "linecolor": "white",
             "minorgridcolor": "white",
             "startlinecolor": "#2a3f5f"
            },
            "baxis": {
             "endlinecolor": "#2a3f5f",
             "gridcolor": "white",
             "linecolor": "white",
             "minorgridcolor": "white",
             "startlinecolor": "#2a3f5f"
            },
            "type": "carpet"
           }
          ],
          "choropleth": [
           {
            "colorbar": {
             "outlinewidth": 0,
             "ticks": ""
            },
            "type": "choropleth"
           }
          ],
          "contour": [
           {
            "colorbar": {
             "outlinewidth": 0,
             "ticks": ""
            },
            "colorscale": [
             [
              0,
              "#0d0887"
             ],
             [
              0.1111111111111111,
              "#46039f"
             ],
             [
              0.2222222222222222,
              "#7201a8"
             ],
             [
              0.3333333333333333,
              "#9c179e"
             ],
             [
              0.4444444444444444,
              "#bd3786"
             ],
             [
              0.5555555555555556,
              "#d8576b"
             ],
             [
              0.6666666666666666,
              "#ed7953"
             ],
             [
              0.7777777777777778,
              "#fb9f3a"
             ],
             [
              0.8888888888888888,
              "#fdca26"
             ],
             [
              1,
              "#f0f921"
             ]
            ],
            "type": "contour"
           }
          ],
          "contourcarpet": [
           {
            "colorbar": {
             "outlinewidth": 0,
             "ticks": ""
            },
            "type": "contourcarpet"
           }
          ],
          "heatmap": [
           {
            "colorbar": {
             "outlinewidth": 0,
             "ticks": ""
            },
            "colorscale": [
             [
              0,
              "#0d0887"
             ],
             [
              0.1111111111111111,
              "#46039f"
             ],
             [
              0.2222222222222222,
              "#7201a8"
             ],
             [
              0.3333333333333333,
              "#9c179e"
             ],
             [
              0.4444444444444444,
              "#bd3786"
             ],
             [
              0.5555555555555556,
              "#d8576b"
             ],
             [
              0.6666666666666666,
              "#ed7953"
             ],
             [
              0.7777777777777778,
              "#fb9f3a"
             ],
             [
              0.8888888888888888,
              "#fdca26"
             ],
             [
              1,
              "#f0f921"
             ]
            ],
            "type": "heatmap"
           }
          ],
          "heatmapgl": [
           {
            "colorbar": {
             "outlinewidth": 0,
             "ticks": ""
            },
            "colorscale": [
             [
              0,
              "#0d0887"
             ],
             [
              0.1111111111111111,
              "#46039f"
             ],
             [
              0.2222222222222222,
              "#7201a8"
             ],
             [
              0.3333333333333333,
              "#9c179e"
             ],
             [
              0.4444444444444444,
              "#bd3786"
             ],
             [
              0.5555555555555556,
              "#d8576b"
             ],
             [
              0.6666666666666666,
              "#ed7953"
             ],
             [
              0.7777777777777778,
              "#fb9f3a"
             ],
             [
              0.8888888888888888,
              "#fdca26"
             ],
             [
              1,
              "#f0f921"
             ]
            ],
            "type": "heatmapgl"
           }
          ],
          "histogram": [
           {
            "marker": {
             "pattern": {
              "fillmode": "overlay",
              "size": 10,
              "solidity": 0.2
             }
            },
            "type": "histogram"
           }
          ],
          "histogram2d": [
           {
            "colorbar": {
             "outlinewidth": 0,
             "ticks": ""
            },
            "colorscale": [
             [
              0,
              "#0d0887"
             ],
             [
              0.1111111111111111,
              "#46039f"
             ],
             [
              0.2222222222222222,
              "#7201a8"
             ],
             [
              0.3333333333333333,
              "#9c179e"
             ],
             [
              0.4444444444444444,
              "#bd3786"
             ],
             [
              0.5555555555555556,
              "#d8576b"
             ],
             [
              0.6666666666666666,
              "#ed7953"
             ],
             [
              0.7777777777777778,
              "#fb9f3a"
             ],
             [
              0.8888888888888888,
              "#fdca26"
             ],
             [
              1,
              "#f0f921"
             ]
            ],
            "type": "histogram2d"
           }
          ],
          "histogram2dcontour": [
           {
            "colorbar": {
             "outlinewidth": 0,
             "ticks": ""
            },
            "colorscale": [
             [
              0,
              "#0d0887"
             ],
             [
              0.1111111111111111,
              "#46039f"
             ],
             [
              0.2222222222222222,
              "#7201a8"
             ],
             [
              0.3333333333333333,
              "#9c179e"
             ],
             [
              0.4444444444444444,
              "#bd3786"
             ],
             [
              0.5555555555555556,
              "#d8576b"
             ],
             [
              0.6666666666666666,
              "#ed7953"
             ],
             [
              0.7777777777777778,
              "#fb9f3a"
             ],
             [
              0.8888888888888888,
              "#fdca26"
             ],
             [
              1,
              "#f0f921"
             ]
            ],
            "type": "histogram2dcontour"
           }
          ],
          "mesh3d": [
           {
            "colorbar": {
             "outlinewidth": 0,
             "ticks": ""
            },
            "type": "mesh3d"
           }
          ],
          "parcoords": [
           {
            "line": {
             "colorbar": {
              "outlinewidth": 0,
              "ticks": ""
             }
            },
            "type": "parcoords"
           }
          ],
          "pie": [
           {
            "automargin": true,
            "type": "pie"
           }
          ],
          "scatter": [
           {
            "marker": {
             "colorbar": {
              "outlinewidth": 0,
              "ticks": ""
             }
            },
            "type": "scatter"
           }
          ],
          "scatter3d": [
           {
            "line": {
             "colorbar": {
              "outlinewidth": 0,
              "ticks": ""
             }
            },
            "marker": {
             "colorbar": {
              "outlinewidth": 0,
              "ticks": ""
             }
            },
            "type": "scatter3d"
           }
          ],
          "scattercarpet": [
           {
            "marker": {
             "colorbar": {
              "outlinewidth": 0,
              "ticks": ""
             }
            },
            "type": "scattercarpet"
           }
          ],
          "scattergeo": [
           {
            "marker": {
             "colorbar": {
              "outlinewidth": 0,
              "ticks": ""
             }
            },
            "type": "scattergeo"
           }
          ],
          "scattergl": [
           {
            "marker": {
             "colorbar": {
              "outlinewidth": 0,
              "ticks": ""
             }
            },
            "type": "scattergl"
           }
          ],
          "scattermapbox": [
           {
            "marker": {
             "colorbar": {
              "outlinewidth": 0,
              "ticks": ""
             }
            },
            "type": "scattermapbox"
           }
          ],
          "scatterpolar": [
           {
            "marker": {
             "colorbar": {
              "outlinewidth": 0,
              "ticks": ""
             }
            },
            "type": "scatterpolar"
           }
          ],
          "scatterpolargl": [
           {
            "marker": {
             "colorbar": {
              "outlinewidth": 0,
              "ticks": ""
             }
            },
            "type": "scatterpolargl"
           }
          ],
          "scatterternary": [
           {
            "marker": {
             "colorbar": {
              "outlinewidth": 0,
              "ticks": ""
             }
            },
            "type": "scatterternary"
           }
          ],
          "surface": [
           {
            "colorbar": {
             "outlinewidth": 0,
             "ticks": ""
            },
            "colorscale": [
             [
              0,
              "#0d0887"
             ],
             [
              0.1111111111111111,
              "#46039f"
             ],
             [
              0.2222222222222222,
              "#7201a8"
             ],
             [
              0.3333333333333333,
              "#9c179e"
             ],
             [
              0.4444444444444444,
              "#bd3786"
             ],
             [
              0.5555555555555556,
              "#d8576b"
             ],
             [
              0.6666666666666666,
              "#ed7953"
             ],
             [
              0.7777777777777778,
              "#fb9f3a"
             ],
             [
              0.8888888888888888,
              "#fdca26"
             ],
             [
              1,
              "#f0f921"
             ]
            ],
            "type": "surface"
           }
          ],
          "table": [
           {
            "cells": {
             "fill": {
              "color": "#EBF0F8"
             },
             "line": {
              "color": "white"
             }
            },
            "header": {
             "fill": {
              "color": "#C8D4E3"
             },
             "line": {
              "color": "white"
             }
            },
            "type": "table"
           }
          ]
         },
         "layout": {
          "annotationdefaults": {
           "arrowcolor": "#2a3f5f",
           "arrowhead": 0,
           "arrowwidth": 1
          },
          "autotypenumbers": "strict",
          "coloraxis": {
           "colorbar": {
            "outlinewidth": 0,
            "ticks": ""
           }
          },
          "colorscale": {
           "diverging": [
            [
             0,
             "#8e0152"
            ],
            [
             0.1,
             "#c51b7d"
            ],
            [
             0.2,
             "#de77ae"
            ],
            [
             0.3,
             "#f1b6da"
            ],
            [
             0.4,
             "#fde0ef"
            ],
            [
             0.5,
             "#f7f7f7"
            ],
            [
             0.6,
             "#e6f5d0"
            ],
            [
             0.7,
             "#b8e186"
            ],
            [
             0.8,
             "#7fbc41"
            ],
            [
             0.9,
             "#4d9221"
            ],
            [
             1,
             "#276419"
            ]
           ],
           "sequential": [
            [
             0,
             "#0d0887"
            ],
            [
             0.1111111111111111,
             "#46039f"
            ],
            [
             0.2222222222222222,
             "#7201a8"
            ],
            [
             0.3333333333333333,
             "#9c179e"
            ],
            [
             0.4444444444444444,
             "#bd3786"
            ],
            [
             0.5555555555555556,
             "#d8576b"
            ],
            [
             0.6666666666666666,
             "#ed7953"
            ],
            [
             0.7777777777777778,
             "#fb9f3a"
            ],
            [
             0.8888888888888888,
             "#fdca26"
            ],
            [
             1,
             "#f0f921"
            ]
           ],
           "sequentialminus": [
            [
             0,
             "#0d0887"
            ],
            [
             0.1111111111111111,
             "#46039f"
            ],
            [
             0.2222222222222222,
             "#7201a8"
            ],
            [
             0.3333333333333333,
             "#9c179e"
            ],
            [
             0.4444444444444444,
             "#bd3786"
            ],
            [
             0.5555555555555556,
             "#d8576b"
            ],
            [
             0.6666666666666666,
             "#ed7953"
            ],
            [
             0.7777777777777778,
             "#fb9f3a"
            ],
            [
             0.8888888888888888,
             "#fdca26"
            ],
            [
             1,
             "#f0f921"
            ]
           ]
          },
          "colorway": [
           "#636efa",
           "#EF553B",
           "#00cc96",
           "#ab63fa",
           "#FFA15A",
           "#19d3f3",
           "#FF6692",
           "#B6E880",
           "#FF97FF",
           "#FECB52"
          ],
          "font": {
           "color": "#2a3f5f"
          },
          "geo": {
           "bgcolor": "white",
           "lakecolor": "white",
           "landcolor": "#E5ECF6",
           "showlakes": true,
           "showland": true,
           "subunitcolor": "white"
          },
          "hoverlabel": {
           "align": "left"
          },
          "hovermode": "closest",
          "mapbox": {
           "style": "light"
          },
          "paper_bgcolor": "white",
          "plot_bgcolor": "#E5ECF6",
          "polar": {
           "angularaxis": {
            "gridcolor": "white",
            "linecolor": "white",
            "ticks": ""
           },
           "bgcolor": "#E5ECF6",
           "radialaxis": {
            "gridcolor": "white",
            "linecolor": "white",
            "ticks": ""
           }
          },
          "scene": {
           "xaxis": {
            "backgroundcolor": "#E5ECF6",
            "gridcolor": "white",
            "gridwidth": 2,
            "linecolor": "white",
            "showbackground": true,
            "ticks": "",
            "zerolinecolor": "white"
           },
           "yaxis": {
            "backgroundcolor": "#E5ECF6",
            "gridcolor": "white",
            "gridwidth": 2,
            "linecolor": "white",
            "showbackground": true,
            "ticks": "",
            "zerolinecolor": "white"
           },
           "zaxis": {
            "backgroundcolor": "#E5ECF6",
            "gridcolor": "white",
            "gridwidth": 2,
            "linecolor": "white",
            "showbackground": true,
            "ticks": "",
            "zerolinecolor": "white"
           }
          },
          "shapedefaults": {
           "line": {
            "color": "#2a3f5f"
           }
          },
          "ternary": {
           "aaxis": {
            "gridcolor": "white",
            "linecolor": "white",
            "ticks": ""
           },
           "baxis": {
            "gridcolor": "white",
            "linecolor": "white",
            "ticks": ""
           },
           "bgcolor": "#E5ECF6",
           "caxis": {
            "gridcolor": "white",
            "linecolor": "white",
            "ticks": ""
           }
          },
          "title": {
           "x": 0.05
          },
          "xaxis": {
           "automargin": true,
           "gridcolor": "white",
           "linecolor": "white",
           "ticks": "",
           "title": {
            "standoff": 15
           },
           "zerolinecolor": "white",
           "zerolinewidth": 2
          },
          "yaxis": {
           "automargin": true,
           "gridcolor": "white",
           "linecolor": "white",
           "ticks": "",
           "title": {
            "standoff": 15
           },
           "zerolinecolor": "white",
           "zerolinewidth": 2
          }
         }
        },
        "title": {
         "text": "Clusters"
        }
       }
      },
      "text/html": [
       "<div>                            <div id=\"e2a002f9-5c81-460f-a5d3-83dbc0f5d669\" class=\"plotly-graph-div\" style=\"height:525px; width:100%;\"></div>            <script type=\"text/javascript\">                require([\"plotly\"], function(Plotly) {                    window.PLOTLYENV=window.PLOTLYENV || {};                                    if (document.getElementById(\"e2a002f9-5c81-460f-a5d3-83dbc0f5d669\")) {                    Plotly.newPlot(                        \"e2a002f9-5c81-460f-a5d3-83dbc0f5d669\",                        [{\"marker\":{\"color\":[3,4,3,4,3,4,3,4,3,4,3,4,3,4,3,4,3,4,3,4,3,4,3,4,3,4,3,4,3,4,3,4,3,4,3,4,3,4,3,4,3,4,3,4,3,4,0,0,0,0,0,0,0,0,0,0,0,0,0,0,0,0,0,0,0,4,0,0,4,0,0,0,0,0,0,0,0,0,0,0,0,0,0,0,0,0,0,0,0,0,0,0,0,0,0,0,0,0,0,0,0,0,0,0,0,0,0,0,0,0,0,0,0,0,0,0,0,0,0,0,0,0,0,1,2,1,0,1,2,1,2,1,2,1,2,1,2,1,2,1,2,1,2,1,2,1,2,1,2,1,2,1,2,1,2,1,2,1,2,1,2,1,2,1,2,1,2,1,2,1,2,1,2,1,2,1,2,1,2,1,2,1,2,1,2,1,2,1,2,1,2,1,2,1,2,1,2,1,2,1],\"line\":{\"color\":[3,4,3,4,3,4,3,4,3,4,3,4,3,4,3,4,3,4,3,4,3,4,3,4,3,4,3,4,3,4,3,4,3,4,3,4,3,4,3,4,3,4,3,4,3,4,0,0,0,0,0,0,0,0,0,0,0,0,0,0,0,0,0,0,0,4,0,0,4,0,0,0,0,0,0,0,0,0,0,0,0,0,0,0,0,0,0,0,0,0,0,0,0,0,0,0,0,0,0,0,0,0,0,0,0,0,0,0,0,0,0,0,0,0,0,0,0,0,0,0,0,0,0,1,2,1,0,1,2,1,2,1,2,1,2,1,2,1,2,1,2,1,2,1,2,1,2,1,2,1,2,1,2,1,2,1,2,1,2,1,2,1,2,1,2,1,2,1,2,1,2,1,2,1,2,1,2,1,2,1,2,1,2,1,2,1,2,1,2,1,2,1,2,1,2,1,2,1,2,1],\"width\":12},\"opacity\":0.8,\"size\":20},\"mode\":\"markers\",\"x\":[19,21,20,23,31,22,35,23,64,30,67,35,58,24,37,22,35,20,52,35,35,25,46,31,54,29,45,35,40,23,60,21,53,18,49,21,42,30,36,20,65,24,48,31,49,24,50,27,29,31,49,33,31,59,50,47,51,69,27,53,70,19,67,54,63,18,43,68,19,32,70,47,60,60,59,26,45,40,23,49,57,38,67,46,21,48,55,22,34,50,68,18,48,40,32,24,47,27,48,20,23,49,67,26,49,21,66,54,68,66,65,19,38,19,18,19,63,49,51,50,27,38,40,39,23,31,43,40,59,38,47,39,25,31,20,29,44,32,19,35,57,32,28,32,25,28,48,32,34,34,43,39,44,38,47,27,37,30,34,30,56,29,19,31,50,36,42,33,36,32,40,28,36,36,52,30,58,27,59,35,37,32,46,29,41,30,54,28,41,36,34,32,33,38,47,35,45,32,32,30],\"y\":[39,81,6,77,40,76,6,94,3,72,14,99,15,77,13,79,35,66,29,98,35,73,5,73,14,82,32,61,31,87,4,73,4,92,14,81,17,73,26,75,35,92,36,61,28,65,55,47,42,42,52,60,54,60,45,41,50,46,51,46,56,55,52,59,51,59,50,48,59,47,55,42,49,56,47,54,53,48,52,42,51,55,41,44,57,46,58,55,60,46,55,41,49,40,42,52,47,50,42,49,41,48,59,55,56,42,50,46,43,48,52,54,42,46,48,50,43,59,43,57,56,40,58,91,29,77,35,95,11,75,9,75,34,71,5,88,7,73,10,72,5,93,40,87,12,97,36,74,22,90,17,88,20,76,16,89,1,78,1,73,35,83,5,93,26,75,20,95,27,63,13,75,10,92,13,86,15,69,14,90,32,86,15,88,39,97,24,68,17,85,23,69,8,91,16,79,28,74,18,83],\"z\":[15,15,16,16,17,17,18,18,19,19,19,19,20,20,20,20,21,21,23,23,24,24,25,25,28,28,28,28,29,29,30,30,33,33,33,33,34,34,37,37,38,38,39,39,39,39,40,40,40,40,42,42,43,43,43,43,44,44,46,46,46,46,47,47,48,48,48,48,48,48,49,49,50,50,54,54,54,54,54,54,54,54,54,54,54,54,57,57,58,58,59,59,60,60,60,60,60,60,61,61,62,62,62,62,62,62,63,63,63,63,63,63,64,64,65,65,65,65,67,67,67,67,69,69,70,70,71,71,71,71,71,71,72,72,73,73,73,73,74,74,75,75,76,76,77,77,77,77,78,78,78,78,78,78,78,78,78,78,78,78,79,79,81,81,85,85,86,86,87,87,87,87,87,87,88,88,88,88,93,93,97,97,98,98,99,99,101,101,103,103,103,103,113,113,120,120,126,126,137,137],\"type\":\"scatter3d\"}],                        {\"scene\":{\"xaxis\":{\"title\":{\"text\":\"Age\"}},\"yaxis\":{\"title\":{\"text\":\"Spending Score\"}},\"zaxis\":{\"title\":{\"text\":\"Annual Income\"}}},\"template\":{\"data\":{\"barpolar\":[{\"marker\":{\"line\":{\"color\":\"#E5ECF6\",\"width\":0.5},\"pattern\":{\"fillmode\":\"overlay\",\"size\":10,\"solidity\":0.2}},\"type\":\"barpolar\"}],\"bar\":[{\"error_x\":{\"color\":\"#2a3f5f\"},\"error_y\":{\"color\":\"#2a3f5f\"},\"marker\":{\"line\":{\"color\":\"#E5ECF6\",\"width\":0.5},\"pattern\":{\"fillmode\":\"overlay\",\"size\":10,\"solidity\":0.2}},\"type\":\"bar\"}],\"carpet\":[{\"aaxis\":{\"endlinecolor\":\"#2a3f5f\",\"gridcolor\":\"white\",\"linecolor\":\"white\",\"minorgridcolor\":\"white\",\"startlinecolor\":\"#2a3f5f\"},\"baxis\":{\"endlinecolor\":\"#2a3f5f\",\"gridcolor\":\"white\",\"linecolor\":\"white\",\"minorgridcolor\":\"white\",\"startlinecolor\":\"#2a3f5f\"},\"type\":\"carpet\"}],\"choropleth\":[{\"colorbar\":{\"outlinewidth\":0,\"ticks\":\"\"},\"type\":\"choropleth\"}],\"contourcarpet\":[{\"colorbar\":{\"outlinewidth\":0,\"ticks\":\"\"},\"type\":\"contourcarpet\"}],\"contour\":[{\"colorbar\":{\"outlinewidth\":0,\"ticks\":\"\"},\"colorscale\":[[0.0,\"#0d0887\"],[0.1111111111111111,\"#46039f\"],[0.2222222222222222,\"#7201a8\"],[0.3333333333333333,\"#9c179e\"],[0.4444444444444444,\"#bd3786\"],[0.5555555555555556,\"#d8576b\"],[0.6666666666666666,\"#ed7953\"],[0.7777777777777778,\"#fb9f3a\"],[0.8888888888888888,\"#fdca26\"],[1.0,\"#f0f921\"]],\"type\":\"contour\"}],\"heatmapgl\":[{\"colorbar\":{\"outlinewidth\":0,\"ticks\":\"\"},\"colorscale\":[[0.0,\"#0d0887\"],[0.1111111111111111,\"#46039f\"],[0.2222222222222222,\"#7201a8\"],[0.3333333333333333,\"#9c179e\"],[0.4444444444444444,\"#bd3786\"],[0.5555555555555556,\"#d8576b\"],[0.6666666666666666,\"#ed7953\"],[0.7777777777777778,\"#fb9f3a\"],[0.8888888888888888,\"#fdca26\"],[1.0,\"#f0f921\"]],\"type\":\"heatmapgl\"}],\"heatmap\":[{\"colorbar\":{\"outlinewidth\":0,\"ticks\":\"\"},\"colorscale\":[[0.0,\"#0d0887\"],[0.1111111111111111,\"#46039f\"],[0.2222222222222222,\"#7201a8\"],[0.3333333333333333,\"#9c179e\"],[0.4444444444444444,\"#bd3786\"],[0.5555555555555556,\"#d8576b\"],[0.6666666666666666,\"#ed7953\"],[0.7777777777777778,\"#fb9f3a\"],[0.8888888888888888,\"#fdca26\"],[1.0,\"#f0f921\"]],\"type\":\"heatmap\"}],\"histogram2dcontour\":[{\"colorbar\":{\"outlinewidth\":0,\"ticks\":\"\"},\"colorscale\":[[0.0,\"#0d0887\"],[0.1111111111111111,\"#46039f\"],[0.2222222222222222,\"#7201a8\"],[0.3333333333333333,\"#9c179e\"],[0.4444444444444444,\"#bd3786\"],[0.5555555555555556,\"#d8576b\"],[0.6666666666666666,\"#ed7953\"],[0.7777777777777778,\"#fb9f3a\"],[0.8888888888888888,\"#fdca26\"],[1.0,\"#f0f921\"]],\"type\":\"histogram2dcontour\"}],\"histogram2d\":[{\"colorbar\":{\"outlinewidth\":0,\"ticks\":\"\"},\"colorscale\":[[0.0,\"#0d0887\"],[0.1111111111111111,\"#46039f\"],[0.2222222222222222,\"#7201a8\"],[0.3333333333333333,\"#9c179e\"],[0.4444444444444444,\"#bd3786\"],[0.5555555555555556,\"#d8576b\"],[0.6666666666666666,\"#ed7953\"],[0.7777777777777778,\"#fb9f3a\"],[0.8888888888888888,\"#fdca26\"],[1.0,\"#f0f921\"]],\"type\":\"histogram2d\"}],\"histogram\":[{\"marker\":{\"pattern\":{\"fillmode\":\"overlay\",\"size\":10,\"solidity\":0.2}},\"type\":\"histogram\"}],\"mesh3d\":[{\"colorbar\":{\"outlinewidth\":0,\"ticks\":\"\"},\"type\":\"mesh3d\"}],\"parcoords\":[{\"line\":{\"colorbar\":{\"outlinewidth\":0,\"ticks\":\"\"}},\"type\":\"parcoords\"}],\"pie\":[{\"automargin\":true,\"type\":\"pie\"}],\"scatter3d\":[{\"line\":{\"colorbar\":{\"outlinewidth\":0,\"ticks\":\"\"}},\"marker\":{\"colorbar\":{\"outlinewidth\":0,\"ticks\":\"\"}},\"type\":\"scatter3d\"}],\"scattercarpet\":[{\"marker\":{\"colorbar\":{\"outlinewidth\":0,\"ticks\":\"\"}},\"type\":\"scattercarpet\"}],\"scattergeo\":[{\"marker\":{\"colorbar\":{\"outlinewidth\":0,\"ticks\":\"\"}},\"type\":\"scattergeo\"}],\"scattergl\":[{\"marker\":{\"colorbar\":{\"outlinewidth\":0,\"ticks\":\"\"}},\"type\":\"scattergl\"}],\"scattermapbox\":[{\"marker\":{\"colorbar\":{\"outlinewidth\":0,\"ticks\":\"\"}},\"type\":\"scattermapbox\"}],\"scatterpolargl\":[{\"marker\":{\"colorbar\":{\"outlinewidth\":0,\"ticks\":\"\"}},\"type\":\"scatterpolargl\"}],\"scatterpolar\":[{\"marker\":{\"colorbar\":{\"outlinewidth\":0,\"ticks\":\"\"}},\"type\":\"scatterpolar\"}],\"scatter\":[{\"marker\":{\"colorbar\":{\"outlinewidth\":0,\"ticks\":\"\"}},\"type\":\"scatter\"}],\"scatterternary\":[{\"marker\":{\"colorbar\":{\"outlinewidth\":0,\"ticks\":\"\"}},\"type\":\"scatterternary\"}],\"surface\":[{\"colorbar\":{\"outlinewidth\":0,\"ticks\":\"\"},\"colorscale\":[[0.0,\"#0d0887\"],[0.1111111111111111,\"#46039f\"],[0.2222222222222222,\"#7201a8\"],[0.3333333333333333,\"#9c179e\"],[0.4444444444444444,\"#bd3786\"],[0.5555555555555556,\"#d8576b\"],[0.6666666666666666,\"#ed7953\"],[0.7777777777777778,\"#fb9f3a\"],[0.8888888888888888,\"#fdca26\"],[1.0,\"#f0f921\"]],\"type\":\"surface\"}],\"table\":[{\"cells\":{\"fill\":{\"color\":\"#EBF0F8\"},\"line\":{\"color\":\"white\"}},\"header\":{\"fill\":{\"color\":\"#C8D4E3\"},\"line\":{\"color\":\"white\"}},\"type\":\"table\"}]},\"layout\":{\"annotationdefaults\":{\"arrowcolor\":\"#2a3f5f\",\"arrowhead\":0,\"arrowwidth\":1},\"autotypenumbers\":\"strict\",\"coloraxis\":{\"colorbar\":{\"outlinewidth\":0,\"ticks\":\"\"}},\"colorscale\":{\"diverging\":[[0,\"#8e0152\"],[0.1,\"#c51b7d\"],[0.2,\"#de77ae\"],[0.3,\"#f1b6da\"],[0.4,\"#fde0ef\"],[0.5,\"#f7f7f7\"],[0.6,\"#e6f5d0\"],[0.7,\"#b8e186\"],[0.8,\"#7fbc41\"],[0.9,\"#4d9221\"],[1,\"#276419\"]],\"sequential\":[[0.0,\"#0d0887\"],[0.1111111111111111,\"#46039f\"],[0.2222222222222222,\"#7201a8\"],[0.3333333333333333,\"#9c179e\"],[0.4444444444444444,\"#bd3786\"],[0.5555555555555556,\"#d8576b\"],[0.6666666666666666,\"#ed7953\"],[0.7777777777777778,\"#fb9f3a\"],[0.8888888888888888,\"#fdca26\"],[1.0,\"#f0f921\"]],\"sequentialminus\":[[0.0,\"#0d0887\"],[0.1111111111111111,\"#46039f\"],[0.2222222222222222,\"#7201a8\"],[0.3333333333333333,\"#9c179e\"],[0.4444444444444444,\"#bd3786\"],[0.5555555555555556,\"#d8576b\"],[0.6666666666666666,\"#ed7953\"],[0.7777777777777778,\"#fb9f3a\"],[0.8888888888888888,\"#fdca26\"],[1.0,\"#f0f921\"]]},\"colorway\":[\"#636efa\",\"#EF553B\",\"#00cc96\",\"#ab63fa\",\"#FFA15A\",\"#19d3f3\",\"#FF6692\",\"#B6E880\",\"#FF97FF\",\"#FECB52\"],\"font\":{\"color\":\"#2a3f5f\"},\"geo\":{\"bgcolor\":\"white\",\"lakecolor\":\"white\",\"landcolor\":\"#E5ECF6\",\"showlakes\":true,\"showland\":true,\"subunitcolor\":\"white\"},\"hoverlabel\":{\"align\":\"left\"},\"hovermode\":\"closest\",\"mapbox\":{\"style\":\"light\"},\"paper_bgcolor\":\"white\",\"plot_bgcolor\":\"#E5ECF6\",\"polar\":{\"angularaxis\":{\"gridcolor\":\"white\",\"linecolor\":\"white\",\"ticks\":\"\"},\"bgcolor\":\"#E5ECF6\",\"radialaxis\":{\"gridcolor\":\"white\",\"linecolor\":\"white\",\"ticks\":\"\"}},\"scene\":{\"xaxis\":{\"backgroundcolor\":\"#E5ECF6\",\"gridcolor\":\"white\",\"gridwidth\":2,\"linecolor\":\"white\",\"showbackground\":true,\"ticks\":\"\",\"zerolinecolor\":\"white\"},\"yaxis\":{\"backgroundcolor\":\"#E5ECF6\",\"gridcolor\":\"white\",\"gridwidth\":2,\"linecolor\":\"white\",\"showbackground\":true,\"ticks\":\"\",\"zerolinecolor\":\"white\"},\"zaxis\":{\"backgroundcolor\":\"#E5ECF6\",\"gridcolor\":\"white\",\"gridwidth\":2,\"linecolor\":\"white\",\"showbackground\":true,\"ticks\":\"\",\"zerolinecolor\":\"white\"}},\"shapedefaults\":{\"line\":{\"color\":\"#2a3f5f\"}},\"ternary\":{\"aaxis\":{\"gridcolor\":\"white\",\"linecolor\":\"white\",\"ticks\":\"\"},\"baxis\":{\"gridcolor\":\"white\",\"linecolor\":\"white\",\"ticks\":\"\"},\"bgcolor\":\"#E5ECF6\",\"caxis\":{\"gridcolor\":\"white\",\"linecolor\":\"white\",\"ticks\":\"\"}},\"title\":{\"x\":0.05},\"xaxis\":{\"automargin\":true,\"gridcolor\":\"white\",\"linecolor\":\"white\",\"ticks\":\"\",\"title\":{\"standoff\":15},\"zerolinecolor\":\"white\",\"zerolinewidth\":2},\"yaxis\":{\"automargin\":true,\"gridcolor\":\"white\",\"linecolor\":\"white\",\"ticks\":\"\",\"title\":{\"standoff\":15},\"zerolinecolor\":\"white\",\"zerolinewidth\":2}}},\"title\":{\"text\":\"Clusters\"}},                        {\"responsive\": true}                    ).then(function(){\n",
       "                            \n",
       "var gd = document.getElementById('e2a002f9-5c81-460f-a5d3-83dbc0f5d669');\n",
       "var x = new MutationObserver(function (mutations, observer) {{\n",
       "        var display = window.getComputedStyle(gd).display;\n",
       "        if (!display || display === 'none') {{\n",
       "            console.log([gd, 'removed!']);\n",
       "            Plotly.purge(gd);\n",
       "            observer.disconnect();\n",
       "        }}\n",
       "}});\n",
       "\n",
       "// Listen for the removal of the full notebook cells\n",
       "var notebookContainer = gd.closest('#notebook-container');\n",
       "if (notebookContainer) {{\n",
       "    x.observe(notebookContainer, {childList: true});\n",
       "}}\n",
       "\n",
       "// Listen for the clearing of the current output cell\n",
       "var outputEl = gd.closest('.output');\n",
       "if (outputEl) {{\n",
       "    x.observe(outputEl, {childList: true});\n",
       "}}\n",
       "\n",
       "                        })                };                });            </script>        </div>"
      ]
     },
     "metadata": {},
     "output_type": "display_data"
    },
    {
     "data": {
      "text/plain": [
       "<Figure size 1440x1440 with 0 Axes>"
      ]
     },
     "metadata": {},
     "output_type": "display_data"
    }
   ],
   "source": [
    "plt.figure(figsize=(20,20))\n",
    "df['label3'] =  labels3\n",
    "trace1 = go.Scatter3d(\n",
    "    x= df['Age'],\n",
    "    y= df['Spending Score (1-100)'],\n",
    "    z= df['Annual Income (k$)'],\n",
    "    mode='markers',\n",
    "     marker=dict(\n",
    "        color = df['label3'], \n",
    "        size= 20,\n",
    "        line=dict(\n",
    "            color= df['label3'],\n",
    "            width= 12\n",
    "        ),\n",
    "        opacity=0.8\n",
    "     )\n",
    ")\n",
    "data = [trace1]\n",
    "layout = go.Layout(\n",
    "#     margin=dict(\n",
    "#         l=0,\n",
    "#         r=0,\n",
    "#         b=0,\n",
    "#         t=0\n",
    "#     )\n",
    "    title= 'Clusters',\n",
    "    scene = dict(\n",
    "            xaxis = dict(title  = 'Age'),\n",
    "            yaxis = dict(title  = 'Spending Score'),\n",
    "            zaxis = dict(title  = 'Annual Income')\n",
    "        )\n",
    ")\n",
    "fig = go.Figure(data=data, layout=layout)\n",
    "py.offline.iplot(fig)"
   ]
  },
  {
   "cell_type": "code",
   "execution_count": 105,
   "id": "d7f5422b",
   "metadata": {},
   "outputs": [
    {
     "data": {
      "image/png": "[encoded data removed]",
      "text/plain": [
       "<Figure size 1440x720 with 1 Axes>"
      ]
     },
     "metadata": {
      "needs_background": "light"
     },
     "output_type": "display_data"
    }
   ],
   "source": [
    "#Create and display a dendrogram\n",
    "import scipy.cluster.hierarchy as shc\n",
    "plt.figure(figsize=(20, 10))  \n",
    "plt.title('Dendrogram')\n",
    "plt.xlabel('Mall_Customers')\n",
    "plt.ylabel('Euclidean distances')\n",
    "plt.axhline(y=275, color='r', linestyle='--')\n",
    "plt.axhline(y=410, color='r', linestyle='--')\n",
    "dend = shc.dendrogram(shc.linkage(X, method='ward'))"
   ]
  },
  {
   "cell_type": "code",
   "execution_count": 111,
   "id": "d7bb7293",
   "metadata": {},
   "outputs": [],
   "source": [
    "#Implement model\n",
    "agglo = AgglomerativeClustering(n_clusters=2, affinity='euclidean', linkage='ward') "
   ]
  },
  {
   "cell_type": "code",
   "execution_count": 112,
   "id": "5ac7914c",
   "metadata": {},
   "outputs": [],
   "source": [
    "y_agglo = agglo.fit_predict(X)"
   ]
  },
  {
   "cell_type": "code",
   "execution_count": 113,
   "id": "22e7ed0b",
   "metadata": {},
   "outputs": [
    {
     "data": {
      "text/plain": [
       "<AxesSubplot:xlabel='0', ylabel='1'>"
      ]
     },
     "execution_count": 113,
     "metadata": {},
     "output_type": "execute_result"
    },
    {
     "data": {
      "image/png": "[encoded data removed]",
      "text/plain": [
       "<Figure size 1440x720 with 1 Axes>"
      ]
     },
     "metadata": {
      "needs_background": "light"
     },
     "output_type": "display_data"
    }
   ],
   "source": [
    "plt.figure(figsize=(20,10))\n",
    "sns.scatterplot(x = pca_df[0], y = pca_df[1], hue=y_agglo)"
   ]
  },
  {
   "cell_type": "code",
   "execution_count": 114,
   "id": "a09336f9",
   "metadata": {},
   "outputs": [],
   "source": [
    "y_a_df = pd.DataFrame(y_agglo, columns=['Cluster (Agglomerative)'])\n",
    "new_a_df = pd.concat([df, y_a_df], axis=1)"
   ]
  },
  {
   "cell_type": "code",
   "execution_count": 125,
   "id": "8322a263",
   "metadata": {},
   "outputs": [
    {
     "data": {
      "application/vnd.plotly.v1+json": {
       "config": {
        "plotlyServerURL": "https://plot.ly"
       },
       "data": [
        {
         "customdata": [
          [
           "Male",
           19,
           15,
           39
          ],
          [
           "Male",
           21,
           15,
           81
          ],
          [
           "Female",
           20,
           16,
           6
          ],
          [
           "Female",
           23,
           16,
           77
          ],
          [
           "Female",
           31,
           17,
           40
          ],
          [
           "Female",
           22,
           17,
           76
          ],
          [
           "Female",
           35,
           18,
           6
          ],
          [
           "Female",
           23,
           18,
           94
          ],
          [
           "Male",
           64,
           19,
           3
          ],
          [
           "Female",
           30,
           19,
           72
          ],
          [
           "Male",
           67,
           19,
           14
          ],
          [
           "Female",
           35,
           19,
           99
          ],
          [
           "Female",
           58,
           20,
           15
          ],
          [
           "Female",
           24,
           20,
           77
          ],
          [
           "Male",
           37,
           20,
           13
          ],
          [
           "Male",
           22,
           20,
           79
          ],
          [
           "Female",
           35,
           21,
           35
          ],
          [
           "Male",
           20,
           21,
           66
          ],
          [
           "Male",
           52,
           23,
           29
          ],
          [
           "Female",
           35,
           23,
           98
          ],
          [
           "Male",
           35,
           24,
           35
          ],
          [
           "Male",
           25,
           24,
           73
          ],
          [
           "Female",
           46,
           25,
           5
          ],
          [
           "Male",
           31,
           25,
           73
          ],
          [
           "Female",
           54,
           28,
           14
          ],
          [
           "Male",
           29,
           28,
           82
          ],
          [
           "Female",
           45,
           28,
           32
          ],
          [
           "Male",
           35,
           28,
           61
          ],
          [
           "Female",
           40,
           29,
           31
          ],
          [
           "Female",
           23,
           29,
           87
          ],
          [
           "Male",
           60,
           30,
           4
          ],
          [
           "Female",
           21,
           30,
           73
          ],
          [
           "Male",
           53,
           33,
           4
          ],
          [
           "Male",
           18,
           33,
           92
          ],
          [
           "Female",
           49,
           33,
           14
          ],
          [
           "Female",
           21,
           33,
           81
          ],
          [
           "Female",
           42,
           34,
           17
          ],
          [
           "Female",
           30,
           34,
           73
          ],
          [
           "Female",
           36,
           37,
           26
          ],
          [
           "Female",
           20,
           37,
           75
          ],
          [
           "Female",
           65,
           38,
           35
          ],
          [
           "Male",
           24,
           38,
           92
          ],
          [
           "Male",
           48,
           39,
           36
          ],
          [
           "Female",
           31,
           39,
           61
          ],
          [
           "Female",
           49,
           39,
           28
          ],
          [
           "Female",
           24,
           39,
           65
          ],
          [
           "Female",
           50,
           40,
           55
          ],
          [
           "Female",
           27,
           40,
           47
          ],
          [
           "Female",
           29,
           40,
           42
          ],
          [
           "Female",
           31,
           40,
           42
          ],
          [
           "Female",
           49,
           42,
           52
          ],
          [
           "Male",
           33,
           42,
           60
          ],
          [
           "Female",
           31,
           43,
           54
          ],
          [
           "Male",
           59,
           43,
           60
          ],
          [
           "Female",
           50,
           43,
           45
          ],
          [
           "Male",
           47,
           43,
           41
          ],
          [
           "Female",
           51,
           44,
           50
          ],
          [
           "Male",
           69,
           44,
           46
          ],
          [
           "Female",
           27,
           46,
           51
          ],
          [
           "Male",
           53,
           46,
           46
          ],
          [
           "Male",
           70,
           46,
           56
          ],
          [
           "Male",
           19,
           46,
           55
          ],
          [
           "Female",
           67,
           47,
           52
          ],
          [
           "Female",
           54,
           47,
           59
          ],
          [
           "Male",
           63,
           48,
           51
          ],
          [
           "Male",
           18,
           48,
           59
          ],
          [
           "Female",
           43,
           48,
           50
          ],
          [
           "Female",
           68,
           48,
           48
          ],
          [
           "Male",
           19,
           48,
           59
          ],
          [
           "Female",
           32,
           48,
           47
          ],
          [
           "Male",
           70,
           49,
           55
          ],
          [
           "Female",
           47,
           49,
           42
          ],
          [
           "Female",
           60,
           50,
           49
          ],
          [
           "Female",
           60,
           50,
           56
          ],
          [
           "Male",
           59,
           54,
           47
          ],
          [
           "Male",
           26,
           54,
           54
          ],
          [
           "Female",
           45,
           54,
           53
          ],
          [
           "Male",
           40,
           54,
           48
          ],
          [
           "Female",
           23,
           54,
           52
          ],
          [
           "Female",
           49,
           54,
           42
          ],
          [
           "Male",
           57,
           54,
           51
          ],
          [
           "Male",
           38,
           54,
           55
          ],
          [
           "Male",
           67,
           54,
           41
          ],
          [
           "Female",
           46,
           54,
           44
          ],
          [
           "Female",
           21,
           54,
           57
          ],
          [
           "Male",
           48,
           54,
           46
          ],
          [
           "Female",
           55,
           57,
           58
          ],
          [
           "Female",
           22,
           57,
           55
          ],
          [
           "Female",
           34,
           58,
           60
          ],
          [
           "Female",
           50,
           58,
           46
          ],
          [
           "Female",
           68,
           59,
           55
          ],
          [
           "Male",
           18,
           59,
           41
          ],
          [
           "Male",
           48,
           60,
           49
          ],
          [
           "Female",
           40,
           60,
           40
          ],
          [
           "Female",
           32,
           60,
           42
          ],
          [
           "Male",
           24,
           60,
           52
          ],
          [
           "Female",
           47,
           60,
           47
          ],
          [
           "Female",
           27,
           60,
           50
          ],
          [
           "Male",
           48,
           61,
           42
          ],
          [
           "Male",
           20,
           61,
           49
          ],
          [
           "Female",
           23,
           62,
           41
          ],
          [
           "Female",
           49,
           62,
           48
          ],
          [
           "Male",
           67,
           62,
           59
          ],
          [
           "Male",
           26,
           62,
           55
          ],
          [
           "Male",
           49,
           62,
           56
          ],
          [
           "Female",
           21,
           62,
           42
          ],
          [
           "Female",
           66,
           63,
           50
          ],
          [
           "Male",
           54,
           63,
           46
          ],
          [
           "Male",
           68,
           63,
           43
          ],
          [
           "Male",
           66,
           63,
           48
          ],
          [
           "Male",
           65,
           63,
           52
          ],
          [
           "Female",
           19,
           63,
           54
          ],
          [
           "Female",
           38,
           64,
           42
          ],
          [
           "Male",
           19,
           64,
           46
          ],
          [
           "Female",
           18,
           65,
           48
          ],
          [
           "Female",
           19,
           65,
           50
          ],
          [
           "Female",
           63,
           65,
           43
          ],
          [
           "Female",
           49,
           65,
           59
          ],
          [
           "Female",
           51,
           67,
           43
          ],
          [
           "Female",
           50,
           67,
           57
          ],
          [
           "Male",
           27,
           67,
           56
          ],
          [
           "Female",
           38,
           67,
           40
          ],
          [
           "Female",
           40,
           69,
           58
          ],
          [
           "Male",
           39,
           69,
           91
          ],
          [
           "Female",
           23,
           70,
           29
          ],
          [
           "Female",
           31,
           70,
           77
          ],
          [
           "Male",
           43,
           71,
           35
          ],
          [
           "Male",
           40,
           71,
           95
          ],
          [
           "Male",
           59,
           71,
           11
          ],
          [
           "Male",
           38,
           71,
           75
          ],
          [
           "Male",
           47,
           71,
           9
          ],
          [
           "Male",
           39,
           71,
           75
          ],
          [
           "Female",
           25,
           72,
           34
          ],
          [
           "Female",
           31,
           72,
           71
          ],
          [
           "Male",
           20,
           73,
           5
          ],
          [
           "Female",
           29,
           73,
           88
          ],
          [
           "Female",
           44,
           73,
           7
          ],
          [
           "Male",
           32,
           73,
           73
          ],
          [
           "Male",
           19,
           74,
           10
          ],
          [
           "Female",
           35,
           74,
           72
          ],
          [
           "Female",
           57,
           75,
           5
          ],
          [
           "Male",
           32,
           75,
           93
          ],
          [
           "Female",
           28,
           76,
           40
          ],
          [
           "Female",
           32,
           76,
           87
          ],
          [
           "Male",
           25,
           77,
           12
          ],
          [
           "Male",
           28,
           77,
           97
          ],
          [
           "Male",
           48,
           77,
           36
          ],
          [
           "Female",
           32,
           77,
           74
          ],
          [
           "Female",
           34,
           78,
           22
          ],
          [
           "Male",
           34,
           78,
           90
          ],
          [
           "Male",
           43,
           78,
           17
          ],
          [
           "Male",
           39,
           78,
           88
          ],
          [
           "Female",
           44,
           78,
           20
          ],
          [
           "Female",
           38,
           78,
           76
          ],
          [
           "Female",
           47,
           78,
           16
          ],
          [
           "Female",
           27,
           78,
           89
          ],
          [
           "Male",
           37,
           78,
           1
          ],
          [
           "Female",
           30,
           78,
           78
          ],
          [
           "Male",
           34,
           78,
           1
          ],
          [
           "Female",
           30,
           78,
           73
          ],
          [
           "Female",
           56,
           79,
           35
          ],
          [
           "Female",
           29,
           79,
           83
          ],
          [
           "Male",
           19,
           81,
           5
          ],
          [
           "Female",
           31,
           81,
           93
          ],
          [
           "Male",
           50,
           85,
           26
          ],
          [
           "Female",
           36,
           85,
           75
          ],
          [
           "Male",
           42,
           86,
           20
          ],
          [
           "Female",
           33,
           86,
           95
          ],
          [
           "Female",
           36,
           87,
           27
          ],
          [
           "Male",
           32,
           87,
           63
          ],
          [
           "Male",
           40,
           87,
           13
          ],
          [
           "Male",
           28,
           87,
           75
          ],
          [
           "Male",
           36,
           87,
           10
          ],
          [
           "Male",
           36,
           87,
           92
          ],
          [
           "Female",
           52,
           88,
           13
          ],
          [
           "Female",
           30,
           88,
           86
          ],
          [
           "Male",
           58,
           88,
           15
          ],
          [
           "Male",
           27,
           88,
           69
          ],
          [
           "Male",
           59,
           93,
           14
          ],
          [
           "Male",
           35,
           93,
           90
          ],
          [
           "Female",
           37,
           97,
           32
          ],
          [
           "Female",
           32,
           97,
           86
          ],
          [
           "Male",
           46,
           98,
           15
          ],
          [
           "Female",
           29,
           98,
           88
          ],
          [
           "Female",
           41,
           99,
           39
          ],
          [
           "Male",
           30,
           99,
           97
          ],
          [
           "Female",
           54,
           101,
           24
          ],
          [
           "Male",
           28,
           101,
           68
          ],
          [
           "Female",
           41,
           103,
           17
          ],
          [
           "Female",
           36,
           103,
           85
          ],
          [
           "Female",
           34,
           103,
           23
          ],
          [
           "Female",
           32,
           103,
           69
          ],
          [
           "Male",
           33,
           113,
           8
          ],
          [
           "Female",
           38,
           113,
           91
          ],
          [
           "Female",
           47,
           120,
           16
          ],
          [
           "Female",
           35,
           120,
           79
          ],
          [
           "Female",
           45,
           126,
           28
          ],
          [
           "Male",
           32,
           126,
           74
          ],
          [
           "Male",
           32,
           137,
           18
          ],
          [
           "Male",
           30,
           137,
           83
          ]
         ],
         "hovertemplate": "0=%{x}<br>1=%{y}<br>Gender=%{customdata[0]}<br>Age=%{customdata[1]}<br>Annual Income (k$)=%{customdata[2]}<br>Spending Score (1-100)=%{customdata[3]}<br>Cluster (Agglomerative)=%{marker.color}<extra></extra>",
         "legendgroup": "",
         "marker": {
          "color": [
           1,
           1,
           1,
           1,
           1,
           1,
           1,
           1,
           1,
           1,
           1,
           1,
           1,
           1,
           1,
           1,
           1,
           1,
           1,
           1,
           1,
           1,
           1,
           1,
           1,
           1,
           1,
           1,
           1,
           1,
           1,
           1,
           1,
           1,
           1,
           1,
           1,
           1,
           1,
           1,
           1,
           1,
           1,
           1,
           1,
           1,
           1,
           1,
           1,
           1,
           1,
           1,
           1,
           1,
           1,
           1,
           1,
           1,
           1,
           1,
           1,
           1,
           1,
           1,
           1,
           1,
           1,
           1,
           1,
           1,
           1,
           1,
           1,
           1,
           1,
           1,
           1,
           1,
           1,
           1,
           1,
           1,
           1,
           1,
           1,
           1,
           1,
           1,
           1,
           1,
           1,
           1,
           1,
           1,
           1,
           1,
           1,
           1,
           1,
           1,
           1,
           1,
           1,
           1,
           1,
           1,
           1,
           1,
           1,
           1,
           1,
           1,
           1,
           1,
           1,
           1,
           1,
           1,
           1,
           1,
           1,
           1,
           1,
           0,
           1,
           0,
           0,
           0,
           0,
           0,
           0,
           0,
           1,
           0,
           0,
           0,
           0,
           0,
           0,
           0,
           0,
           0,
           1,
           0,
           0,
           0,
           0,
           0,
           0,
           0,
           0,
           0,
           0,
           0,
           0,
           0,
           0,
           0,
           0,
           0,
           0,
           0,
           0,
           0,
           0,
           0,
           0,
           0,
           0,
           0,
           0,
           0,
           0,
           0,
           0,
           0,
           0,
           0,
           0,
           0,
           0,
           0,
           0,
           0,
           0,
           0,
           0,
           0,
           0,
           0,
           0,
           0,
           0,
           0,
           0,
           0,
           0,
           0,
           0,
           0
          ],
          "coloraxis": "coloraxis",
          "symbol": "circle"
         },
         "mode": "markers",
         "name": "",
         "orientation": "v",
         "showlegend": false,
         "type": "scatter",
         "x": [
          -31.870507802005786,
          0.763396907641417,
          -57.40872556861486,
          -2.169896483288472,
          -32.17491965978335,
          -2.178277766629788,
          -59.06605652876711,
          12.369326099715982,
          -66.31565681499914,
          -5.656775337751948,
          -58.236617886090286,
          14.620259233023141,
          -55.1612125648372,
          -0.004306605838724794,
          -52.76474737167736,
          1.9456347992203202,
          -34.50623489513607,
          -7.305730315481951,
          -41.25749327077519,
          16.188826807788487,
          -32.74031183710684,
          -0.9827027388168058,
          -57.81028209512068,
          -1.5279069190090864,
          -50.4821841130093,
          7.689933062327894,
          -34.633479266781,
          -9.9498386919536,
          -33.88596375043209,
          13.342401794241127,
          -58.29871229992809,
          3.3050401769318998,
          -55.209969842440934,
          20.57181938426103,
          -46.594108016681105,
          11.358935255816803,
          -42.32465809005924,
          3.958836455001173,
          -32.35092130903202,
          9.18649451746992,
          -30.168563563980552,
          22.38117928144106,
          -25.581364643346998,
          -2.7188906794895056,
          -32.05831086412522,
          1.7479147303962492,
          -10.436738474316819,
          -12.378303896953613,
          -16.686234809833525,
          -17.064183209678646,
          -11.428471743528979,
          -2.1169125239123514,
          -5.866302120365908,
          -6.441600702555834,
          -16.530780442357177,
          -19.10784385301733,
          -12.201131109901864,
          -18.746652718935774,
          -5.7024717704673105,
          -14.545783481488662,
          -9.898379854102599,
          -1.0466921606589972,
          -11.886802245419673,
          -3.928162128177682,
          -11.328260928993314,
          3.4635500883775547,
          -8.334773433149074,
          -14.631121436426987,
          3.2745758884549936,
          -8.61404674182179,
          -8.918453298680324,
          -14.790001234351905,
          -11.156049295753395,
          -5.6540737775046805,
          -10.184504023672444,
          1.5536200920207464,
          -2.8228862091148494,
          -5.807997722536846,
          0.5485496865745072,
          -12.224744537481635,
          -6.662569613399489,
          0.07192619555698568,
          -16.412276638694678,
          -10.08582893250004,
          4.85648059945442,
          -8.891784327131242,
          0.9832773627235751,
          4.861436452347177,
          7.1123695856543305,
          -6.915168649604053,
          -2.654094705404424,
          -4.209335745773848,
          -3.001948703251901,
          -8.564123627334048,
          -5.480337022739656,
          3.8914216027104134,
          -4.384967508543258,
          1.752505997728818,
          -7.915283202157534,
          2.8779699139228554,
          -3.3882836873574185,
          -2.799637367095264,
          2.444788562975202,
          7.048744749372326,
          3.4883346537604067,
          -2.224338784905336,
          -3.8515647412217864,
          -4.727860352578903,
          -9.731488659315618,
          -5.423557746435703,
          -2.0905975360853106,
          8.174208665566363,
          -4.259618144902703,
          2.4748776640537726,
          4.824485888533326,
          6.207504693824681,
          -7.609335621016664,
          7.612247219610517,
          -4.164363183259789,
          7.028562053160193,
          10.588972148772115,
          -4.065688092087387,
          10.881582593678907,
          37.0084413796311,
          -8.111113563896303,
          28.10492496185724,
          -6.5859775273626715,
          41.140735228822535,
          -28.473480788690637,
          25.798753576528487,
          -27.777783394833843,
          25.609779376605925,
          -3.3817974120204766,
          24.566227984901644,
          -24.6421839686664,
          38.89475794840814,
          -27.605571761593932,
          26.537887809536077,
          -19.934586236365963,
          25.77360972650452,
          -30.456947327114968,
          43.43509990036141,
          3.1218230812259113,
          39.30776190406273,
          -17.73051537265818,
          48.51226474916564,
          -3.213005908310046,
          29.678448389515346,
          -10.982677126548555,
          42.46508505072465,
          -16.613427438886387,
          39.948221045897924,
          -14.44441213098807,
          30.70523721453699,
          -18.155320741183584,
          43.0019079475756,
          -28.05552628106237,
          33.78902381913138,
          -27.488603681294677,
          29.859041306096586,
          -4.333513971611328,
          38.496621551431815,
          -19.74408161399921,
          47.15592021634244,
          -6.741791179480137,
          34.417676247176686,
          -9.357335576398327,
          51.293169918426614,
          -2.132873839271183,
          26.91889705426957,
          -13.892721675458843,
          37.10675188524333,
          -15.494814383589473,
          48.956898830181146,
          -15.571771055186485,
          45.963406033417826,
          -15.133623249507922,
          33.16838808886721,
          -13.165388855322055,
          51.10572614094824,
          7.4945446672718345,
          50.8832268076604,
          -6.979522657006427,
          53.610783431985084,
          13.417905424516453,
          61.084418774868226,
          0.34857532510495165,
          39.8457506377977,
          -1.5194535554643238,
          52.87317962142167,
          4.519344859635345,
          41.053132379400566,
          -1.1952182861156928,
          63.09762043064909,
          6.567602071225675,
          58.3530721345348,
          19.909354618412763,
          58.52185833732616,
          20.981105404110302,
          72.44882647340775
         ],
         "xaxis": "x",
         "y": [
          -33.00142530774926,
          -56.84386532086798,
          -13.122936191157871,
          -53.47790486205223,
          -30.387004999670335,
          -52.226580756092225,
          -9.541706693027361,
          -61.617684291004345,
          -3.2135993377670045,
          -47.26645335253608,
          -9.13375312453968,
          -62.107294035974796,
          -10.07797780444942,
          -50.1134367494043,
          -11.68041990219277,
          -51.52319431797477,
          -23.76007337136263,
          -43.51587243807365,
          -16.47343197905353,
          -58.29987754480805,
          -21.33494618903909,
          -44.453314311148254,
          -1.8685457878217597,
          -42.85914736640781,
          -3.5609192150507876,
          -45.861172822468944,
          -15.07005050623618,
          -33.0231963957271,
          -14.342587211809022,
          -48.70815621933717,
          4.580759271151111,
          -40.12692075803402,
          6.089130033292181,
          -48.999047230998634,
          -0.17386659226093987,
          -42.29310222692669,
          -2.003988029208309,
          -35.7147310223204,
          -5.529874296802283,
          -35.74708303163301,
          -6.088729918366259,
          -44.17137737649347,
          -8.080676221341678,
          -24.654924205406957,
          -3.358402367242248,
          -27.86733495119753,
          -17.914728134772613,
          -16.33561914987022,
          -13.204120837093654,
          -12.942190431327237,
          -14.70720113856738,
          -21.39395303591496,
          -17.40402622582803,
          -17.180482033510323,
          -9.75046513842879,
          -7.847706421470311,
          -11.680692115114542,
          -7.0276641376086495,
          -13.781019110831247,
          -7.506355928857649,
          -11.019083293863355,
          -17.12439505950504,
          -8.307948849463695,
          -14.027891556759625,
          -7.449520352153331,
          -17.934263133114,
          -9.494910828415499,
          -5.0729535935311905,
          -17.80329793023079,
          -9.213787315924725,
          -8.020042530137788,
          -3.5713656382252554,
          -5.077837343116539,
          -9.095232412930736,
          -0.8274724734309733,
          -9.166719238391098,
          -6.104466802208082,
          -3.8897249096139905,
          -8.411787684236673,
          0.7324434047470678,
          -3.3850572048055048,
          -8.169050385194605,
          3.663730638046878,
          -0.8082793667066184,
          -11.543285997013234,
          -1.6941761237442545,
          -5.239255498062579,
          -7.839366449002425,
          -8.328976193972865,
          1.8012571917868865,
          -0.19821566149240274,
          1.2883143339754854,
          1.4343374966967442,
          5.551838106249315,
          3.356289320379581,
          -3.4305681167063797,
          2.45119945661759,
          -1.8898453452526947,
          6.26010829395212,
          -1.4243124565919558,
          4.3682675307150785,
          3.7559677358643433,
          -0.19970800766018365,
          -3.2736270002636836,
          -0.8353409153518816,
          3.532423543546629,
          5.642924749516036,
          6.36699664052563,
          9.922250225096656,
          6.790751912320091,
          4.364132383828773,
          -2.808094111602944,
          7.375583447443562,
          2.591590267054459,
          2.1211736288083736,
          1.1043116688875285,
          10.884175665562962,
          -0.1319544772344273,
          10.929344685846806,
          2.763589343335202,
          0.3253032584234007,
          10.948537792571159,
          2.496775187983435,
          -16.573338201166695,
          17.72223632706886,
          -8.777893957162808,
          17.70643462376207,
          -17.121275869009242,
          33.5758038235421,
          -5.904934646735103,
          33.15204855174764,
          -5.773969443851892,
          16.731350280707495,
          -3.71766101386828,
          33.52839385439144,
          -12.927746576027996,
          35.523731560784434,
          -3.926147246347947,
          31.33623647193927,
          -2.1509623288551056,
          39.99085781595257,
          -13.787667419506143,
          16.914267310709686,
          -9.535810203652792,
          33.399327708758015,
          -14.990431101764738,
          22.63760142142318,
          -1.2665579179852509,
          29.647254448127814,
          -9.3788690872101,
          33.69550918108684,
          -7.576215909989987,
          32.104733639763964,
          -0.8202181360488704,
          34.79328357402171,
          -9.721711925990542,
          42.09233526622003,
          -3.0157669219186047,
          41.69943965757039,
          -0.14619901490846415,
          25.875988080773244,
          -5.207924304370775,
          39.86443447103767,
          -9.068378257742275,
          35.105673460739325,
          5.150395131675004,
          38.30980905352699,
          -5.912396377574004,
          34.314998493854716,
          13.130248751848864,
          42.87364944501595,
          5.719424963491688,
          44.07152937768919,
          -2.989384297277112,
          45.25360760705565,
          0.4766817012769779,
          44.89157166155085,
          9.840316976461825,
          49.63832908304199,
          2.877732027290822,
          39.66015306413959,
          8.013993654014023,
          51.40374650136413,
          7.281646610001508,
          37.78337026074059,
          3.055765307707651,
          49.7113730741351,
          21.054080217482408,
          53.64297196134993,
          13.962022411595967,
          49.28273405275528,
          22.620778902495584,
          65.84422984531432,
          18.864228603362026,
          68.74506412655128,
          31.016926063624993,
          66.4464251086076,
          38.343852726632605,
          79.37514628699915,
          41.8088330901009
         ],
         "yaxis": "y"
        }
       ],
       "layout": {
        "coloraxis": {
         "colorbar": {
          "title": {
           "text": "Cluster (Agglomerative)"
          }
         },
         "colorscale": [
          [
           0,
           "#0d0887"
          ],
          [
           0.1111111111111111,
           "#46039f"
          ],
          [
           0.2222222222222222,
           "#7201a8"
          ],
          [
           0.3333333333333333,
           "#9c179e"
          ],
          [
           0.4444444444444444,
           "#bd3786"
          ],
          [
           0.5555555555555556,
           "#d8576b"
          ],
          [
           0.6666666666666666,
           "#ed7953"
          ],
          [
           0.7777777777777778,
           "#fb9f3a"
          ],
          [
           0.8888888888888888,
           "#fdca26"
          ],
          [
           1,
           "#f0f921"
          ]
         ]
        },
        "legend": {
         "tracegroupgap": 0
        },
        "margin": {
         "t": 60
        },
        "template": {
         "data": {
          "bar": [
           {
            "error_x": {
             "color": "#2a3f5f"
            },
            "error_y": {
             "color": "#2a3f5f"
            },
            "marker": {
             "line": {
              "color": "#E5ECF6",
              "width": 0.5
             },
             "pattern": {
              "fillmode": "overlay",
              "size": 10,
              "solidity": 0.2
             }
            },
            "type": "bar"
           }
          ],
          "barpolar": [
           {
            "marker": {
             "line": {
              "color": "#E5ECF6",
              "width": 0.5
             },
             "pattern": {
              "fillmode": "overlay",
              "size": 10,
              "solidity": 0.2
             }
            },
            "type": "barpolar"
           }
          ],
          "carpet": [
           {
            "aaxis": {
             "endlinecolor": "#2a3f5f",
             "gridcolor": "white",
             "linecolor": "white",
             "minorgridcolor": "white",
             "startlinecolor": "#2a3f5f"
            },
            "baxis": {
             "endlinecolor": "#2a3f5f",
             "gridcolor": "white",
             "linecolor": "white",
             "minorgridcolor": "white",
             "startlinecolor": "#2a3f5f"
            },
            "type": "carpet"
           }
          ],
          "choropleth": [
           {
            "colorbar": {
             "outlinewidth": 0,
             "ticks": ""
            },
            "type": "choropleth"
           }
          ],
          "contour": [
           {
            "colorbar": {
             "outlinewidth": 0,
             "ticks": ""
            },
            "colorscale": [
             [
              0,
              "#0d0887"
             ],
             [
              0.1111111111111111,
              "#46039f"
             ],
             [
              0.2222222222222222,
              "#7201a8"
             ],
             [
              0.3333333333333333,
              "#9c179e"
             ],
             [
              0.4444444444444444,
              "#bd3786"
             ],
             [
              0.5555555555555556,
              "#d8576b"
             ],
             [
              0.6666666666666666,
              "#ed7953"
             ],
             [
              0.7777777777777778,
              "#fb9f3a"
             ],
             [
              0.8888888888888888,
              "#fdca26"
             ],
             [
              1,
              "#f0f921"
             ]
            ],
            "type": "contour"
           }
          ],
          "contourcarpet": [
           {
            "colorbar": {
             "outlinewidth": 0,
             "ticks": ""
            },
            "type": "contourcarpet"
           }
          ],
          "heatmap": [
           {
            "colorbar": {
             "outlinewidth": 0,
             "ticks": ""
            },
            "colorscale": [
             [
              0,
              "#0d0887"
             ],
             [
              0.1111111111111111,
              "#46039f"
             ],
             [
              0.2222222222222222,
              "#7201a8"
             ],
             [
              0.3333333333333333,
              "#9c179e"
             ],
             [
              0.4444444444444444,
              "#bd3786"
             ],
             [
              0.5555555555555556,
              "#d8576b"
             ],
             [
              0.6666666666666666,
              "#ed7953"
             ],
             [
              0.7777777777777778,
              "#fb9f3a"
             ],
             [
              0.8888888888888888,
              "#fdca26"
             ],
             [
              1,
              "#f0f921"
             ]
            ],
            "type": "heatmap"
           }
          ],
          "heatmapgl": [
           {
            "colorbar": {
             "outlinewidth": 0,
             "ticks": ""
            },
            "colorscale": [
             [
              0,
              "#0d0887"
             ],
             [
              0.1111111111111111,
              "#46039f"
             ],
             [
              0.2222222222222222,
              "#7201a8"
             ],
             [
              0.3333333333333333,
              "#9c179e"
             ],
             [
              0.4444444444444444,
              "#bd3786"
             ],
             [
              0.5555555555555556,
              "#d8576b"
             ],
             [
              0.6666666666666666,
              "#ed7953"
             ],
             [
              0.7777777777777778,
              "#fb9f3a"
             ],
             [
              0.8888888888888888,
              "#fdca26"
             ],
             [
              1,
              "#f0f921"
             ]
            ],
            "type": "heatmapgl"
           }
          ],
          "histogram": [
           {
            "marker": {
             "pattern": {
              "fillmode": "overlay",
              "size": 10,
              "solidity": 0.2
             }
            },
            "type": "histogram"
           }
          ],
          "histogram2d": [
           {
            "colorbar": {
             "outlinewidth": 0,
             "ticks": ""
            },
            "colorscale": [
             [
              0,
              "#0d0887"
             ],
             [
              0.1111111111111111,
              "#46039f"
             ],
             [
              0.2222222222222222,
              "#7201a8"
             ],
             [
              0.3333333333333333,
              "#9c179e"
             ],
             [
              0.4444444444444444,
              "#bd3786"
             ],
             [
              0.5555555555555556,
              "#d8576b"
             ],
             [
              0.6666666666666666,
              "#ed7953"
             ],
             [
              0.7777777777777778,
              "#fb9f3a"
             ],
             [
              0.8888888888888888,
              "#fdca26"
             ],
             [
              1,
              "#f0f921"
             ]
            ],
            "type": "histogram2d"
           }
          ],
          "histogram2dcontour": [
           {
            "colorbar": {
             "outlinewidth": 0,
             "ticks": ""
            },
            "colorscale": [
             [
              0,
              "#0d0887"
             ],
             [
              0.1111111111111111,
              "#46039f"
             ],
             [
              0.2222222222222222,
              "#7201a8"
             ],
             [
              0.3333333333333333,
              "#9c179e"
             ],
             [
              0.4444444444444444,
              "#bd3786"
             ],
             [
              0.5555555555555556,
              "#d8576b"
             ],
             [
              0.6666666666666666,
              "#ed7953"
             ],
             [
              0.7777777777777778,
              "#fb9f3a"
             ],
             [
              0.8888888888888888,
              "#fdca26"
             ],
             [
              1,
              "#f0f921"
             ]
            ],
            "type": "histogram2dcontour"
           }
          ],
          "mesh3d": [
           {
            "colorbar": {
             "outlinewidth": 0,
             "ticks": ""
            },
            "type": "mesh3d"
           }
          ],
          "parcoords": [
           {
            "line": {
             "colorbar": {
              "outlinewidth": 0,
              "ticks": ""
             }
            },
            "type": "parcoords"
           }
          ],
          "pie": [
           {
            "automargin": true,
            "type": "pie"
           }
          ],
          "scatter": [
           {
            "marker": {
             "colorbar": {
              "outlinewidth": 0,
              "ticks": ""
             }
            },
            "type": "scatter"
           }
          ],
          "scatter3d": [
           {
            "line": {
             "colorbar": {
              "outlinewidth": 0,
              "ticks": ""
             }
            },
            "marker": {
             "colorbar": {
              "outlinewidth": 0,
              "ticks": ""
             }
            },
            "type": "scatter3d"
           }
          ],
          "scattercarpet": [
           {
            "marker": {
             "colorbar": {
              "outlinewidth": 0,
              "ticks": ""
             }
            },
            "type": "scattercarpet"
           }
          ],
          "scattergeo": [
           {
            "marker": {
             "colorbar": {
              "outlinewidth": 0,
              "ticks": ""
             }
            },
            "type": "scattergeo"
           }
          ],
          "scattergl": [
           {
            "marker": {
             "colorbar": {
              "outlinewidth": 0,
              "ticks": ""
             }
            },
            "type": "scattergl"
           }
          ],
          "scattermapbox": [
           {
            "marker": {
             "colorbar": {
              "outlinewidth": 0,
              "ticks": ""
             }
            },
            "type": "scattermapbox"
           }
          ],
          "scatterpolar": [
           {
            "marker": {
             "colorbar": {
              "outlinewidth": 0,
              "ticks": ""
             }
            },
            "type": "scatterpolar"
           }
          ],
          "scatterpolargl": [
           {
            "marker": {
             "colorbar": {
              "outlinewidth": 0,
              "ticks": ""
             }
            },
            "type": "scatterpolargl"
           }
          ],
          "scatterternary": [
           {
            "marker": {
             "colorbar": {
              "outlinewidth": 0,
              "ticks": ""
             }
            },
            "type": "scatterternary"
           }
          ],
          "surface": [
           {
            "colorbar": {
             "outlinewidth": 0,
             "ticks": ""
            },
            "colorscale": [
             [
              0,
              "#0d0887"
             ],
             [
              0.1111111111111111,
              "#46039f"
             ],
             [
              0.2222222222222222,
              "#7201a8"
             ],
             [
              0.3333333333333333,
              "#9c179e"
             ],
             [
              0.4444444444444444,
              "#bd3786"
             ],
             [
              0.5555555555555556,
              "#d8576b"
             ],
             [
              0.6666666666666666,
              "#ed7953"
             ],
             [
              0.7777777777777778,
              "#fb9f3a"
             ],
             [
              0.8888888888888888,
              "#fdca26"
             ],
             [
              1,
              "#f0f921"
             ]
            ],
            "type": "surface"
           }
          ],
          "table": [
           {
            "cells": {
             "fill": {
              "color": "#EBF0F8"
             },
             "line": {
              "color": "white"
             }
            },
            "header": {
             "fill": {
              "color": "#C8D4E3"
             },
             "line": {
              "color": "white"
             }
            },
            "type": "table"
           }
          ]
         },
         "layout": {
          "annotationdefaults": {
           "arrowcolor": "#2a3f5f",
           "arrowhead": 0,
           "arrowwidth": 1
          },
          "autotypenumbers": "strict",
          "coloraxis": {
           "colorbar": {
            "outlinewidth": 0,
            "ticks": ""
           }
          },
          "colorscale": {
           "diverging": [
            [
             0,
             "#8e0152"
            ],
            [
             0.1,
             "#c51b7d"
            ],
            [
             0.2,
             "#de77ae"
            ],
            [
             0.3,
             "#f1b6da"
            ],
            [
             0.4,
             "#fde0ef"
            ],
            [
             0.5,
             "#f7f7f7"
            ],
            [
             0.6,
             "#e6f5d0"
            ],
            [
             0.7,
             "#b8e186"
            ],
            [
             0.8,
             "#7fbc41"
            ],
            [
             0.9,
             "#4d9221"
            ],
            [
             1,
             "#276419"
            ]
           ],
           "sequential": [
            [
             0,
             "#0d0887"
            ],
            [
             0.1111111111111111,
             "#46039f"
            ],
            [
             0.2222222222222222,
             "#7201a8"
            ],
            [
             0.3333333333333333,
             "#9c179e"
            ],
            [
             0.4444444444444444,
             "#bd3786"
            ],
            [
             0.5555555555555556,
             "#d8576b"
            ],
            [
             0.6666666666666666,
             "#ed7953"
            ],
            [
             0.7777777777777778,
             "#fb9f3a"
            ],
            [
             0.8888888888888888,
             "#fdca26"
            ],
            [
             1,
             "#f0f921"
            ]
           ],
           "sequentialminus": [
            [
             0,
             "#0d0887"
            ],
            [
             0.1111111111111111,
             "#46039f"
            ],
            [
             0.2222222222222222,
             "#7201a8"
            ],
            [
             0.3333333333333333,
             "#9c179e"
            ],
            [
             0.4444444444444444,
             "#bd3786"
            ],
            [
             0.5555555555555556,
             "#d8576b"
            ],
            [
             0.6666666666666666,
             "#ed7953"
            ],
            [
             0.7777777777777778,
             "#fb9f3a"
            ],
            [
             0.8888888888888888,
             "#fdca26"
            ],
            [
             1,
             "#f0f921"
            ]
           ]
          },
          "colorway": [
           "#636efa",
           "#EF553B",
           "#00cc96",
           "#ab63fa",
           "#FFA15A",
           "#19d3f3",
           "#FF6692",
           "#B6E880",
           "#FF97FF",
           "#FECB52"
          ],
          "font": {
           "color": "#2a3f5f"
          },
          "geo": {
           "bgcolor": "white",
           "lakecolor": "white",
           "landcolor": "#E5ECF6",
           "showlakes": true,
           "showland": true,
           "subunitcolor": "white"
          },
          "hoverlabel": {
           "align": "left"
          },
          "hovermode": "closest",
          "mapbox": {
           "style": "light"
          },
          "paper_bgcolor": "white",
          "plot_bgcolor": "#E5ECF6",
          "polar": {
           "angularaxis": {
            "gridcolor": "white",
            "linecolor": "white",
            "ticks": ""
           },
           "bgcolor": "#E5ECF6",
           "radialaxis": {
            "gridcolor": "white",
            "linecolor": "white",
            "ticks": ""
           }
          },
          "scene": {
           "xaxis": {
            "backgroundcolor": "#E5ECF6",
            "gridcolor": "white",
            "gridwidth": 2,
            "linecolor": "white",
            "showbackground": true,
            "ticks": "",
            "zerolinecolor": "white"
           },
           "yaxis": {
            "backgroundcolor": "#E5ECF6",
            "gridcolor": "white",
            "gridwidth": 2,
            "linecolor": "white",
            "showbackground": true,
            "ticks": "",
            "zerolinecolor": "white"
           },
           "zaxis": {
            "backgroundcolor": "#E5ECF6",
            "gridcolor": "white",
            "gridwidth": 2,
            "linecolor": "white",
            "showbackground": true,
            "ticks": "",
            "zerolinecolor": "white"
           }
          },
          "shapedefaults": {
           "line": {
            "color": "#2a3f5f"
           }
          },
          "ternary": {
           "aaxis": {
            "gridcolor": "white",
            "linecolor": "white",
            "ticks": ""
           },
           "baxis": {
            "gridcolor": "white",
            "linecolor": "white",
            "ticks": ""
           },
           "bgcolor": "#E5ECF6",
           "caxis": {
            "gridcolor": "white",
            "linecolor": "white",
            "ticks": ""
           }
          },
          "title": {
           "x": 0.05
          },
          "xaxis": {
           "automargin": true,
           "gridcolor": "white",
           "linecolor": "white",
           "ticks": "",
           "title": {
            "standoff": 15
           },
           "zerolinecolor": "white",
           "zerolinewidth": 2
          },
          "yaxis": {
           "automargin": true,
           "gridcolor": "white",
           "linecolor": "white",
           "ticks": "",
           "title": {
            "standoff": 15
           },
           "zerolinecolor": "white",
           "zerolinewidth": 2
          }
         }
        },
        "xaxis": {
         "anchor": "y",
         "domain": [
          0,
          1
         ],
         "title": {
          "text": "0"
         }
        },
        "yaxis": {
         "anchor": "x",
         "domain": [
          0,
          1
         ],
         "title": {
          "text": "1"
         }
        }
       }
      },
      "text/html": [
       "<div>                            <div id=\"2c21f380-2f15-48ec-a819-94ddcc177540\" class=\"plotly-graph-div\" style=\"height:525px; width:100%;\"></div>            <script type=\"text/javascript\">                require([\"plotly\"], function(Plotly) {                    window.PLOTLYENV=window.PLOTLYENV || {};                                    if (document.getElementById(\"2c21f380-2f15-48ec-a819-94ddcc177540\")) {                    Plotly.newPlot(                        \"2c21f380-2f15-48ec-a819-94ddcc177540\",                        [{\"customdata\":[[\"Male\",19,15,39],[\"Male\",21,15,81],[\"Female\",20,16,6],[\"Female\",23,16,77],[\"Female\",31,17,40],[\"Female\",22,17,76],[\"Female\",35,18,6],[\"Female\",23,18,94],[\"Male\",64,19,3],[\"Female\",30,19,72],[\"Male\",67,19,14],[\"Female\",35,19,99],[\"Female\",58,20,15],[\"Female\",24,20,77],[\"Male\",37,20,13],[\"Male\",22,20,79],[\"Female\",35,21,35],[\"Male\",20,21,66],[\"Male\",52,23,29],[\"Female\",35,23,98],[\"Male\",35,24,35],[\"Male\",25,24,73],[\"Female\",46,25,5],[\"Male\",31,25,73],[\"Female\",54,28,14],[\"Male\",29,28,82],[\"Female\",45,28,32],[\"Male\",35,28,61],[\"Female\",40,29,31],[\"Female\",23,29,87],[\"Male\",60,30,4],[\"Female\",21,30,73],[\"Male\",53,33,4],[\"Male\",18,33,92],[\"Female\",49,33,14],[\"Female\",21,33,81],[\"Female\",42,34,17],[\"Female\",30,34,73],[\"Female\",36,37,26],[\"Female\",20,37,75],[\"Female\",65,38,35],[\"Male\",24,38,92],[\"Male\",48,39,36],[\"Female\",31,39,61],[\"Female\",49,39,28],[\"Female\",24,39,65],[\"Female\",50,40,55],[\"Female\",27,40,47],[\"Female\",29,40,42],[\"Female\",31,40,42],[\"Female\",49,42,52],[\"Male\",33,42,60],[\"Female\",31,43,54],[\"Male\",59,43,60],[\"Female\",50,43,45],[\"Male\",47,43,41],[\"Female\",51,44,50],[\"Male\",69,44,46],[\"Female\",27,46,51],[\"Male\",53,46,46],[\"Male\",70,46,56],[\"Male\",19,46,55],[\"Female\",67,47,52],[\"Female\",54,47,59],[\"Male\",63,48,51],[\"Male\",18,48,59],[\"Female\",43,48,50],[\"Female\",68,48,48],[\"Male\",19,48,59],[\"Female\",32,48,47],[\"Male\",70,49,55],[\"Female\",47,49,42],[\"Female\",60,50,49],[\"Female\",60,50,56],[\"Male\",59,54,47],[\"Male\",26,54,54],[\"Female\",45,54,53],[\"Male\",40,54,48],[\"Female\",23,54,52],[\"Female\",49,54,42],[\"Male\",57,54,51],[\"Male\",38,54,55],[\"Male\",67,54,41],[\"Female\",46,54,44],[\"Female\",21,54,57],[\"Male\",48,54,46],[\"Female\",55,57,58],[\"Female\",22,57,55],[\"Female\",34,58,60],[\"Female\",50,58,46],[\"Female\",68,59,55],[\"Male\",18,59,41],[\"Male\",48,60,49],[\"Female\",40,60,40],[\"Female\",32,60,42],[\"Male\",24,60,52],[\"Female\",47,60,47],[\"Female\",27,60,50],[\"Male\",48,61,42],[\"Male\",20,61,49],[\"Female\",23,62,41],[\"Female\",49,62,48],[\"Male\",67,62,59],[\"Male\",26,62,55],[\"Male\",49,62,56],[\"Female\",21,62,42],[\"Female\",66,63,50],[\"Male\",54,63,46],[\"Male\",68,63,43],[\"Male\",66,63,48],[\"Male\",65,63,52],[\"Female\",19,63,54],[\"Female\",38,64,42],[\"Male\",19,64,46],[\"Female\",18,65,48],[\"Female\",19,65,50],[\"Female\",63,65,43],[\"Female\",49,65,59],[\"Female\",51,67,43],[\"Female\",50,67,57],[\"Male\",27,67,56],[\"Female\",38,67,40],[\"Female\",40,69,58],[\"Male\",39,69,91],[\"Female\",23,70,29],[\"Female\",31,70,77],[\"Male\",43,71,35],[\"Male\",40,71,95],[\"Male\",59,71,11],[\"Male\",38,71,75],[\"Male\",47,71,9],[\"Male\",39,71,75],[\"Female\",25,72,34],[\"Female\",31,72,71],[\"Male\",20,73,5],[\"Female\",29,73,88],[\"Female\",44,73,7],[\"Male\",32,73,73],[\"Male\",19,74,10],[\"Female\",35,74,72],[\"Female\",57,75,5],[\"Male\",32,75,93],[\"Female\",28,76,40],[\"Female\",32,76,87],[\"Male\",25,77,12],[\"Male\",28,77,97],[\"Male\",48,77,36],[\"Female\",32,77,74],[\"Female\",34,78,22],[\"Male\",34,78,90],[\"Male\",43,78,17],[\"Male\",39,78,88],[\"Female\",44,78,20],[\"Female\",38,78,76],[\"Female\",47,78,16],[\"Female\",27,78,89],[\"Male\",37,78,1],[\"Female\",30,78,78],[\"Male\",34,78,1],[\"Female\",30,78,73],[\"Female\",56,79,35],[\"Female\",29,79,83],[\"Male\",19,81,5],[\"Female\",31,81,93],[\"Male\",50,85,26],[\"Female\",36,85,75],[\"Male\",42,86,20],[\"Female\",33,86,95],[\"Female\",36,87,27],[\"Male\",32,87,63],[\"Male\",40,87,13],[\"Male\",28,87,75],[\"Male\",36,87,10],[\"Male\",36,87,92],[\"Female\",52,88,13],[\"Female\",30,88,86],[\"Male\",58,88,15],[\"Male\",27,88,69],[\"Male\",59,93,14],[\"Male\",35,93,90],[\"Female\",37,97,32],[\"Female\",32,97,86],[\"Male\",46,98,15],[\"Female\",29,98,88],[\"Female\",41,99,39],[\"Male\",30,99,97],[\"Female\",54,101,24],[\"Male\",28,101,68],[\"Female\",41,103,17],[\"Female\",36,103,85],[\"Female\",34,103,23],[\"Female\",32,103,69],[\"Male\",33,113,8],[\"Female\",38,113,91],[\"Female\",47,120,16],[\"Female\",35,120,79],[\"Female\",45,126,28],[\"Male\",32,126,74],[\"Male\",32,137,18],[\"Male\",30,137,83]],\"hovertemplate\":\"0=%{x}<br>1=%{y}<br>Gender=%{customdata[0]}<br>Age=%{customdata[1]}<br>Annual Income (k$)=%{customdata[2]}<br>Spending Score (1-100)=%{customdata[3]}<br>Cluster (Agglomerative)=%{marker.color}<extra></extra>\",\"legendgroup\":\"\",\"marker\":{\"color\":[1,1,1,1,1,1,1,1,1,1,1,1,1,1,1,1,1,1,1,1,1,1,1,1,1,1,1,1,1,1,1,1,1,1,1,1,1,1,1,1,1,1,1,1,1,1,1,1,1,1,1,1,1,1,1,1,1,1,1,1,1,1,1,1,1,1,1,1,1,1,1,1,1,1,1,1,1,1,1,1,1,1,1,1,1,1,1,1,1,1,1,1,1,1,1,1,1,1,1,1,1,1,1,1,1,1,1,1,1,1,1,1,1,1,1,1,1,1,1,1,1,1,1,0,1,0,0,0,0,0,0,0,1,0,0,0,0,0,0,0,0,0,1,0,0,0,0,0,0,0,0,0,0,0,0,0,0,0,0,0,0,0,0,0,0,0,0,0,0,0,0,0,0,0,0,0,0,0,0,0,0,0,0,0,0,0,0,0,0,0,0,0,0,0,0,0,0,0,0,0],\"coloraxis\":\"coloraxis\",\"symbol\":\"circle\"},\"mode\":\"markers\",\"name\":\"\",\"orientation\":\"v\",\"showlegend\":false,\"x\":[-31.870507802005786,0.763396907641417,-57.40872556861486,-2.169896483288472,-32.17491965978335,-2.178277766629788,-59.06605652876711,12.369326099715982,-66.31565681499914,-5.656775337751948,-58.236617886090286,14.620259233023141,-55.1612125648372,-0.004306605838724794,-52.76474737167736,1.9456347992203202,-34.50623489513607,-7.305730315481951,-41.25749327077519,16.188826807788487,-32.74031183710684,-0.9827027388168058,-57.81028209512068,-1.5279069190090864,-50.4821841130093,7.689933062327894,-34.633479266781,-9.9498386919536,-33.88596375043209,13.342401794241127,-58.29871229992809,3.3050401769318998,-55.209969842440934,20.57181938426103,-46.594108016681105,11.358935255816803,-42.32465809005924,3.958836455001173,-32.35092130903202,9.18649451746992,-30.168563563980552,22.38117928144106,-25.581364643346998,-2.7188906794895056,-32.05831086412522,1.7479147303962492,-10.436738474316819,-12.378303896953613,-16.686234809833525,-17.064183209678646,-11.428471743528979,-2.1169125239123514,-5.866302120365908,-6.441600702555834,-16.530780442357177,-19.10784385301733,-12.201131109901864,-18.746652718935774,-5.7024717704673105,-14.545783481488662,-9.898379854102599,-1.0466921606589972,-11.886802245419673,-3.928162128177682,-11.328260928993314,3.4635500883775547,-8.334773433149074,-14.631121436426987,3.2745758884549936,-8.61404674182179,-8.918453298680324,-14.790001234351905,-11.156049295753395,-5.6540737775046805,-10.184504023672444,1.5536200920207464,-2.8228862091148494,-5.807997722536846,0.5485496865745072,-12.224744537481635,-6.662569613399489,0.07192619555698568,-16.412276638694678,-10.08582893250004,4.85648059945442,-8.891784327131242,0.9832773627235751,4.861436452347177,7.1123695856543305,-6.915168649604053,-2.654094705404424,-4.209335745773848,-3.001948703251901,-8.564123627334048,-5.480337022739656,3.8914216027104134,-4.384967508543258,1.752505997728818,-7.915283202157534,2.8779699139228554,-3.3882836873574185,-2.799637367095264,2.444788562975202,7.048744749372326,3.4883346537604067,-2.224338784905336,-3.8515647412217864,-4.727860352578903,-9.731488659315618,-5.423557746435703,-2.0905975360853106,8.174208665566363,-4.259618144902703,2.4748776640537726,4.824485888533326,6.207504693824681,-7.609335621016664,7.612247219610517,-4.164363183259789,7.028562053160193,10.588972148772115,-4.065688092087387,10.881582593678907,37.0084413796311,-8.111113563896303,28.10492496185724,-6.5859775273626715,41.140735228822535,-28.473480788690637,25.798753576528487,-27.777783394833843,25.609779376605925,-3.3817974120204766,24.566227984901644,-24.6421839686664,38.89475794840814,-27.605571761593932,26.537887809536077,-19.934586236365963,25.77360972650452,-30.456947327114968,43.43509990036141,3.1218230812259113,39.30776190406273,-17.73051537265818,48.51226474916564,-3.213005908310046,29.678448389515346,-10.982677126548555,42.46508505072465,-16.613427438886387,39.948221045897924,-14.44441213098807,30.70523721453699,-18.155320741183584,43.0019079475756,-28.05552628106237,33.78902381913138,-27.488603681294677,29.859041306096586,-4.333513971611328,38.496621551431815,-19.74408161399921,47.15592021634244,-6.741791179480137,34.417676247176686,-9.357335576398327,51.293169918426614,-2.132873839271183,26.91889705426957,-13.892721675458843,37.10675188524333,-15.494814383589473,48.956898830181146,-15.571771055186485,45.963406033417826,-15.133623249507922,33.16838808886721,-13.165388855322055,51.10572614094824,7.4945446672718345,50.8832268076604,-6.979522657006427,53.610783431985084,13.417905424516453,61.084418774868226,0.34857532510495165,39.8457506377977,-1.5194535554643238,52.87317962142167,4.519344859635345,41.053132379400566,-1.1952182861156928,63.09762043064909,6.567602071225675,58.3530721345348,19.909354618412763,58.52185833732616,20.981105404110302,72.44882647340775],\"xaxis\":\"x\",\"y\":[-33.00142530774926,-56.84386532086798,-13.122936191157871,-53.47790486205223,-30.387004999670335,-52.226580756092225,-9.541706693027361,-61.617684291004345,-3.2135993377670045,-47.26645335253608,-9.13375312453968,-62.107294035974796,-10.07797780444942,-50.1134367494043,-11.68041990219277,-51.52319431797477,-23.76007337136263,-43.51587243807365,-16.47343197905353,-58.29987754480805,-21.33494618903909,-44.453314311148254,-1.8685457878217597,-42.85914736640781,-3.5609192150507876,-45.861172822468944,-15.07005050623618,-33.0231963957271,-14.342587211809022,-48.70815621933717,4.580759271151111,-40.12692075803402,6.089130033292181,-48.999047230998634,-0.17386659226093987,-42.29310222692669,-2.003988029208309,-35.7147310223204,-5.529874296802283,-35.74708303163301,-6.088729918366259,-44.17137737649347,-8.080676221341678,-24.654924205406957,-3.358402367242248,-27.86733495119753,-17.914728134772613,-16.33561914987022,-13.204120837093654,-12.942190431327237,-14.70720113856738,-21.39395303591496,-17.40402622582803,-17.180482033510323,-9.75046513842879,-7.847706421470311,-11.680692115114542,-7.0276641376086495,-13.781019110831247,-7.506355928857649,-11.019083293863355,-17.12439505950504,-8.307948849463695,-14.027891556759625,-7.449520352153331,-17.934263133114,-9.494910828415499,-5.0729535935311905,-17.80329793023079,-9.213787315924725,-8.020042530137788,-3.5713656382252554,-5.077837343116539,-9.095232412930736,-0.8274724734309733,-9.166719238391098,-6.104466802208082,-3.8897249096139905,-8.411787684236673,0.7324434047470678,-3.3850572048055048,-8.169050385194605,3.663730638046878,-0.8082793667066184,-11.543285997013234,-1.6941761237442545,-5.239255498062579,-7.839366449002425,-8.328976193972865,1.8012571917868865,-0.19821566149240274,1.2883143339754854,1.4343374966967442,5.551838106249315,3.356289320379581,-3.4305681167063797,2.45119945661759,-1.8898453452526947,6.26010829395212,-1.4243124565919558,4.3682675307150785,3.7559677358643433,-0.19970800766018365,-3.2736270002636836,-0.8353409153518816,3.532423543546629,5.642924749516036,6.36699664052563,9.922250225096656,6.790751912320091,4.364132383828773,-2.808094111602944,7.375583447443562,2.591590267054459,2.1211736288083736,1.1043116688875285,10.884175665562962,-0.1319544772344273,10.929344685846806,2.763589343335202,0.3253032584234007,10.948537792571159,2.496775187983435,-16.573338201166695,17.72223632706886,-8.777893957162808,17.70643462376207,-17.121275869009242,33.5758038235421,-5.904934646735103,33.15204855174764,-5.773969443851892,16.731350280707495,-3.71766101386828,33.52839385439144,-12.927746576027996,35.523731560784434,-3.926147246347947,31.33623647193927,-2.1509623288551056,39.99085781595257,-13.787667419506143,16.914267310709686,-9.535810203652792,33.399327708758015,-14.990431101764738,22.63760142142318,-1.2665579179852509,29.647254448127814,-9.3788690872101,33.69550918108684,-7.576215909989987,32.104733639763964,-0.8202181360488704,34.79328357402171,-9.721711925990542,42.09233526622003,-3.0157669219186047,41.69943965757039,-0.14619901490846415,25.875988080773244,-5.207924304370775,39.86443447103767,-9.068378257742275,35.105673460739325,5.150395131675004,38.30980905352699,-5.912396377574004,34.314998493854716,13.130248751848864,42.87364944501595,5.719424963491688,44.07152937768919,-2.989384297277112,45.25360760705565,0.4766817012769779,44.89157166155085,9.840316976461825,49.63832908304199,2.877732027290822,39.66015306413959,8.013993654014023,51.40374650136413,7.281646610001508,37.78337026074059,3.055765307707651,49.7113730741351,21.054080217482408,53.64297196134993,13.962022411595967,49.28273405275528,22.620778902495584,65.84422984531432,18.864228603362026,68.74506412655128,31.016926063624993,66.4464251086076,38.343852726632605,79.37514628699915,41.8088330901009],\"yaxis\":\"y\",\"type\":\"scatter\"}],                        {\"template\":{\"data\":{\"bar\":[{\"error_x\":{\"color\":\"#2a3f5f\"},\"error_y\":{\"color\":\"#2a3f5f\"},\"marker\":{\"line\":{\"color\":\"#E5ECF6\",\"width\":0.5},\"pattern\":{\"fillmode\":\"overlay\",\"size\":10,\"solidity\":0.2}},\"type\":\"bar\"}],\"barpolar\":[{\"marker\":{\"line\":{\"color\":\"#E5ECF6\",\"width\":0.5},\"pattern\":{\"fillmode\":\"overlay\",\"size\":10,\"solidity\":0.2}},\"type\":\"barpolar\"}],\"carpet\":[{\"aaxis\":{\"endlinecolor\":\"#2a3f5f\",\"gridcolor\":\"white\",\"linecolor\":\"white\",\"minorgridcolor\":\"white\",\"startlinecolor\":\"#2a3f5f\"},\"baxis\":{\"endlinecolor\":\"#2a3f5f\",\"gridcolor\":\"white\",\"linecolor\":\"white\",\"minorgridcolor\":\"white\",\"startlinecolor\":\"#2a3f5f\"},\"type\":\"carpet\"}],\"choropleth\":[{\"colorbar\":{\"outlinewidth\":0,\"ticks\":\"\"},\"type\":\"choropleth\"}],\"contour\":[{\"colorbar\":{\"outlinewidth\":0,\"ticks\":\"\"},\"colorscale\":[[0.0,\"#0d0887\"],[0.1111111111111111,\"#46039f\"],[0.2222222222222222,\"#7201a8\"],[0.3333333333333333,\"#9c179e\"],[0.4444444444444444,\"#bd3786\"],[0.5555555555555556,\"#d8576b\"],[0.6666666666666666,\"#ed7953\"],[0.7777777777777778,\"#fb9f3a\"],[0.8888888888888888,\"#fdca26\"],[1.0,\"#f0f921\"]],\"type\":\"contour\"}],\"contourcarpet\":[{\"colorbar\":{\"outlinewidth\":0,\"ticks\":\"\"},\"type\":\"contourcarpet\"}],\"heatmap\":[{\"colorbar\":{\"outlinewidth\":0,\"ticks\":\"\"},\"colorscale\":[[0.0,\"#0d0887\"],[0.1111111111111111,\"#46039f\"],[0.2222222222222222,\"#7201a8\"],[0.3333333333333333,\"#9c179e\"],[0.4444444444444444,\"#bd3786\"],[0.5555555555555556,\"#d8576b\"],[0.6666666666666666,\"#ed7953\"],[0.7777777777777778,\"#fb9f3a\"],[0.8888888888888888,\"#fdca26\"],[1.0,\"#f0f921\"]],\"type\":\"heatmap\"}],\"heatmapgl\":[{\"colorbar\":{\"outlinewidth\":0,\"ticks\":\"\"},\"colorscale\":[[0.0,\"#0d0887\"],[0.1111111111111111,\"#46039f\"],[0.2222222222222222,\"#7201a8\"],[0.3333333333333333,\"#9c179e\"],[0.4444444444444444,\"#bd3786\"],[0.5555555555555556,\"#d8576b\"],[0.6666666666666666,\"#ed7953\"],[0.7777777777777778,\"#fb9f3a\"],[0.8888888888888888,\"#fdca26\"],[1.0,\"#f0f921\"]],\"type\":\"heatmapgl\"}],\"histogram\":[{\"marker\":{\"pattern\":{\"fillmode\":\"overlay\",\"size\":10,\"solidity\":0.2}},\"type\":\"histogram\"}],\"histogram2d\":[{\"colorbar\":{\"outlinewidth\":0,\"ticks\":\"\"},\"colorscale\":[[0.0,\"#0d0887\"],[0.1111111111111111,\"#46039f\"],[0.2222222222222222,\"#7201a8\"],[0.3333333333333333,\"#9c179e\"],[0.4444444444444444,\"#bd3786\"],[0.5555555555555556,\"#d8576b\"],[0.6666666666666666,\"#ed7953\"],[0.7777777777777778,\"#fb9f3a\"],[0.8888888888888888,\"#fdca26\"],[1.0,\"#f0f921\"]],\"type\":\"histogram2d\"}],\"histogram2dcontour\":[{\"colorbar\":{\"outlinewidth\":0,\"ticks\":\"\"},\"colorscale\":[[0.0,\"#0d0887\"],[0.1111111111111111,\"#46039f\"],[0.2222222222222222,\"#7201a8\"],[0.3333333333333333,\"#9c179e\"],[0.4444444444444444,\"#bd3786\"],[0.5555555555555556,\"#d8576b\"],[0.6666666666666666,\"#ed7953\"],[0.7777777777777778,\"#fb9f3a\"],[0.8888888888888888,\"#fdca26\"],[1.0,\"#f0f921\"]],\"type\":\"histogram2dcontour\"}],\"mesh3d\":[{\"colorbar\":{\"outlinewidth\":0,\"ticks\":\"\"},\"type\":\"mesh3d\"}],\"parcoords\":[{\"line\":{\"colorbar\":{\"outlinewidth\":0,\"ticks\":\"\"}},\"type\":\"parcoords\"}],\"pie\":[{\"automargin\":true,\"type\":\"pie\"}],\"scatter\":[{\"marker\":{\"colorbar\":{\"outlinewidth\":0,\"ticks\":\"\"}},\"type\":\"scatter\"}],\"scatter3d\":[{\"line\":{\"colorbar\":{\"outlinewidth\":0,\"ticks\":\"\"}},\"marker\":{\"colorbar\":{\"outlinewidth\":0,\"ticks\":\"\"}},\"type\":\"scatter3d\"}],\"scattercarpet\":[{\"marker\":{\"colorbar\":{\"outlinewidth\":0,\"ticks\":\"\"}},\"type\":\"scattercarpet\"}],\"scattergeo\":[{\"marker\":{\"colorbar\":{\"outlinewidth\":0,\"ticks\":\"\"}},\"type\":\"scattergeo\"}],\"scattergl\":[{\"marker\":{\"colorbar\":{\"outlinewidth\":0,\"ticks\":\"\"}},\"type\":\"scattergl\"}],\"scattermapbox\":[{\"marker\":{\"colorbar\":{\"outlinewidth\":0,\"ticks\":\"\"}},\"type\":\"scattermapbox\"}],\"scatterpolar\":[{\"marker\":{\"colorbar\":{\"outlinewidth\":0,\"ticks\":\"\"}},\"type\":\"scatterpolar\"}],\"scatterpolargl\":[{\"marker\":{\"colorbar\":{\"outlinewidth\":0,\"ticks\":\"\"}},\"type\":\"scatterpolargl\"}],\"scatterternary\":[{\"marker\":{\"colorbar\":{\"outlinewidth\":0,\"ticks\":\"\"}},\"type\":\"scatterternary\"}],\"surface\":[{\"colorbar\":{\"outlinewidth\":0,\"ticks\":\"\"},\"colorscale\":[[0.0,\"#0d0887\"],[0.1111111111111111,\"#46039f\"],[0.2222222222222222,\"#7201a8\"],[0.3333333333333333,\"#9c179e\"],[0.4444444444444444,\"#bd3786\"],[0.5555555555555556,\"#d8576b\"],[0.6666666666666666,\"#ed7953\"],[0.7777777777777778,\"#fb9f3a\"],[0.8888888888888888,\"#fdca26\"],[1.0,\"#f0f921\"]],\"type\":\"surface\"}],\"table\":[{\"cells\":{\"fill\":{\"color\":\"#EBF0F8\"},\"line\":{\"color\":\"white\"}},\"header\":{\"fill\":{\"color\":\"#C8D4E3\"},\"line\":{\"color\":\"white\"}},\"type\":\"table\"}]},\"layout\":{\"annotationdefaults\":{\"arrowcolor\":\"#2a3f5f\",\"arrowhead\":0,\"arrowwidth\":1},\"autotypenumbers\":\"strict\",\"coloraxis\":{\"colorbar\":{\"outlinewidth\":0,\"ticks\":\"\"}},\"colorscale\":{\"diverging\":[[0,\"#8e0152\"],[0.1,\"#c51b7d\"],[0.2,\"#de77ae\"],[0.3,\"#f1b6da\"],[0.4,\"#fde0ef\"],[0.5,\"#f7f7f7\"],[0.6,\"#e6f5d0\"],[0.7,\"#b8e186\"],[0.8,\"#7fbc41\"],[0.9,\"#4d9221\"],[1,\"#276419\"]],\"sequential\":[[0.0,\"#0d0887\"],[0.1111111111111111,\"#46039f\"],[0.2222222222222222,\"#7201a8\"],[0.3333333333333333,\"#9c179e\"],[0.4444444444444444,\"#bd3786\"],[0.5555555555555556,\"#d8576b\"],[0.6666666666666666,\"#ed7953\"],[0.7777777777777778,\"#fb9f3a\"],[0.8888888888888888,\"#fdca26\"],[1.0,\"#f0f921\"]],\"sequentialminus\":[[0.0,\"#0d0887\"],[0.1111111111111111,\"#46039f\"],[0.2222222222222222,\"#7201a8\"],[0.3333333333333333,\"#9c179e\"],[0.4444444444444444,\"#bd3786\"],[0.5555555555555556,\"#d8576b\"],[0.6666666666666666,\"#ed7953\"],[0.7777777777777778,\"#fb9f3a\"],[0.8888888888888888,\"#fdca26\"],[1.0,\"#f0f921\"]]},\"colorway\":[\"#636efa\",\"#EF553B\",\"#00cc96\",\"#ab63fa\",\"#FFA15A\",\"#19d3f3\",\"#FF6692\",\"#B6E880\",\"#FF97FF\",\"#FECB52\"],\"font\":{\"color\":\"#2a3f5f\"},\"geo\":{\"bgcolor\":\"white\",\"lakecolor\":\"white\",\"landcolor\":\"#E5ECF6\",\"showlakes\":true,\"showland\":true,\"subunitcolor\":\"white\"},\"hoverlabel\":{\"align\":\"left\"},\"hovermode\":\"closest\",\"mapbox\":{\"style\":\"light\"},\"paper_bgcolor\":\"white\",\"plot_bgcolor\":\"#E5ECF6\",\"polar\":{\"angularaxis\":{\"gridcolor\":\"white\",\"linecolor\":\"white\",\"ticks\":\"\"},\"bgcolor\":\"#E5ECF6\",\"radialaxis\":{\"gridcolor\":\"white\",\"linecolor\":\"white\",\"ticks\":\"\"}},\"scene\":{\"xaxis\":{\"backgroundcolor\":\"#E5ECF6\",\"gridcolor\":\"white\",\"gridwidth\":2,\"linecolor\":\"white\",\"showbackground\":true,\"ticks\":\"\",\"zerolinecolor\":\"white\"},\"yaxis\":{\"backgroundcolor\":\"#E5ECF6\",\"gridcolor\":\"white\",\"gridwidth\":2,\"linecolor\":\"white\",\"showbackground\":true,\"ticks\":\"\",\"zerolinecolor\":\"white\"},\"zaxis\":{\"backgroundcolor\":\"#E5ECF6\",\"gridcolor\":\"white\",\"gridwidth\":2,\"linecolor\":\"white\",\"showbackground\":true,\"ticks\":\"\",\"zerolinecolor\":\"white\"}},\"shapedefaults\":{\"line\":{\"color\":\"#2a3f5f\"}},\"ternary\":{\"aaxis\":{\"gridcolor\":\"white\",\"linecolor\":\"white\",\"ticks\":\"\"},\"baxis\":{\"gridcolor\":\"white\",\"linecolor\":\"white\",\"ticks\":\"\"},\"bgcolor\":\"#E5ECF6\",\"caxis\":{\"gridcolor\":\"white\",\"linecolor\":\"white\",\"ticks\":\"\"}},\"title\":{\"x\":0.05},\"xaxis\":{\"automargin\":true,\"gridcolor\":\"white\",\"linecolor\":\"white\",\"ticks\":\"\",\"title\":{\"standoff\":15},\"zerolinecolor\":\"white\",\"zerolinewidth\":2},\"yaxis\":{\"automargin\":true,\"gridcolor\":\"white\",\"linecolor\":\"white\",\"ticks\":\"\",\"title\":{\"standoff\":15},\"zerolinecolor\":\"white\",\"zerolinewidth\":2}}},\"xaxis\":{\"anchor\":\"y\",\"domain\":[0.0,1.0],\"title\":{\"text\":\"0\"}},\"yaxis\":{\"anchor\":\"x\",\"domain\":[0.0,1.0],\"title\":{\"text\":\"1\"}},\"coloraxis\":{\"colorbar\":{\"title\":{\"text\":\"Cluster (Agglomerative)\"}},\"colorscale\":[[0.0,\"#0d0887\"],[0.1111111111111111,\"#46039f\"],[0.2222222222222222,\"#7201a8\"],[0.3333333333333333,\"#9c179e\"],[0.4444444444444444,\"#bd3786\"],[0.5555555555555556,\"#d8576b\"],[0.6666666666666666,\"#ed7953\"],[0.7777777777777778,\"#fb9f3a\"],[0.8888888888888888,\"#fdca26\"],[1.0,\"#f0f921\"]]},\"legend\":{\"tracegroupgap\":0},\"margin\":{\"t\":60}},                        {\"responsive\": true}                    ).then(function(){\n",
       "                            \n",
       "var gd = document.getElementById('2c21f380-2f15-48ec-a819-94ddcc177540');\n",
       "var x = new MutationObserver(function (mutations, observer) {{\n",
       "        var display = window.getComputedStyle(gd).display;\n",
       "        if (!display || display === 'none') {{\n",
       "            console.log([gd, 'removed!']);\n",
       "            Plotly.purge(gd);\n",
       "            observer.disconnect();\n",
       "        }}\n",
       "}});\n",
       "\n",
       "// Listen for the removal of the full notebook cells\n",
       "var notebookContainer = gd.closest('#notebook-container');\n",
       "if (notebookContainer) {{\n",
       "    x.observe(notebookContainer, {childList: true});\n",
       "}}\n",
       "\n",
       "// Listen for the clearing of the current output cell\n",
       "var outputEl = gd.closest('.output');\n",
       "if (outputEl) {{\n",
       "    x.observe(outputEl, {childList: true});\n",
       "}}\n",
       "\n",
       "                        })                };                });            </script>        </div>"
      ]
     },
     "metadata": {},
     "output_type": "display_data"
    },
    {
     "data": {
      "text/plain": [
       "<Figure size 1440x720 with 0 Axes>"
      ]
     },
     "metadata": {},
     "output_type": "display_data"
    }
   ],
   "source": [
    "plt.figure(figsize=(20,10))\n",
    "fig = px.scatter(pd.concat([new_a_df, pca_df], axis = 1), \n",
    "                 x = 0, y = 1, color='Cluster (Agglomerative)', hover_data=['Gender', 'Age' , 'Annual Income (k$)' ,'Spending Score (1-100)'])\n",
    "fig.show()"
   ]
  },
  {
   "cell_type": "code",
   "execution_count": null,
   "id": "103d3549",
   "metadata": {},
   "outputs": [],
   "source": []
  },
  {
   "cell_type": "code",
   "execution_count": null,
   "id": "fc4a8db5",
   "metadata": {},
   "outputs": [],
   "source": []
  },
  {
   "cell_type": "code",
   "execution_count": null,
   "id": "7d4c0811",
   "metadata": {},
   "outputs": [],
   "source": []
  },
  {
   "cell_type": "code",
   "execution_count": null,
   "id": "8dc36f85",
   "metadata": {},
   "outputs": [],
   "source": []
  },
  {
   "cell_type": "code",
   "execution_count": null,
   "id": "8428f637",
   "metadata": {},
   "outputs": [],
   "source": []
  },
  {
   "cell_type": "code",
   "execution_count": null,
   "id": "7d85837f",
   "metadata": {},
   "outputs": [],
   "source": []
  },
  {
   "cell_type": "code",
   "execution_count": null,
   "id": "4b43e12a",
   "metadata": {},
   "outputs": [],
   "source": []
  }
 ],
 "metadata": {
  "kernelspec": {
   "display_name": "Python 3 (ipykernel)",
   "language": "python",
   "name": "python3"
  },
  "language_info": {
   "codemirror_mode": {
    "name": "ipython",
    "version": 3
   },
   "file_extension": ".py",
   "mimetype": "text/x-python",
   "name": "python",
   "nbconvert_exporter": "python",
   "pygments_lexer": "ipython3",
   "version": "3.9.7"
  }
 },
 "nbformat": 4,
 "nbformat_minor": 5
}
